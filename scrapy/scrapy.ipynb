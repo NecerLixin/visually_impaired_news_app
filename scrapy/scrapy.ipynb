{
 "cells": [
  {
   "cell_type": "code",
   "execution_count": 28,
   "metadata": {},
   "outputs": [],
   "source": [
    "import requests\n",
    "from bs4 import BeautifulSoup\n",
    "import pandas as pd\n",
    "import json\n",
    "from lxml import etree\n",
    "import random\n",
    "import re\n",
    "import asyncio\n",
    "from pyppeteer import launch\n",
    "import nest_asyncio\n",
    "nest_asyncio.apply()"
   ]
  },
  {
   "cell_type": "code",
   "execution_count": 29,
   "metadata": {},
   "outputs": [],
   "source": [
    "async def fetch_webpage(url):\n",
    "    \"\"\"\n",
    "    使用 Pyppeteer 获取网页内容\n",
    "    \"\"\"\n",
    "    browser = await launch(headless=True)\n",
    "    page = await browser.newPage()\n",
    "    await page.goto(url)\n",
    "    content = await page.content()\n",
    "    await browser.close()\n",
    "    return content"
   ]
  },
  {
   "cell_type": "code",
   "execution_count": 30,
   "metadata": {},
   "outputs": [],
   "source": [
    "def get_random_headers()->dict:\n",
    "    \"\"\"\n",
    "    随机生成一个header，用于伪造浏览器\n",
    "\n",
    "    Returns:\n",
    "        dict: 返回一个浏览器header\n",
    "    \"\"\"\n",
    "    user_agents = [\n",
    "        \"Mozilla/5.0 (Windows NT 10.0; Win64; x64) AppleWebKit/537.36 (KHTML, like Gecko) Chrome/90.0.4430.93 Safari/537.36\",\n",
    "        \"Mozilla/5.0 (Windows NT 10.0; Win64; x64; rv:89.0) Gecko/20100101 Firefox/89.0\",\n",
    "        \"Mozilla/5.0 (Macintosh; Intel Mac OS X 10_15_7) AppleWebKit/537.36 (KHTML, like Gecko) Chrome/91.0.4472.114 Safari/537.36\",\n",
    "        \"Mozilla/5.0 (Macintosh; Intel Mac OS X 10_15_7) AppleWebKit/605.1.15 (KHTML, like Gecko) Version/14.1.1 Safari/605.1.15\",\n",
    "        \"Mozilla/5.0 (Windows NT 10.0; Win64; x64) AppleWebKit/537.36 (KHTML, like Gecko) Edge/91.0.864.48\",\n",
    "        \"Mozilla/5.0 (Windows NT 10.0; Win64; x64; rv:89.0) Gecko/20100101 Firefox/89.0\"\n",
    "    ]\n",
    "\n",
    "    headers = {\n",
    "        \"User-Agent\": random.choice(user_agents),\n",
    "        \"Accept\": \"text/html,application/xhtml+xml,application/xml;q=0.9,image/webp,*/*;q=0.8\",\n",
    "        \"Accept-Language\": \"zh-CN,zh-Hans;q=0.9\",\n",
    "        \"Connection\": \"keep-alive\",\n",
    "        \"Upgrade-Insecure-Requests\": \"1\",\n",
    "        \"DNT\": \"1\",  # Do Not Track Request Header\n",
    "        \"Accept-Encoding\": \"gzip, deflate, br\"\n",
    "    }\n",
    "\n",
    "    return headers"
   ]
  },
  {
   "cell_type": "code",
   "execution_count": 31,
   "metadata": {},
   "outputs": [
    {
     "name": "stderr",
     "output_type": "stream",
     "text": [
      "/Users/lijinliang/opt/anaconda3/envs/pytorch/lib/python3.10/site-packages/pyppeteer/util.py:29: RuntimeWarning: coroutine 'fetch_webpage' was never awaited\n",
      "  gc.collect()\n",
      "RuntimeWarning: Enable tracemalloc to get the object allocation traceback\n"
     ]
    }
   ],
   "source": [
    "def get_url_list(origin_url:str,date:str)->list:\n",
    "    \"\"\"\n",
    "    根据源页面的url获取源页面所有新闻的url,获取的新闻的url格式为：\n",
    "    https://news.cctv.com/year/month/day/abcdfjafa.shtml\n",
    "        \\n year 例如：2024\n",
    "        \\n month 例如：05\n",
    "        \\n day 例如：22\n",
    "    Args:\n",
    "        origin_url (str): 央视新闻网首页以及其各种分类界面\n",
    "        date (str): 日期字符串，例如 \"2024/05/22\"\n",
    "    Returns:\n",
    "        list: 包含所有新闻界面url和首页图片url的一个列表 \\n\n",
    "            [[page_url,img_url],...]\n",
    "    \"\"\"\n",
    "    content = asyncio.get_event_loop().run_until_complete(fetch_webpage(origin_url))\n",
    "    html = etree.HTML(content,parser=etree.HTMLParser())\n",
    "    node_list = html.xpath('//*[@id=\"newslist\"]/li')\n",
    "    url_list = []\n",
    "    for node in node_list:\n",
    "        page_url = node.xpath('div[@class=\"image\"]/a/@href')[0]\n",
    "        image_url = node.xpath('div[1]/a/img/@data-echo')[0]\n",
    "        url_list.append({'page_url':page_url,'image_url':image_url})\n",
    "    return url_list\n",
    "origin_url = \"https://news.cctv.com/\"\n",
    "url_list = get_url_list(origin_url,date=\"2024/05/22\")"
   ]
  },
  {
   "cell_type": "code",
   "execution_count": 32,
   "metadata": {},
   "outputs": [],
   "source": [
    "def get_all_kind_page(origin_url_dict:dict,date:str)->dict:\n",
    "    \"\"\"获得所有分类的新闻的URL，分类包括：国内、国际、经济、社会、法治、文娱、科技、生活、军事\n",
    "\n",
    "    Args:\n",
    "        origin_url_dict (dict): {\"新闻种类\":origin_url,...}\n",
    "        date (str): year/month/day\n",
    "\n",
    "    Returns:\n",
    "        dict: {\"新闻种类1\":[\"url1\",\"url2\",...],\n",
    "               \"新闻种类1\":[\"url1\",\"url2\",...],\n",
    "                ....}\n",
    "    \"\"\"\n",
    "    res = dict()\n",
    "    for news_kind, origin_url in origin_url_dict.items():\n",
    "        url_list = get_url_list(origin_url=origin_url,date=date)\n",
    "        res[news_kind] = url_list\n",
    "    return res"
   ]
  },
  {
   "cell_type": "code",
   "execution_count": 33,
   "metadata": {},
   "outputs": [],
   "source": [
    "origin_url_dict = {\n",
    "    \"首页\":\"https://news.cctv.com\",\n",
    "    \"国内\":\"https://news.cctv.com/china\",\n",
    "    \"国际\":\"https://news.cctv.com/world\",\n",
    "    \"经济\":\"https://jingji.cctv.com/\",\n",
    "    \"社会\":\"https://news.cctv.com/society\",\n",
    "    \"法治\":\"https://news.cctv.com/law\",\n",
    "    \"文娱\":\"https://news.cctv.com/ent\",\n",
    "    \"科技\":\"https://news.cctv.com/tech\",\n",
    "    \"生活\":\"https://news.cctv.com/life\",\n",
    "    \"军事\":\"https://military.cctv.com\",\n",
    "    \"人物\":\"https://people.cctv.com\",\n",
    "    \n",
    "}"
   ]
  },
  {
   "cell_type": "code",
   "execution_count": 34,
   "metadata": {},
   "outputs": [
    {
     "data": {
      "text/plain": [
       "[{'page_url': 'https://news.cctv.com/2024/05/23/ARTI8lVsmu4u2SLo7PzCrezW240523.shtml',\n",
       "  'image_url': 'https://p3.img.cctvpic.com/photoworkspace/2024/05/23/2024052312050076590.jpg'},\n",
       " {'page_url': 'https://news.cctv.com/2024/05/23/ARTIbrAY2tgPhDsuoJXuXWFb240523.shtml',\n",
       "  'image_url': 'https://p4.img.cctvpic.com/photoworkspace/2024/05/23/2024052311453871103.jpg'},\n",
       " {'page_url': 'https://news.cctv.com/2024/05/23/ARTIz8Z2Ykh0a693fVSvsAow240523.shtml',\n",
       "  'image_url': 'https://p5.img.cctvpic.com/photoworkspace/2024/05/23/2024052310480612460.jpg'},\n",
       " {'page_url': 'https://news.cctv.com/2024/05/23/ARTIznns2ETeYzOWMCl21YbA240523.shtml',\n",
       "  'image_url': 'https://p5.img.cctvpic.com/photoworkspace/2024/05/23/2024052307052831119.jpg'},\n",
       " {'page_url': 'https://news.cctv.com/2024/05/22/ARTIa5pZ8DGJ1gNXqEs3gTkL240522.shtml',\n",
       "  'image_url': 'https://p2.img.cctvpic.com/photoworkspace/2024/05/22/2024052218325560813.jpg'},\n",
       " {'page_url': 'https://news.cctv.com/2024/05/22/ARTI6KnUmHCDpGYglzMBj8OS240522.shtml',\n",
       "  'image_url': 'https://p2.img.cctvpic.com/photoworkspace/2024/05/22/2024052211322697670.jpg'},\n",
       " {'page_url': 'https://news.cctv.com/2024/05/22/ARTIqD698Rmtv7xca7nEs6OI240522.shtml',\n",
       "  'image_url': 'https://p5.img.cctvpic.com/photoworkspace/2024/05/22/2024052211062113372.jpg'},\n",
       " {'page_url': 'https://news.cctv.com/2024/05/22/ARTIMifs5JW2FINegykcMevM240522.shtml',\n",
       "  'image_url': 'https://p1.img.cctvpic.com/photoworkspace/2024/05/22/2024052210275578761.jpg'},\n",
       " {'page_url': 'https://news.cctv.com/2024/05/21/ARTIvY7FhHTObgeOtXLUTlaa240521.shtml',\n",
       "  'image_url': 'https://p4.img.cctvpic.com/photoworkspace/2024/05/21/2024052117254311749.jpg'},\n",
       " {'page_url': 'https://news.cctv.com/2024/05/21/ARTII67IR7mKA7zjh5IhZr6t240521.shtml',\n",
       "  'image_url': 'https://p5.img.cctvpic.com/photoworkspace/2024/05/21/2024052116082058271.jpg'},\n",
       " {'page_url': 'https://news.cctv.com/2024/05/21/ARTI5RZW4kUubXgQhHDViPvo240521.shtml',\n",
       "  'image_url': 'https://p1.img.cctvpic.com/photoworkspace/2024/05/21/2024052114242442268.jpg'},\n",
       " {'page_url': 'https://news.cctv.com/2024/05/20/ARTIwNiDvPspGGNjohyHjdmn240520.shtml',\n",
       "  'image_url': 'https://p2.img.cctvpic.com/photoworkspace/2024/05/20/2024052017431367922.jpg'},\n",
       " {'page_url': 'https://news.cctv.com/2024/05/20/ARTI5lKOg5LstIb9YugMLHqo240520.shtml',\n",
       "  'image_url': 'https://p5.img.cctvpic.com/photoworkspace/2024/05/20/2024052012135754078.jpg'},\n",
       " {'page_url': 'https://news.cctv.com/2024/05/20/ARTIngTqZk90Hi2Z5AicwOCd240520.shtml',\n",
       "  'image_url': 'https://p2.img.cctvpic.com/photoworkspace/2024/05/20/2024052012111466865.jpg'},\n",
       " {'page_url': 'https://news.cctv.com/2024/05/20/ARTItmNyUz3Mdi73E3asG8vo240520.shtml',\n",
       "  'image_url': 'https://p4.img.cctvpic.com/photoworkspace/2024/05/20/2024052009401824967.jpg'},\n",
       " {'page_url': 'https://news.cctv.com/2024/05/19/ARTI1PkqnUITWUiz4RJv959u240519.shtml',\n",
       "  'image_url': 'https://p1.img.cctvpic.com/photoworkspace/2024/05/19/2024051920131181797.jpg'},\n",
       " {'page_url': 'https://news.cctv.com/2024/05/19/ARTIFurTU0oYFxiT9FD5vl79240519.shtml',\n",
       "  'image_url': 'https://p1.img.cctvpic.com/photoworkspace/2024/05/19/2024051916363789468.jpg'},\n",
       " {'page_url': 'https://news.cctv.com/2024/05/19/ARTIV8Gh9VYyA4cCOp8sNW3S240519.shtml',\n",
       "  'image_url': 'https://p5.img.cctvpic.com/photoworkspace/2024/05/19/2024051913511721667.jpg'},\n",
       " {'page_url': 'https://news.cctv.com/2024/05/19/ARTIM3Nwhh6QhzII01syXCAK240519.shtml',\n",
       "  'image_url': 'https://p2.img.cctvpic.com/photoworkspace/2024/05/19/2024051909492427266.jpg'},\n",
       " {'page_url': 'https://news.cctv.com/2024/05/18/ARTIBuOYkvbg3xBY6ES4w8dc240518.shtml',\n",
       "  'image_url': 'https://p5.img.cctvpic.com/photoworkspace/2024/05/18/2024051820140031187.png'}]"
      ]
     },
     "execution_count": 34,
     "metadata": {},
     "output_type": "execute_result"
    }
   ],
   "source": [
    "origin_url = \"https://news.cctv.com/tech\"\n",
    "url_list = get_url_list(origin_url,date=\"2024/05/22\")\n",
    "url_list"
   ]
  },
  {
   "cell_type": "code",
   "execution_count": 36,
   "metadata": {},
   "outputs": [],
   "source": [
    "def page_parse(page_url:str)->dict:\n",
    "    \"\"\"\n",
    "    对每个页面进行解析，获取数据\n",
    "    需要的数据有：新闻标题、来源、时间、内容、作者信息\n",
    "\n",
    "    Args:\n",
    "        page_url (str): 新闻页面URL\n",
    "\n",
    "    Returns:\n",
    "        dict: 每个新闻界面的数据\n",
    "        {\"title\":新闻标题(str),\n",
    "         \"tag\":新闻唯一标识(str),\n",
    "         \"time\":新闻时间(str),\n",
    "         \"content\": [   \n",
    "                       {\n",
    "                        \"type\": text(文本) |text-blod(粗体文本) | imge_url(图片链接) | img_desc(图片描述),\n",
    "                        \"data\": text | url\n",
    "                        },\n",
    "                        ...\n",
    "                    ],\n",
    "          \"author\": 编辑信息(str)\n",
    "         }\n",
    "    \"\"\"\n",
    "    response = requests.get(page_url,headers=get_random_headers())\n",
    "    response.encoding = 'utf-8'\n",
    "    content = response.text\n",
    "    html = etree.HTML(content,parser=etree.HTMLParser())\n",
    "    title = html.xpath('//*[@id=\"title_area\"]/h1/text()')[0]\n",
    "    tag = page_url.split('/')[-1].split('.')[0]\n",
    "    time = html.xpath('//*[@id=\"title_area\"]/div[1]/text()[2]')[0]\n",
    "    time = ' '.join(time.split()[1:])\n",
    "    source = html.xpath('//*[@id=\"title_area\"]/div[1]/a/text()')[0]\n",
    "    # 处理news content\n",
    "    news_img_nodes = html.xpath('//*[@id=\"content_area\"]/p[contains(@class,\"photo\") and contains(@style,\"text\") and img]')\n",
    "    news_img_desc_nodes = html.xpath('//*[@id=\"content_area\"]/p[contains(@class,\"photo\") and contains(@style,\"text\") and not(*)]')\n",
    "    news_content_nodes = html.xpath('//*[@id=\"content_area\"]/p')\n",
    "    content = []\n",
    "    for node in news_content_nodes:\n",
    "        if node in news_img_nodes: #取出图片链接\n",
    "            img_url = 'https:' + node.xpath('img/@src')[0]\n",
    "            content.append({'type':'img_url','data':img_url})\n",
    "        elif node in news_img_desc_nodes:\n",
    "            img_desc = node.xpath('text()')[0].strip()\n",
    "            content.append({'type':'img_desc','data':img_desc})\n",
    "        else:\n",
    "            text = node.xpath('text()')[0].strip()\n",
    "            if text == \"\":\n",
    "                text = node.xpath('strong/text()')[0]\n",
    "                content.append({'type':'text-blod','data':text})\n",
    "            else:\n",
    "                content.append({'type':'text','data':text})\n",
    "    author = html.xpath('//*[@id=\"page_body\"]/div[1]/div[3]/div[1]/span/text()')\n",
    "    news_info = dict()\n",
    "    news_info['title'] = title\n",
    "    news_info['tag'] = tag\n",
    "    news_info['time'] = time\n",
    "    news_info['content'] = content\n",
    "    news_info['author'] = author\n",
    "    return news_info\n",
    "info = page_parse('https://news.cctv.com/2024/05/22/ARTIyvrd1nW2ptdpz1rveHzK240522.shtml')\n",
    "    \n",
    "    \n",
    "    "
   ]
  },
  {
   "cell_type": "code",
   "execution_count": 37,
   "metadata": {},
   "outputs": [],
   "source": [
    "content = asyncio.get_event_loop().run_until_complete(fetch_webpage('https://news.cctv.com'))"
   ]
  },
  {
   "cell_type": "code",
   "execution_count": 38,
   "metadata": {},
   "outputs": [],
   "source": [
    "html = etree.HTML(content,parser=etree.HTMLParser())"
   ]
  },
  {
   "cell_type": "code",
   "execution_count": 39,
   "metadata": {},
   "outputs": [],
   "source": [
    "res = html.xpath('//*[@id=\"newslist\"]/li')\n",
    "page_url = res[1].xpath('div[@class=\"image\"]/a/@href')\n",
    "image_url = res[1].xpath('div[1]/a/img/@data-echo')"
   ]
  },
  {
   "cell_type": "code",
   "execution_count": 40,
   "metadata": {},
   "outputs": [
    {
     "data": {
      "text/plain": [
       "'         <!DOCTYPE html PUBLIC \"-//W3C//DTD XHTML 1.0 Transitional//EN\" \"http://www.w3.org/TR/xhtml1/DTD/xhtml1-transitional.dtd\">\\r\\n<html xmlns=\"http://www.w3.org/1999/xhtml\">\\r\\n<head>\\r\\n<meta http-equiv=\"Content-Type\" content=\"text/html; charset=utf-8\" />\\r\\n<meta name=\"viewport\" content=\"width=device-width,initial-scale=1.0, minimun-scale=1.0,maximum-scale=1.0,user-scalable=no\">\\r\\n<meta name=\"filetype\" content=\"1\"> \\r\\n<meta name=\"publishedtype\" content=\"1\"> \\r\\n<meta name=\"pagetype\" content=\"1\"> \\r\\n\\r\\n    <meta name=\"author\" content=\"甄涛\"> \\r\\n    <meta name=\"source\" content=\"人民网\"> \\r\\n\\r\\n\\r\\n\\r\\n<title>新疆：“黄金通道”释放“黄金价值”_新闻频道_央视网(cctv.com)</title>\\r\\n<meta name=\"catalogs\" content=\"PAGE1354759511941341\"> \\r\\n<meta name=\"contentid\" content=\"ARTIyvrd1nW2ptdpz1rveHzK240522\">\\r\\n<meta name=keywords content=\"黄金通道 新疆外贸 阿拉山口站 新疆大学 新三样\">\\r\\n<meta name=\"spm-id\" content=\"C73544894212\">\\r\\n<meta name=description content=\"“今年公司试水了货运包机出口业务，这将成为我们外贸的主要增长点。”新疆喀什中顺电子商务有限公司负责人张琪“五一”假期后，马不停蹄地在疆外出差，学经验、请人才。下半年，张琪准备大展手脚，至少完成50个班次货运包机业务，力争公司外贸额翻一番。\">\\r\\n<meta property=\"og:title\" content=\"新疆：“黄金通道”释放“黄金价值”\" />\\r\\n<meta property=\"og:image\" content=\"//p1.img.cctvpic.com/photoAlbum/templet/common/DEPA1502157896010276/newslog200.jpg\" />\\r\\n<meta property=\"og:description\" content=\"“今年公司试水了货运包机出口业务，这将成为我们外贸的主要增长点。”新疆喀什中顺电子商务有限公司负责人张琪“五一”假期后，马不停蹄地在疆外出差，学经验、请人才。下半年，张琪准备大展手脚，至少完成50个班次货运包机业务，力争公司外贸额翻一番。\" /> \\r\\n<link rel=\"apple-touch-icon-precomposed\" href=\"//p1.img.cctvpic.com/photoAlbum/templet/common/DEPA1502157896010276/newslog200.jpg\" />\\r\\n\\r\\n<script language=\"JavaScript\">\\r\\n   var url_domainname=location.href;           \\r\\n            var num_1= url_domainname.split(\"//\")[1];\\r\\n            var domainame_ = num_1.split(\"/\")[0];\\r\\n            var type_ = num_1.split(\".\")[0];\\r\\n\\r\\n\\r\\n     var commentTitle = \"新疆：“黄金通道”释放“黄金价值”\"; //评论标题\\r\\n    /* 评论对象ID 20位以内的字符串 每个被评论对象不同20120420------ */\\r\\n    var itemid1=\"ARTIyvrd1nW2ptdpz1rveHzK240522\";//正文页id，赋值给留言评论模块的参数之一\\r\\n    var commentUrl = \"https://news.cctv.com/2024/05/22/ARTIyvrd1nW2ptdpz1rveHzK240522.shtml\";\\r\\n    var column_id = \"TOPC1354256908159958\";\\r\\n    var sub_column_id = \"PAGE1354759511941341\"; \\r\\n    var domainname = domainame_;\\r\\n    var sobey_video_flag = \\'\\';\\r\\n    var type=type_;\\r\\n    var pindao_1 = \"CHAL1342173544894212\";         var dateNum = (new Date()).toLocaleDateString() + \" \" + (new Date()).toLocaleTimeString();\\r\\n    var times_str = dateNum.replace(/年/g,\\'-\\').replace(/月/g,\\'-\\').replace(/日/g,\\'-\\').replace(/:/g,\\'-\\');\\r\\n    var new_str = times_str.replace(/ /g,\\'-\\');\\r\\n    var arr = new_str.split(\"-\");\\r\\n    var datum = new Date(Date.UTC(arr[0],arr[1]-1,arr[2]-2,arr[3]-8,arr[4],arr[5]));\\r\\n    var timeint=datum.getTime()/1000;\\r\\n    var html;\\r\\n    var sorts_dianji = sub_column_id+\\',\\'+column_id+\\',\\'+itemid1.substring(0,4);/*点击量sorts值*/\\r\\n    var searchkeywords=\"黄金通道 新疆外贸 阿拉山口站 新疆大学 新三样\";\\r\\n    var commentbreif=\"“今年公司试水了货运包机出口业务，这将成为我们外贸的主要增长点。”新疆喀什中顺电子商务有限公司负责人张琪“五一”假期后，马不停蹄地在疆外出差，学经验、请人才。下半年，张琪准备大展手脚，至少完成50个班次货运包机业务，力争公司外贸额翻一番。\";\\r\\n    var commentimg3=\"\";\\r\\n    var commentimg2=\"\";\\r\\n    var commentimg1=\"//p3.img.cctvpic.com/photoworkspace/2024/05/22/2024052220442685623.jpg\";\\r\\n    var commentimg0=\"https:\"+\"//p1.img.cctvpic.com/photoAlbum/templet/common/DEPA1565315968922641/newslog200.jpg\";\\r\\n    var commentimg=commentimg3;\\r\\n    if(commentimg3==\"\"){\\r\\n        commentimg=commentimg2;\\r\\n    }\\r\\n    if(commentimg2==\"\"){\\r\\n        commentimg=commentimg1;\\r\\n    }\\r\\n    if(commentimg1==\"\"){\\r\\n        commentimg=commentimg0;\\r\\n    }\\r\\n\\tif(commentimg.split(\"//\")[0] == \\'\\' || commentimg.split(\"//\")[0] == \\'http:\\'){\\r\\n\\t\\tcommentimg = \"https://\"+commentimg.split(\"//\")[1];\\r\\n\\t}\\r\\n    var hdprop=\\'\\';\\r\\n</script>\\r\\n\\r\\n\\r\\n<!-- <link   href=\"//p1.img.cctvpic.com/photoAlbum/templet/common/DEPA1565315968922641/style_18897_190809.css\"  rel=\"stylesheet\" > -->\\r\\n<link href=\"//r.img.cctvpic.com/photoAlbum/templet/common/DEPA1565315968922641/style_18897_221101.css\"  rel=\"stylesheet\" >\\r\\n<link href=\"//p1.img.cctvpic.com/photoAlbum/templet/common/DEPA1565315968922641/style_tlall.css\" rel=\"stylesheet\">\\r\\n<script type=\"text/javascript\" src=\"//p1.img.cctvpic.com/photoAlbum/templet/common/DEPA1546583592748817/echo.js\"></script>\\r\\n\\r\\n<script type=\"text/javascript\" src=\"//r.img.cctvpic.com/library/script/jquery-1.7.2.min.js\"></script>\\r\\n<script type=\"text/javascript\" src=\"//p1.img.cctvpic.com/photoAlbum/templet/common/DEPA1565315968922641/echo.min_18897_190809.js\"></script>\\r\\n<script type=\"text/javascript\" src=\"//p1.img.cctvpic.com/photoAlbum/templet/common/DEPA1486437585241505/configtool.js\"></script>\\r\\n<script src=\"//r.img.cctvpic.com/photoAlbum/templet/js/jquery.qrcode.min.js\" type=\"text/javascript\" charset=\"utf-8\"></script>\\r\\n<script>\\r\\nvar isMobile=judgeisMobile();\\r\\n//var widthresize = document.body.clientWidth;\\r\\nif($(window).width() <= 1024){\\r\\nvar obj = new publicRemPageTool();\\r\\nobj.showProper(750,true);\\r\\n}\\r\\n\\t\\t\\t\\t//设置分享标题简介图片\\r\\n\\t\\tvar sharePhoto = \"https\" + \"://p1.img.cctvpic.com/photoAlbum/templet/common/DEPA1502157896010276/newslog200.jpg\";\\r\\n\\t\\t$(\"meta[property=\\'og:image\\']\").attr(\"content\",sharePhoto);\\r\\n</script>\\r\\n\\r\\n<script type=\"text/javascript\">\\r\\n    var publishDate =\"20240522204940 \";\\r\\n</script>\\r\\n\\r\\n</head>\\r\\n\\r\\n\\r\\n<body data-spm=\"P59511941341\"><script>(function () { document.cookie = \"HOY_TR=IFEQVGBJNMXKCWRY,59680A1B7CDE4F23,pxswnztrghlyfbum; max-age=31536000; path=/\";document.cookie = \"HBB_HC=6ea555b10dd08405281e2ce7dc935ddc744ec112713be0624eb86244646b992cda5523695fc527b0f786b4820bae077fe8; max-age=600; path=/\"; })()</script><script src=\"/_ws_sbu/sbu_hc.js\"></script>\\r\\n\\r\\n<!-- 全网统一通用通栏导航 --> \\r\\n\\r\\n\\n\\r\\n\\t\\r\\n\\t\\t\\t\\t\\r\\n\\t\\t\\t\\t\\t<script src=\"//www.cctv.com/newcctv/containingPages/2019whitetop/index.js\" type=\"text/javascript\" charset=\"utf-8\"></script>\\r\\n\\t\\t\\t\\t\\r\\n\\t\\t\\t\\r\\n\\r\\n\\r\\n\\r\\n<div id=\"page_body\">\\r\\n        <!-- 正文页内容 -->\\r\\n        <div class=\"page_wrap_190703\">\\r\\n            \\n<div class=\"head_18313\"> \\r\\n\\t\\r\\n\\t\\t<div class=\"cctvlogo\"><a href=\"http://m.cctv.com/\"></a></div> \\r\\n\\t\\t<div class=\"twopage\"><a style=\"color: #FFFFFF;\" href=\"http://news.cctv.com/\">新闻</a></div> \\r\\n\\t\\t<div class=\"headmenu\"><a href=\"http://m.cctv.com/quanzhannav2019/index.shtml\"></a></div> \\r\\n\\t\\t<a href=\"https://search.cctv.com/m/\"><div class=\"search\"></div></a> \\r\\n\\r\\n\\t<div class=\"clear\"></div>\\r\\n</div>\\r\\n            <div class=\"content_18313\">  \\r\\n                <div class=\"nav_daohang\">\\r\\n                      \\r\\n                        \\r\\n                        \\r\\n                            <a class=\"new\" href=\"https://news.cctv.com/\">\\r\\n                                新闻频道  \\r\\n                            </a> \\r\\n                                           \\r\\n                        \\r\\n                        <a class=\"i\" href=\"javascript:void(0);\">></a>                       \\r\\n                        \\r\\n            <a href=\"https://news.cctv.com/china_old/\" target=\"_blank\">\\r\\n                中国新闻 \\r\\n            </a>\\r\\n            \\r\\n        \\r\\n                        \\r\\n                </div>\\r\\n            \\r\\n                    <div class=\"title_area\" id=\"title_area\">\\r\\n                            \\r\\n                        <h1>新疆：“黄金通道”释放“黄金价值”</h1>\\r\\n                        <h2 id=\"subtitle\"><i></i></h2>\\r\\n                        <div class=\"info\">来源：<a data-spm-protocol=\"i\" href=\"http://xj.people.com.cn/n2/2024/0521/c186332-40851194.html \" target=\"_blank\" >人民网</a>  |  2024年05月22日 20:49:40</div>\\r\\n                        <div class=\"info1\">人民网 | 2024年05月22日 20:49:40</div>\\r\\n                            <script type=\"text/javascript\">\\r\\n                        var subtitle = \\'\\';\\r\\n                        if (subtitle==\"\"){\\r\\n                            document.getElementById(\\'subtitle\\').style.display=\\'none\\';\\r\\n                        }\\r\\n                    </script>\\r\\n                        \\r\\n                            \\r\\n                        <h6 id=\"sourcetitle\">原标题：新疆：“黄金通道”释放“黄金价值”</h6>\\r\\n                           <script type=\"text/javascript\">\\r\\n                            var sourcetitle = \\'新疆：“黄金通道”释放“黄金价值”\\';\\r\\n                            if (sourcetitle==\"\"){\\r\\n                                document.getElementById(\\'sourcetitle\\').style.display=\\'none\\';\\r\\n                            }\\r\\n                           </script>\\r\\n                        \\r\\n                    </div>\\r\\n                \\r\\n                <div class=\"text_area\" id=\"text_area\">\\r\\n                    \\r\\n                </div>\\r\\n                    <div class=\"more_btnbox\" id=\"j_pullLoader\">\\r\\n        <div class=\"more_btn_loading \" id=\"j_loading\">\\r\\n            <span class=\"loadingbtn\"></span><span class=\"more_btn\">正在加载</span>\\r\\n        </div>\\r\\n    </div>\\r\\n                <div class=\"content_area\" id=\"content_area\">\\r\\n                    \\r\\n                        <!--repaste.body.begin--><p>\\u3000\\u3000&ldquo;今年公司试水了货运包机出口业务，这将成为我们外贸的主要增长点。&rdquo;新疆喀什中顺电子商务有限公司负责人张琪&ldquo;五一&rdquo;假期后，马不停蹄地在疆外出差，学经验、请人才。下半年，张琪准备大展手脚，至少完成50个班次货运包机业务，力争公司外贸额翻一番。</p><p class=\"photo_img_20190808\" style=\"text-align: center;\"><img src=\"//p3.img.cctvpic.com/photoworkspace/contentimg/2024/05/22/2024052220435240761.png\" alt=\"\"/></p><p class=\"photo_alt_20190808\" style=\"text-align: center;\">\\u3000\\u30004月26日，乌鲁木齐&mdash;萨莱诺中欧班列顺利开行，这标志着新疆中欧班列境外南通道跨&ldquo;两海&rdquo;线路成功运行。吴奇摄</p><p>\\u3000\\u3000外贸企业创新、引才、拓市场，口岸货畅、人忙、贸易兴，是新疆外贸形势持续向好的缩影。前4月，新疆外贸进出口总值1379亿元人民币，同比增长49.5%，增速居全国第2位，连续30个月保持正增长，开放优势不断释放，再现着&ldquo;使者相望于道，商旅不绝于途&rdquo;的古丝路繁华。</p><p>\\u3000\\u3000<strong>畅通道</strong></p><p>\\u3000\\u3000<strong>&ldquo;&lsquo;口岸直通&rsquo;实现效益和效率的双向奔赴&rdquo;</strong></p><p>\\u3000\\u30005月15日，一辆运载着香蕉、柑橘等水果的冷藏厢式货车抵达霍尔果斯公路口岸，在&ldquo;口岸直通&rdquo;作业模式下，从装运上车到通关出境仅用1小时，当天就能出现在哈萨克斯坦阿拉木图市民的餐桌上。</p><p>\\u3000\\u3000&ldquo;口岸直通&rdquo;模式由乌鲁木齐海关创新推出，去年11月，该模式在阿拉山口公路口岸正式运行，车辆平均通行时间从34.5小时压缩到5小时。当前，这项改革正逐渐推广到全疆。</p><p class=\"photo_img_20190808\" style=\"text-align: center;\"><img src=\"//p5.img.cctvpic.com/photoworkspace/contentimg/2024/05/22/2024052220435223190.png\" alt=\"\"/></p><p class=\"photo_alt_20190808\" style=\"text-align: center;\">\\u3000\\u3000霍尔果斯公路口岸，等待通关的汽车。人民网 李欣洋摄</p><p>\\u3000\\u3000霍尔果斯海关副关长陈鹏德介绍，通过推出提前申报和集中查验，配套数据自动提取、多国车牌智能识别等科技手段，从根本上提高了公路口岸出口货物的时效性。据统计，前3月，霍尔果斯公路口岸出口果蔬11.2万吨，同比增长6.9倍。</p><p>\\u3000\\u3000不仅仅是通关时效，该模式也给企业带来了真金白银的甜头。</p><p>\\u3000\\u3000&ldquo;启用新模式后，每车运输成本可减少1000元左右。&rdquo;说起该项改革的好处，新疆乐果果业有限公司负责人张朋亮算了一笔&ldquo;经济账&rdquo;，&ldquo;目前已累计为企业节约成本超160万元，实现效益和效率的双向奔赴。&rdquo;</p><p class=\"photo_img_20190808\" style=\"text-align: center;\"><img src=\"//p2.img.cctvpic.com/photoworkspace/contentimg/2024/05/22/2024052220435285125.png\" alt=\"\"/></p><p class=\"photo_alt_20190808\" style=\"text-align: left;\">\\u3000\\u30005月10日，一辆满载苹果的冷链运输车从乌鲁木齐市发车前往哈萨克斯坦阿拉木图市。这是新疆首次实现果蔬冷链卡航直达中亚市场。图为乌昌海关关员对冷链卡航模式出口鲜苹果进行验放。杨逸萌摄</p><p>\\u3000\\u3000口岸是外贸发展的生命线。通关效能的提升，让经贸走得更远。前四月，新疆与197个国家和地区产生贸易往来，对东盟、RCEP其他成员国、非洲、拉美均实现3倍以上的出口增速，贸易伙伴更趋多元。</p><p>\\u3000\\u3000<strong>增动力</strong></p><p>\\u3000\\u3000<strong>&ldquo;新能源汽车成为海外市场的&lsquo;网红车&rsquo;&rdquo;</strong></p><p>\\u3000\\u3000今年以来，中国新疆持续巩固与周边国家互访交流成果，以中亚五国为重点，积极主动深化与共建&ldquo;一带一路&rdquo;国家全面交流合作，扩大高水平向西开放。</p><p>\\u3000\\u30003月末，自治区政府代表团访问中亚三国。乌鲁木齐海关党委委员、副关长李清华也是代表团成员之一，谈及最大感受，她坦言：&ldquo;中亚国家对中国的认可度越来越高。&rdquo;</p><p class=\"photo_img_20190808\" style=\"text-align: center;\"><img src=\"//p2.img.cctvpic.com/photoworkspace/contentimg/2024/05/22/2024052220435213448.png\" alt=\"\"/></p><p class=\"photo_alt_20190808\" style=\"text-align: center;\">\\u3000\\u3000阿拉山口口岸，跨国司机努尔江的货车装车完毕。人民网记者 陈新辉摄</p><p>\\u3000\\u3000认可度在&ldquo;中国制造&rdquo;方面体现得格外明显。</p><p>\\u3000\\u3000&ldquo;这次我的目的地是阿塞拜疆巴库。&rdquo;5月9日，来自哈萨克斯坦的跨国货车司机努尔江风尘仆仆地从哈萨克斯坦阿拉木图市赶到中国新疆阿拉山口市。</p><p>\\u3000\\u3000努尔江是一家国际物流有限公司在阿拉木图市签约车队的货车司机。5月13日，他和其他司机陆续出发，将68辆新能源车运到吉尔吉斯斯坦、阿塞拜疆、白俄罗斯等地。</p><p>\\u3000\\u3000&ldquo;我们在路上经常看到中国的新能源车，这种车外观科技感足，性价比高，在我常去的那些国家属于&lsquo;网红车&rsquo;。&rdquo;努尔江说，现在，他们运送新能源车的频次比去年高了一倍。</p><p>\\u3000\\u3000这一增长在该物流公司副总经孔祥林那里得到印证：&ldquo;公司前不久签了个大单，从5月开始，每月要运输100辆新能源车到共建&lsquo;一带一路&rsquo;国家，我们预计承接运输出口的新能源车数量比去年增长300%左右。&rdquo;</p><p>\\u3000\\u3000在霍尔果斯口岸，电动汽车出口同样迎来暴增，前3月同比增长了3倍多，达到2.2万辆；</p><p>\\u3000\\u3000334辆，398辆，400辆&hellip;&hellip;在百年口岸巴克图，今年以来，单日出口商品车连创新高；</p><p class=\"photo_img_20190808\" style=\"text-align: center;\"><img src=\"//p4.img.cctvpic.com/photoworkspace/contentimg/2024/05/22/2024052220435263477.png\" alt=\"\"/></p><p class=\"photo_alt_20190808\" style=\"text-align: center;\">\\u3000\\u3000阿拉山口站编组场内停靠着待发的中欧班列及其他出入境货物列车。人民网 李欣洋摄</p><p>\\u3000\\u3000前4月，新疆电动汽车、光伏产品、锂电池等&ldquo;新三样&rdquo;产品出口值同比增长152.1%，成为新疆外贸新动能的重要组成部分。</p><p>\\u3000\\u3000新疆大学经济与管理学院教授古丽娜尔&middot;玉素甫表示，&ldquo;新三样&rdquo;不仅是新疆未来产业发展的重要方向，也是经济增长的新动力，将带动相关产业链上下游协同发展。</p><p>\\u3000\\u3000<strong>扬优势</strong></p><p>\\u3000\\u3000<strong>&ldquo;跨国上班正成为潮流&rdquo;</strong></p><p>\\u3000\\u3000在中国西部边境小城霍尔果斯，跨境电商直播如火如荼。</p><p>\\u3000\\u3000&ldquo;市面上的五金产品，在我直播间都可以买到，都是&lsquo;中国制造&rsquo;。&rdquo;主播阿依格热木&middot;哈比别克正在用俄语、哈萨克语等多种语言进行跨境直播带货。</p><p>\\u3000\\u3000阿依格热木来自哈萨克斯坦雅尔肯特市，长期在中哈霍尔果斯国际边境合作中心从事跨境贸易工作：&ldquo;在我们那里，跨国上班正成为潮流。&rdquo;</p><p class=\"photo_img_20190808\" style=\"text-align: center;\"><img src=\"//p3.img.cctvpic.com/photoworkspace/contentimg/2024/05/22/2024052220435226302.png\" alt=\"\"/></p><p class=\"photo_alt_20190808\" style=\"text-align: center;\">\\u3000\\u3000主播正在霍尔果斯义乌国际商贸城直播。李勇摄</p><p>\\u3000\\u30002023年春天，霍尔果斯义乌国际商贸城开始开展跨境电商直播业务，正在招兵买马的时候，阿依格热木看准机会，于同年6月正式上岗直播带货，成为该公司第一位国际主播。掌握多种语言的她很快就拥有了一大波粉丝。</p><p>\\u3000\\u3000霍尔果斯义乌国际商贸城（有限公司）董事长金兴忠介绍：目前公司拥有20多位&ldquo;国际主播&rdquo;，用7种语言向中亚地区和俄罗斯消费者介绍中国商品。中国（新疆）自由贸易试验区的揭牌为该公司带来了新机遇，一季度公司跨境电商直播进出口贸易额比去年四季度增长83.33%。</p><p>\\u3000\\u3000古丽娜尔&middot;玉素甫说，中国（新疆）自由贸易试验区的设立，将自贸试验区的制度优势和新疆通道基础、口岸基础、交流基础的优势进行叠加，充分释放出外贸的发展动能。</p><p>\\u3000\\u3000这一提法在伊犁州交出的外贸&ldquo;成绩单&rdquo;中得到了印证：前4月，伊犁州进出口增长129.7%，占同期新疆外贸总值的26.1%，居全疆第一。</p><p>\\u3000\\u3000随着新疆对外开放的不断扩大，新的跨境经贸合作样板还在不断涌现，优势转化为发展动能的故事还在继续。</p><p>\\u3000\\u3000锚定在国家全局中的五大战略定位，不断把区位优势转化为发展优势、竞争优势，打造亚欧黄金通道和向西开放桥头堡&mdash;&mdash;新疆，大有可为！</p><!--repaste.body.end-->\\r\\n                    \\r\\n                </div>\\r\\n            </div>  \\r\\n            <div class=\"bottom_ind01\">   \\r\\n            \\r\\n                <div class=\"zebian\">\\r\\n                    <i></i>  \\r\\n                    <span >编辑：甄涛</span>\\r\\n                    <span id=\"zb\">责任编辑：刘亮</span>\\r\\n                </div>\\r\\n                <script type=\"text/javascript\">\\r\\n                var zeditor = \\'刘亮\\';\\r\\n                if (zeditor==\"\")\\r\\n                {\\r\\n                   document.getElementById(\\'zb\\').style.display=\\'none\\';\\r\\n                }\\r\\n                </script>\\r\\n                    <ul id=\"searchkeywords\">\\r\\n\\r\\n                </ul>\\r\\n                <script type=\"text/javascript\">\\r\\n                    var searchkeywords=\"黄金通道 新疆外贸 阿拉山口站 新疆大学 新三样\"\\r\\n                    if(searchkeywords!=\"\"){\\r\\n                        var reg = new RegExp(\"\\u3000\",\"g\");\\r\\n                        var tagArrayBak = searchkeywords.replace(reg,\" \");\\r\\n                            \\r\\n                        var searchkeywordsarray = tagArrayBak.split(\\' \\');\\r\\n                        if(searchkeywordsarray.length<3){\\r\\n                            var len=searchkeywordsarray.length;\\r\\n                        }else{\\r\\n                            var len=3\\r\\n                        }\\r\\n                    for (var i=0;i<len;i++ )\\r\\n                    {\\r\\n                        if(searchkeywordsarray[i]!=\"\"){\\r\\n                            $(\\'#searchkeywords\\').append(\\'<li><i></i><a target=\"_blank\" href=\"https://search.cctv.com/search.php?qtext=\\'+searchkeywordsarray[i]+\\'\">\\'+searchkeywordsarray[i]+\\'</a></li>\\');\\r\\n                        }\\r\\n                        \\r\\n                    }\\r\\n                    }\\r\\n                    </script>\\r\\n              \\r\\n            \\r\\n                    \\r\\n                \\r\\n                <div class=\"cut\">点击收起全文</div>\\r\\n                <div class=\"fir\">\\r\\n                    <div class=\"backgo\">\\r\\n                        <span ><a class=\"gohome\" target=\"_blank\" href=\"http://www.cctv.com/\">返回央视网首页</a><b></b><i></i></span>\\r\\n                        <span class=\"cur\" ><a class=\"gonew\" target=\"_blank\" href=\"http://news.cctv.com/\">返回新闻频道</a><b></b><i></i></span>\\r\\n                    </div>\\r\\n                    <div class=\"sharelike\">\\r\\n                        <div class=\"share bdsharebuttonbox\"  id=\"nativeShare\">\\r\\n                            <span>分享：</span>\\r\\n                            <a id=\"fucengweixin\" class=\"weixin\"></a>\\r\\n                            <a data-fx=\"wb-btn\" class=\"weibo\"></a>\\r\\n                            <a data-fx=\"qq-btn\" class=\"qq\"></a>\\r\\n                            <a data-fx=\"qz-btn\" class=\"kongjian\"></a>\\r\\n                        </div>\\r\\n                        <div id=\"cntvshare_weixin\" class=\"zwweixin_weixin_bottom\">\\r\\n                                <div class=\"zwweixin_head\"></div>\\r\\n                                <div class=\"sharebg\">\\r\\n                                    <div id=\"codeqr2\" class=\"wxcodeqr\" >\\r\\n                                    </div>\\r\\n                                <div class=\"zwrweixin_headfoot\">扫一扫 分享到微信</div>\\r\\n                                </div>\\r\\n                        </div>\\r\\n                        <div class=\"shu\">|</div>\\r\\n                        <div class=\"like\" id=\"zanNum\"><b></b><i></i></div>\\r\\n                    </div>\\r\\n                </div>\\r\\n            </div>\\r\\n        </div>\\r\\n        <!-- 正文页结束 -->\\r\\n    \\r\\n        <div class=\"backTop18897\"><a href=\"javascript:;\">返回顶部</a></div>\\r\\n            <div id=\"back_to_top\" class=\"gotop_btn\"></div>\\r\\n            <div id=\"back_to_home\" class=\"gohome\"><a href=\"http://www.cctv.com/\"></a></div>\\r\\n        \\r\\n        <!-- 浮层结束-->\\r\\n        <!--移动pc公用模块-->\\r\\n        <script src=\"//p1.img.cctvpic.com/photoAlbum/templet/common/DEPA1565315968922641/index_news190903.js?a\"></script>\\r\\n        <div class=\"XUQIU18897_tonglan\">\\r\\n        <div class=\"column_wrapper_1000\">\\r\\n                \\n           \\r\\n              \\r\\n           <style type=\"text/css\">\\r\\n           \\t\\r\\n           \\t\\r\\n           \\t\\r\\n@media screen and (min-width: 1025px) {\\r\\n           \\t\\t\\r\\n           \\t\\t\\r\\n.clueLateral{width: 86px;height: 86px;background: url(//p1.img.cctvpic.com/photoAlbum/templet/common/DEPA1565315968922641/back_top_bg_18897_190809.png) no-repeat center center;position: fixed;right: 22px;bottom: 343px;display: block;z-index: 100;}\\r\\n.clueLateral a {display: block;background: url(//p1.img.cctvpic.com/photoAlbum/templet/common/DEPA1565315968922641/Icon_clue_231215.png) no-repeat center 20px; margin: 0 auto; color: #666666;text-align: center;font-size: 12px; line-height: 20px; padding-top:55px;z-index: 11; width: 70px; height:28px;}\\r\\n.clueLateral a:hover{background-image:url(//p1.img.cctvpic.com/photoAlbum/templet/common/DEPA1565315968922641/Icon_clueCur011_231215.png);color:#bf0614;}\\r\\n.clueLateral .mailbox{ display:none; font-size: 16px; text-align: center; color: #5c5c5c; line-height: 70px; padding: 0 22px; position:absolute; right: 90px;top: 8px;height: 70px; width: 240px; border-radius: 5px; background-color: #ffffff; box-shadow:0 0 10px 0px rgba(0,0,0,0.1);}\\r\\n.clueLateral .mailbox em{ background: url(//p1.img.cctvpic.com/photoAlbum/templet/common/DEPA1565315968922641/mailbox_231215.png) no-repeat center left; padding-left: 26px; }\\r\\n.clueLateral:hover .mailbox{ display:block;}\\r\\n\\r\\n\\r\\n\\r\\n.page_wrap_190703 .bottom_ind01 .fir .backgo .clue{height: 36px; padding: 0 16px; border-radius:36px; margin-left: -16px; }\\r\\n.page_wrap_190703 .bottom_ind01 .fir .backgo .clue em{ background:url(//p1.img.cctvpic.com/photoAlbum/templet/common/DEPA1565315968922641/Icon_clue_231215.png) no-repeat left center; padding-left: 25px; background-size:15px 17px; }\\r\\n.page_wrap_190703 .bottom_ind01 .fir .backgo .clue:hover em{ background-image:url(//p1.img.cctvpic.com/photoAlbum/templet/common/DEPA1565315968922641/Icon_clueCur_231215.png) }\\r\\n           \\t}\\r\\n           \\t\\r\\n@media screen and (max-width: 1024px) {\\r\\n\\t.clueLateral{display: none;}\\r\\n       \\t\\t.clueH5{ z-index:999;display: block;position: fixed;bottom: 6rem;right: 0.2rem;width: .85rem;height: .85rem;background: url(//p4.img.cctvpic.com/photoAlbum/templet/special/PAGEhlQnreJDmlRe3lLi29D3231218/ELMTiGZpMrJ3jhbQRzju2TXp231218_1703050038.svg) no-repeat 0 0;background-size: contain;}\\r\\n\\t.clueH5  a{display:block;width:0.85rem;height:0.85rem;}\\r\\n       }    \\t\\r\\n           \\t\\t\\t\\r\\n  @media screen and (orientation:landscape) {\\r\\n    .clueH5{ bottom: 4rem;}\\r\\n  \\r\\n  }\\r\\n           </style>\\r\\n           \\r\\n        \\r\\n           <script type=\"text/javascript\">\\r\\n           \\t$(\".backgo\").append(\\'<span class=\"clue\"><a href=\"https://www.cctv.com/special/guanyunew/jianjiePAGEQezAEWqHSGGmjjQL6s0V231214/index.shtml\" target=\"_blank\"><em>望海热线</em></a></span>\\')\\r\\n           </script>\\r\\n<div class=\"clueLateral\"><a href=\"https://www.cctv.com/special/guanyunew/jianjiePAGEQezAEWqHSGGmjjQL6s0V231214/index.shtml\" target=\"_blank\">望海热线</a><div class=\"mailbox\"><em>xinwenxiansuo@staff.cntv.cn</em></div></div>\\r\\n                    \\r\\n\\r\\n\\t<div id=\"back_to_clue\" class=\"clueH5\"><a href=\"https://www.cctv.com/special/guanyunew/jianjiePAGEQezAEWqHSGGmjjQL6s0V231214/index.shtml\"></a></div>\\r\\n\\t\\r\\n                \\n\\r\\n                    \\n\\r\\n\\t\\r\\n\\t\\t\\t\\t\\r\\n\\t\\t\\t\\t\\t<script type=\"text/javascript\">\\n\\t//包含页1\\t\\n\\tif(itemid1==\"ARTI2DTN6DcWIF9sy5sha2tx201109\"){\\n\\t\\tdocument.write(\\'<style>\\')\\n\\t\\tdocument.write(\\'.daohangtiao .content .right .share{display:none;}\\')\\n\\t\\tdocument.write(\\'.page_wrap_190703 .bottom_ind01 .fir .sharelike{display:none;}\\')\\n\\t\\tdocument.write(\\'</style>\\')\\n\\t}\\n</script>\\r\\n\\t\\t\\t\\t\\r\\n\\t\\t\\t\\r\\n\\r\\n<div class=\"ELMTvbmTWIjQv22N8k5eDvhN190810\" data-spm=\"EvbmTWIjQv22\" >\\r\\n<div class=\"md\">\\r\\n\\t \\r\\n\\t  \\r\\n                <div class=\"md_hdc\"><b></b></div>\\r\\n\\t\\t\\t\\t<div class=\"md_hd\">\\r\\n\\r\\n\\t\\t<span class=\"mh_title\">最新推荐</span>\\r\\n\\t\\t\\r\\n\\t </div>\\r\\n \\r\\n \\r\\n <div class=\"md_bd\">\\r\\n \\t\\r\\n \\t<div data-spm=\"S76890\" id=\"SUBD1565436014876890\">\\r\\n\\t\\t<div class=\"ELMTogkW3VdRtw6sSqZt87bF190809\" data-spm= \"EogkW3VdRtw6\">\\r\\n<div class=\"BottomPageUniversal18897_con02\">\\r\\n\\t<ul id=\"page1zw\">\\r\\n\\t</ul>\\r\\n\\t<div class=\"clear\"></div>\\r\\n\\t\\t<div class=\"more\"><a href=\"javascript:;\">加载更多</a></div>\\r\\n</div>\\r\\n</div>\\r\\n<script type=\"text/javascript\">\\r\\n\\tfunction loadpage1zhengwei(){\\r\\n\\t\\tvar channelNames=\"PAGE1354759511941341,PAGE1354759792594134,PAGE1357526359761204,PAGE1357526598934187,PAGE1357526812000160,PAGE1357526997653879,PAGE1381299766666351,PAGE1381299790479609\";\\r\\n\\t\\tif(channelNames.indexOf(\",\")>0){\\r\\n\\t\\t\\tvar cb=channelNames.split(\",\")[0]\\r\\n\\t\\t}else{\\r\\n\\t\\t\\tvar cb=\"t\";\\r\\n\\t\\t}\\r\\n\\t\\tvar url=\"//api.cntv.cn/List/getListByPageid?id=\"+channelNames+\"&kind=a&n=10&p=1&serviceId=pcnews\"\\r\\n\\t\\t$.ajax({\\r\\n\\t\\ttype:\"get\",\\r\\n\\t\\turl:url,\\r\\n\\t\\tcache:true,\\r\\n\\t\\tdataType:\\'jsonp\\',\\r\\n\\t\\tjsonp:\"cb\",\\r\\n\\t\\tjsonpCallback:cb,\\r\\n\\t\\tsuccess:function(data){\\t\\r\\n\\t\\t\\tvar datalist=data.data.list\\r\\n\\t\\t\\tvar str=\"\"\\r\\n\\t\\t\\tfor(var i=0;i<datalist.length;i++){\\r\\n\\t\\t\\t\\tif(i<5){\\r\\n\\t\\t\\t\\t\\tif((i+1)%5==0){\\r\\n\\t\\t\\t\\t\\t\\tstr+=\\'<li style=\"display: block\" class=\"first\">\\'\\r\\n\\t\\t\\t\\t\\t}else{\\r\\n\\t\\t\\t\\t\\t\\tstr+=\\'<li style=\"display: block\">\\'\\r\\n\\t\\t\\t\\t\\t}\\r\\n\\t\\t\\t\\t}else{\\r\\n\\t\\t\\t\\t\\tif((i+1)%5==0){\\r\\n\\t\\t\\t\\t\\t\\tstr+=\\'<li style=\"display: none\" class=\"first\">\\'\\r\\n\\t\\t\\t\\t\\t}else{\\r\\n\\t\\t\\t\\t\\t\\tstr+=\\'<li style=\"display: none\">\\'\\r\\n\\t\\t\\t\\t\\t}\\r\\n\\t\\t\\t\\t\\t\\t\\t\\t\\t\\r\\n\\t\\t\\t\\t}\\r\\n\\t\\t\\t\\tvar data=parseInt(datalist[i].focus_date);\\r\\n\\t\\t\\t\\tvar data2=new Date(data);\\r\\n\\t\\t\\t\\tvar y=data2.getFullYear();\\r\\n\\t\\t\\t\\tvar m=(data2.getMonth()+1)>=10?(data2.getMonth()+1):\"0\"+(data2.getMonth()+1);\\r\\n\\t\\t\\t\\tvar d=data2.getDate()>=10?data2.getDate():\"0\"+data2.getDate();\\r\\n\\t\\t\\t\\tvar h=data2.getHours()>=10?data2.getHours():\"0\"+data2.getHours();\\r\\n\\t\\t\\t\\tvar hm=data2.getMinutes()>=10?data2.getMinutes():\"0\"+data2.getMinutes();\\r\\n\\r\\n\\t\\t\\t\\tvar pagedata=y+\\'-\\'+m+\\'-\\'+d+\\' \\'+h+\\':\\'+hm;\\r\\n\\t\\t\\t\\tif(datalist[i].image==\"\"){\\r\\n\\t\\t\\t\\t\\tif(datalist[i].desc.length>142){\\r\\n\\t\\t\\t\\t\\t\\tvar desc=datalist[i].desc.substr(0,140)+\"...\";\\r\\n\\t\\t\\t\\t\\t}else{\\r\\n\\t\\t\\t\\t\\t\\tvar desc=datalist[i].desc.substr(0,140);\\r\\n\\t\\t\\t\\t\\t}\\r\\n\\t\\t\\t\\t\\tif(isMobile&&datalist[i].title.length>40){\\r\\n\\t\\t\\t\\t\\t\\tvar title=datalist[i].title.substr(0,38)+\"...\"\\r\\n\\t\\t\\t\\t\\t}else{\\r\\n\\t\\t\\t\\t\\t\\tvar title=datalist[i].title;\\r\\n\\t\\t\\t\\t\\t}\\r\\n\\t\\t\\t\\t\\tstr+=\\'<div class=\"title\"><a href=\"\\'+datalist[i].url+\\'\" target=\"_blank\">\\'+title+\\'</a></div><div class=\"brief\"><a  href=\"\\'+datalist[i].url+\\'\" target=\"_blank\">\\'+desc+\\'</a></div><div class=\"bottom\"><span class=\"date\">\\'+pagedata+\\'</span><span class=\"content\">\\';\\r\\n\\t\\t\\t\\t\\t\\r\\n\\t\\t\\t\\tif(datalist[i].tag!=\"\"){\\r\\n\\t\\t\\t\\t\\tvar keyword=datalist[i].tag;\\r\\n\\t\\t\\t\\t\\tvar reg = new RegExp(\"\\u3000\",\"g\");\\r\\n\\t\\t\\t\\t\\tvar tagArrayBak = keyword.replace(reg,\" \");\\r\\n\\t\\t\\t\\t\\tvar keyword = tagArrayBak.split(\" \");\\r\\n\\t\\t\\t\\t\\tif(keyword.length<3){\\r\\n\\t\\t\\t\\t\\t\\tvar len=keyword.length\\r\\n\\t\\t\\t\\t\\t}else{\\r\\n\\t\\t\\t\\t\\t\\tvar len=3;\\r\\n\\t\\t\\t\\t\\t}\\r\\n\\t\\t\\t\\t\\tfor(var n=0;n<len;n++){\\r\\n\\t\\t\\t\\t\\t\\tstr+=\\'<a target=\"_blank\"  href=\"https://search.cctv.com/search.php?qtext=\\'+keyword[n]+\\'\">\\'+keyword[n]+\\'</a>\\';\\r\\n\\t\\t\\t\\t\\t}\\t\\r\\n\\t\\t\\t\\t}\\r\\n\\t\\t\\t\\t\\tstr+=\\'</span></div><div class=\"clear\"></div></li>\\'\\r\\n\\t\\t\\t\\t}else{\\r\\n\\t\\t\\t\\t\\tif(datalist[i].desc.length>96){\\r\\n\\t\\t\\t\\t\\t\\tvar desc=datalist[i].desc.substr(0,94)+\"...\";\\r\\n\\t\\t\\t\\t\\t}else{\\r\\n\\t\\t\\t\\t\\t\\tvar desc=datalist[i].desc.substr(0,94);\\r\\n\\t\\t\\t\\t\\t}\\r\\n\\t\\t\\t\\t\\tif(isMobile&&datalist[i].title.length>24){\\r\\n\\t\\t\\t\\t\\t\\tvar title=datalist[i].title.substr(0,22)+\"...\"\\r\\n\\t\\t\\t\\t\\t}else{\\r\\n\\t\\t\\t\\t\\t\\tvar title=datalist[i].title;\\r\\n\\t\\t\\t\\t\\t}\\r\\n\\t\\t\\t\\t\\tstr+=\\'<div class=\"image\"><a href=\"\\'+datalist[i].url+\\'\" target=\"_blank\"><img src=\"\\'+datalist[i].image+\\'\"></a></div><div class=\"text\"><div class=\"title\"><a href=\"\\'+datalist[i].url+\\'\" target=\"_blank\">\\'+title+\\'</a></div><div class=\"brief\"><a  href=\"\\'+datalist[i].url+\\'\" target=\"_blank\">\\'+desc+\\'</a></div><div class=\"bottom\"><span class=\"date\">\\'+pagedata+\\'</span><span class=\"content\">\\';\\r\\n\\t\\t\\t\\t\\t\\r\\n\\t\\t\\t\\tif(datalist[i].tag!=\"\"){\\r\\n\\t\\t\\t\\t\\tvar keyword=datalist[i].tag;\\r\\n\\t\\t\\t\\t\\tvar reg = new RegExp(\"\\u3000\",\"g\");\\r\\n\\t\\t\\t\\t\\tvar tagArrayBak = keyword.replace(reg,\" \");\\r\\n\\t\\t\\t\\t\\tvar keyword = tagArrayBak.split(\" \");\\r\\n\\t\\t\\t\\t\\tif(keyword.length<3){\\r\\n\\t\\t\\t\\t\\t\\tvar len=keyword.length\\r\\n\\t\\t\\t\\t\\t}else{\\r\\n\\t\\t\\t\\t\\t\\tvar len=3;\\r\\n\\t\\t\\t\\t\\t}\\r\\n\\t\\t\\t\\t\\tfor(var n=0;n<len;n++){\\r\\n\\t\\t\\t\\t\\t\\tstr+=\\'<a target=\"_blank\"  href=\"https://search.cctv.com/search.php?qtext=\\'+keyword[n]+\\'\">\\'+keyword[n]+\\'</a>\\';\\r\\n\\t\\t\\t\\t\\t}\\t\\r\\n\\t\\t\\t\\t}\\r\\n\\t\\t\\t\\t\\tstr+=\\'</span></div></div><div class=\"clear\"></div></li>\\'\\r\\n\\t\\t\\t\\t}\\r\\n\\t\\t\\t\\t\\r\\n\\t\\t\\t}\\r\\n\\t\\t\\r\\n\\t\\t\\t$(\"#page1zw\").html(str)\\r\\n\\t\\t\\tFor_change(\"BottomPageUniversal18897_con02\");\\r\\n\\t\\t\\tif(isMobile){\\r\\n\\t\\t\\t\\t\\t$(\"#page1zw\").find(\"a\").each(function(){\\r\\n\\t\\t\\t\\t\\t\\t$(\"a\").removeAttr(\"target\")\\r\\n\\t\\t\\t\\t\\t})\\r\\n\\t\\t\\t}else{\\r\\n\\t\\t\\t\\t\\tsetTimeout(function(){\\r\\n\\t\\t\\t\\t\\t\\t$(\"#page1zw\").find(\"a\").each(function(){\\r\\n\\t\\t\\t\\t\\t\\t\\r\\n\\t\\t\\t   \\t\\t $(this).attr(\"target\",\"_blank\");\\r\\n\\t\\t\\t  \\r\\n\\t\\t\\t\\t\\t});\\r\\n\\t\\t\\t\\t\\t},1200)\\r\\n\\t\\t\\t\\t\\t\\r\\n\\t\\t\\t}\\r\\n\\t\\t}\\r\\n\\t\\t});\\r\\n\\t\\r\\n\\t}\\r\\n\\tloadpage1zhengwei();\\r\\n\\r\\n</script>\\r\\n \\t</div>\\r\\n \\t\\r\\n <div style=\"clear:both;\"></div>\\r\\n </div>\\r\\n   <div class=\"md_ftc\"><b></b></div>\\r\\n</div>\\r\\n<div  class=\"hide\"></div>\\r\\n</div>\\r\\n\\t\\r\\n\\t\\t\\t\\t\\r\\n\\t\\t\\t\\t\\t<style>\\r\\n@media screen and (max-width: 1024px) {\\r\\n\\t#ad_bhy{display: none;}\\r\\n}\\r\\n</style>\\r\\n<script>\\r\\nvar ad_width_ispc = $(window).width();\\r\\n</script>\\r\\n<div id=\"ad_bhy\">\\r\\n<div id=\"gtyb_1422\" style=\"width: 1000px;\" class=\"ad_tonglan_1209\">\\r\\n<!-- <script type=\"text/javascript\">\\r\\nif(ad_width_ispc > 1024){\\r\\n\\tdocument.write(\\'<scr\\'+\\'ipt type=\"text/javasc\\'+\\'ript\" src=\"//galaxy.bjcathay.com/s?z=cathay&c=1422&_subsite=\\'+domainame_+\\'&_channel=\\'+sub_column_id+\\'&_sorts=\\'+column_id+\\'&_tvcctvpindao=\\'+pindao_1+\\'\" charset=\"gbk\"></scr\\'+\\'ipt>\\');\\r\\n}\\r\\n</script> -->                 \\r\\n</div>\\r\\n<div id=\"gtyb_1423\" style=\"width: 320px;float: left;margin: 0 20px 20px 0;\" class=\"ad_tonglan_1209\">\\r\\n<!-- <script type=\"text/javascript\">\\r\\nif(ad_width_ispc > 1024){\\r\\n\\tdocument.write(\\'<scr\\'+\\'ipt type=\"text/javasc\\'+\\'ript\" src=\"//galaxy.bjcathay.com/s?z=cathay&c=1423&_subsite=\\'+domainame_+\\'&_channel=\\'+sub_column_id+\\'&_sorts=\\'+column_id+\\'&_tvcctvpindao=\\'+pindao_1+\\'\" charset=\"gbk\"></scr\\'+\\'ipt>\\');\\r\\n}\\r\\n</script> -->\\r\\n</div>\\r\\n<div id=\"gtyb_1424\" style=\"width: 320px;float: left;margin: 0 20px 20px 0;\" class=\"ad_tonglan_1209\">\\r\\n<!-- <script type=\"text/javascript\">\\r\\nif(ad_width_ispc > 1024){\\r\\n\\tdocument.write(\\'<scr\\'+\\'ipt type=\"text/javasc\\'+\\'ript\" src=\"//galaxy.bjcathay.com/s?z=cathay&c=1424&_subsite=\\'+domainame_+\\'&_channel=\\'+sub_column_id+\\'&_sorts=\\'+column_id+\\'&_tvcctvpindao=\\'+pindao_1+\\'\" charset=\"gbk\"></scr\\'+\\'ipt>\\');\\r\\n}\\r\\n</script> -->\\r\\n</div>\\r\\n<div id=\"gtyb_1425\" style=\"width: 320px;float: left;margin: 0 0 20px 0px;\" class=\"ad_tonglan_1209\">\\r\\n<!-- <script type=\"text/javascript\">\\r\\nif(ad_width_ispc > 1024){\\r\\n\\tdocument.write(\\'<scr\\'+\\'ipt type=\"text/javasc\\'+\\'ript\" src=\"//galaxy.bjcathay.com/s?z=cathay&c=1425&_subsite=\\'+domainame_+\\'&_channel=\\'+sub_column_id+\\'&_sorts=\\'+column_id+\\'&_tvcctvpindao=\\'+pindao_1+\\'\" charset=\"gbk\"></scr\\'+\\'ipt>\\');\\r\\n}\\r\\n</script> -->\\r\\n</div>\\r\\n<div style=\"clear: both;\"></div>\\r\\n</div>\\r\\n<script type=\"text/javascript\">\\r\\n$(\".ad_tonglan_1209\").each(function(){\\r\\n\\tif($(this).find(\"img\").length == 0){\\r\\n\\t\\t$(this).hide();\\r\\n\\t}\\r\\n})\\r\\n\\r\\nfunction CCTV_2019ad(){}\\r\\nCCTV_2019ad.prototype._ajax = function(url,cb,fn){\\r\\n\\t$.ajax({\\r\\n\\t\\turl:url,\\r\\n\\t\\tdataType:\"jsonp\",\\r\\n\\t\\tcache:true,\\r\\n\\t\\tjsonpCallback:cb,\\r\\n\\t\\tsuccess:function(data){\\r\\n\\t\\t\\tfn(data);\\r\\n\\t\\t}\\r\\n\\t})\\r\\n}\\r\\nvar CCTV_2019ad = new CCTV_2019ad();\\r\\nvar ad_text_style = \\'<div style=\"position: absolute; left: 0px; bottom: 0px; z-index: 999; padding: 0px 3px; font-size: 12px; line-height: 16px; color: rgb(255, 255, 255); background: rgb(0, 0, 0) none repeat scroll 0% 0%; opacity: 0.5;\">广告</div>\\';\\r\\n// 右悬浮 广告 start\\r\\nif(ad_width_ispc > 1024){\\r\\n\\tCCTV_2019ad._ajax(\\'//galaxy.bjcathay.com/s?z=cathay&c=1426&op=1&_subsite=\\'+domainame_+\\'&_channel=\\'+sub_column_id+\\'&_sorts=\\'+column_id+\\'&_tvcctvpindao=\\'+pindao_1+\\'\\',\\'cntvPczh_1426\\',function(data){\\r\\n\\t\\tvar _html = \\'\\';\\r\\n\\t\\t_html += \\'<div style=\"position:absolute;top:-80px;left:8px; width: 70px;height: 70px;cursor: pointer;z-index: 9999;\">\\';\\r\\n\\t\\t_html += \\'<a href=\"\\'+data.clickUrl+\\'\" style=\"background: none;padding:0;\" target=\"_blank\">\\';\\r\\n\\t\\t_html += \\'<img src=\"\\'+data.smallImg+\\'\" >\\';\\r\\n\\t\\t_html += \\'</a>\\';\\r\\n\\t\\t_html += \\'</div>\\';\\r\\n\\t\\t$(\".backTop18897\").prepend(_html);\\r\\n\\t\\tif(data.eventExposure!=\\'\\'){\\r\\n\\t\\t\\t$(\"body\").append(\\'<iframe frameborder=\"0\" width=\"0\" height=\"0\" scrolling=\"no\" src=\"\\'+data.eventExposure+\\'\" style=\"display:none;\"></iframe>\\');\\r\\n\\t\\t}\\r\\n\\t})\\r\\n\\tCCTV_2019ad._ajax(\\'//galaxy.bjcathay.com/s?z=cathay&c=1422&op=1&_subsite=\\'+domainame_+\\'&_channel=\\'+sub_column_id+\\'&_sorts=\\'+column_id+\\'&_tvcctvpindao=\\'+pindao_1+\\'\\',\\'cntvPczh_1422\\',function(data){\\r\\n\\t\\tvar _html = \\'\\';\\r\\n\\t\\t_html += \\'<a href=\"\\'+data.clickUrl+\\'\" style=\"display:block;position:relative;background: none;padding:0;\" target=\"_blank\">\\';\\r\\n\\t\\t_html += \\'<img src=\"\\'+data.smallImg+\\'\" >\\';\\r\\n\\t\\tif(data.ad_text==\\'true\\'){\\r\\n\\t\\t\\t_html += ad_text_style;\\r\\n\\t\\t}\\r\\n\\t\\t_html += \\'</a>\\';\\r\\n\\t\\t_html += \\'<div style=\"height:20px\"></div>\\';\\r\\n\\t\\t$(\"#gtyb_1422\").append(_html);\\r\\n\\t\\t$(\"#gtyb_1422\").show()\\r\\n\\t\\tif(data.eventExposure!=\\'\\'){\\r\\n\\t\\t\\t$(\"body\").append(\\'<iframe frameborder=\"0\" width=\"0\" height=\"0\" scrolling=\"no\" src=\"\\'+data.eventExposure+\\'\" style=\"display:none;\"></iframe>\\');\\r\\n\\t\\t}\\r\\n\\t})\\r\\n\\tCCTV_2019ad._ajax(\\'//galaxy.bjcathay.com/s?z=cathay&c=1423&op=1&_subsite=\\'+domainame_+\\'&_channel=\\'+sub_column_id+\\'&_sorts=\\'+column_id+\\'&_tvcctvpindao=\\'+pindao_1+\\'\\',\\'cntvPczh_1423\\',function(data){\\r\\n\\t\\tvar _html = \\'\\';\\r\\n\\t\\t_html += \\'<a href=\"\\'+data.clickUrl+\\'\" style=\"display:block;position:relative;background: none;padding:0;\" target=\"_blank\">\\';\\r\\n\\t\\t_html += \\'<img src=\"\\'+data.smallImg+\\'\" >\\';\\r\\n\\t\\tif(data.ad_text==\\'true\\'){\\r\\n\\t\\t\\t_html += ad_text_style;\\r\\n\\t\\t}\\r\\n\\t\\t_html += \\'</a>\\';\\r\\n\\t\\t$(\"#gtyb_1423\").append(_html);\\r\\n\\t\\t$(\"#gtyb_1423\").show()\\r\\n\\t\\tif(data.eventExposure!=\\'\\'){\\r\\n\\t\\t\\t$(\"body\").append(\\'<iframe frameborder=\"0\" width=\"0\" height=\"0\" scrolling=\"no\" src=\"\\'+data.eventExposure+\\'\" style=\"display:none;\"></iframe>\\');\\r\\n\\t\\t}\\r\\n\\t})\\r\\n\\tCCTV_2019ad._ajax(\\'//galaxy.bjcathay.com/s?z=cathay&c=1424&op=1&_subsite=\\'+domainame_+\\'&_channel=\\'+sub_column_id+\\'&_sorts=\\'+column_id+\\'&_tvcctvpindao=\\'+pindao_1+\\'\\',\\'cntvPczh_1424\\',function(data){\\r\\n\\t\\tvar _html = \\'\\';\\r\\n\\t\\t_html += \\'<a href=\"\\'+data.clickUrl+\\'\" style=\"display:block;position:relative;background: none;padding:0;\" target=\"_blank\">\\';\\r\\n\\t\\t_html += \\'<img src=\"\\'+data.smallImg+\\'\" >\\';\\r\\n\\t\\tif(data.ad_text==\\'true\\'){\\r\\n\\t\\t\\t_html += ad_text_style;\\r\\n\\t\\t}\\r\\n\\t\\t_html += \\'</a>\\';\\r\\n\\t\\t$(\"#gtyb_1424\").append(_html);\\r\\n\\t\\t$(\"#gtyb_1424\").show()\\r\\n\\t\\tif(data.eventExposure!=\\'\\'){\\r\\n\\t\\t\\t$(\"body\").append(\\'<iframe frameborder=\"0\" width=\"0\" height=\"0\" scrolling=\"no\" src=\"\\'+data.eventExposure+\\'\" style=\"display:none;\"></iframe>\\');\\r\\n\\t\\t}\\r\\n\\t})\\r\\n\\tCCTV_2019ad._ajax(\\'//galaxy.bjcathay.com/s?z=cathay&c=1425&op=1&_subsite=\\'+domainame_+\\'&_channel=\\'+sub_column_id+\\'&_sorts=\\'+column_id+\\'&_tvcctvpindao=\\'+pindao_1+\\'\\',\\'cntvPczh_1425\\',function(data){\\r\\n\\t\\tvar _html = \\'\\';\\r\\n\\t\\t_html += \\'<a href=\"\\'+data.clickUrl+\\'\" style=\"display:block;position:relative;background: none;padding:0;\" target=\"_blank\">\\';\\r\\n\\t\\t_html += \\'<img src=\"\\'+data.smallImg+\\'\" >\\';\\r\\n\\t\\tif(data.ad_text==\\'true\\'){\\r\\n\\t\\t\\t_html += ad_text_style;\\r\\n\\t\\t}\\r\\n\\t\\t_html += \\'</a>\\';\\r\\n\\t\\t$(\"#gtyb_1425\").append(_html);\\r\\n\\t\\t$(\"#gtyb_1425\").show()\\r\\n\\t\\tif(data.eventExposure!=\\'\\'){\\r\\n\\t\\t\\t$(\"body\").append(\\'<iframe frameborder=\"0\" width=\"0\" height=\"0\" scrolling=\"no\" src=\"\\'+data.eventExposure+\\'\" style=\"display:none;\"></iframe>\\');\\r\\n\\t\\t}\\r\\n\\t})\\r\\n}\\r\\n// 右悬浮 广告 end\\r\\n</script>\\r\\n<style>\\r\\n#ad_bhy_yd{position: relative;}\\r\\n#ad_bhy_yd img{width: 100%;}\\r\\n@media screen and (min-width: 1024px) {\\r\\n\\t#ad_bhy_yd{display: none;}\\r\\n}\\r\\n</style>\\r\\n<div id=\"ad_bhy_yd\"></div>\\r\\n<script type=\"text/javascript\">\\r\\n//移动端 通栏广告\\r\\nif(ad_width_ispc <= 1024){\\r\\n\\tCCTV_2019ad._ajax(\\'//galaxy.bjcathay.com/s?z=cathay&c=1592&op=1\\',\\'cntvPczh_1592\\',function(data){\\r\\n\\t\\tvar _html = \\'\\';\\r\\n\\t\\t_html += \\'<a href=\"\\'+data.clickUrl+\\'\">\\';\\r\\n\\t\\t_html += \\'<img src=\"\\'+data.smallImg+\\'\">\\';\\r\\n\\t\\t_html += \\'</a>\\';\\r\\n\\t\\t_html += \\'<div style=\"position: absolute; left: 0px; top: 0; z-index: 999; padding: 0px 3px; font-size: 12px; line-height: 16px; color: rgb(255, 255, 255); background: rgb(0, 0, 0) none repeat scroll 0% 0%; opacity: 0.5;\">广告</div>\\';\\r\\n\\t\\t$(\"#ad_bhy_yd\").append(_html);\\r\\n\\t\\t$(\"#ad_bhy_yd img\").css(\"margin-bottom\",\"0.5rem\");\\r\\n\\t\\tif(data.eventExposure!=\\'\\'){\\r\\n\\t\\t\\t$(\"body\").append(\\'<iframe frameborder=\"0\" width=\"0\" height=\"0\" scrolling=\"no\" src=\"\\'+data.eventExposure+\\'\" style=\"display:none;\"></iframe>\\');\\r\\n\\t\\t}\\r\\n\\t})\\r\\n}\\r\\n</script>\\r\\n\\r\\n\\t\\t\\t\\t\\r\\n\\t\\t\\t\\r\\n\\r\\n\\r\\n                    \\n<div class=\"ELMTI0j7C2U0szEIppZQUAtp190810\" data-spm=\"EI0j7C2U0szE\" >\\r\\n<div class=\"md\">\\r\\n\\t \\r\\n\\t  \\r\\n                <div class=\"md_hdc\"><b></b></div>\\r\\n\\t\\t\\t\\t<div class=\"md_hd\">\\r\\n\\r\\n\\t\\t<span class=\"mh_title\">精彩图集</span>\\r\\n\\t\\t\\r\\n\\t </div>\\r\\n \\r\\n \\r\\n <div class=\"md_bd\">\\r\\n \\t\\r\\n \\t<div data-spm=\"S11105\" id=\"SUBD1565436404011105\">\\r\\n\\t\\t<div class=\"ELMT7K3Ifv1VruWce6A1BfEZ190810\" data-spm= \"E7K3Ifv1VruW\">\\r\\n<div class=\"BottomPageUniversal18897_con06\">\\r\\n\\t<div class=\"content\">\\r\\n\\t\\t<ul id=\"page5tuji\">\\r\\n\\t\\t\\t\\r\\n\\t\\t</ul>\\r\\n\\t\\t<div class=\"clear\"></div>\\r\\n\\t\\t<div class=\"more\"><a href=\"javascript:;\">加载更多</a></div>\\r\\n\\t\\t<div class=\"clear\"></div>\\r\\n\\t</div>\\r\\n\\t<div class=\"clear\"></div>\\r\\n</div>\\r\\n\\r\\n\\r\\n</div>\\r\\n<script type=\"text/javascript\">\\r\\n\\tfunction loadpage5tuji(){\\r\\n\\t\\tvar channelNames=\"PAGE1354763979898165,PAGE1354764009204216\";\\r\\n\\t\\tif(channelNames.indexOf(\",\")>0){\\r\\n\\t\\t\\tvar cb=\"t\"+channelNames.split(\",\")[0]\\r\\n\\t\\t}else{\\r\\n\\t\\t\\tvar cb=\"t\";\\r\\n\\t\\t}\\r\\n\\t\\r\\n\\t\\tvar url=\"//api.cntv.cn/List/getListByPageid?id=\"+channelNames+\"&kind=p&n=16&p=1&serviceId=pcnews\"\\r\\n\\t\\t$.ajax({\\r\\n\\t\\ttype:\"get\",\\r\\n\\t\\turl:url,\\r\\n\\t\\tcache:true,\\r\\n\\t\\tdataType:\\'jsonp\\',\\r\\n\\t\\tjsonp:\"cb\",\\r\\n\\t\\tjsonpCallback:cb,\\r\\n\\t\\tsuccess:function(data){\\t\\r\\n\\t\\t\\tvar datalist=data.data.list\\r\\n\\t\\t\\tvar str=\"\"\\r\\n\\t\\t\\tfor(var i=0;i<datalist.length;i++){\\r\\n\\t\\t\\t\\tif(i<8){\\r\\n\\t\\t\\t\\t\\tif(i==0){\\r\\n\\t\\t\\t\\t\\t\\tstr+=\\'<li style=\"display: block\" class=\"first\">\\'\\r\\n\\t\\t\\t\\t\\t}else if(i%2==0){\\r\\n\\t\\t\\t\\t\\t\\tstr+=\\'<li style=\"display: block\" class=\"odd\">\\'\\r\\n\\t\\t\\t\\t\\t}else{\\r\\n\\t\\t\\t\\t\\t\\tstr+=\\'<li style=\"display: block\">\\'\\r\\n\\t\\t\\t\\t\\t}\\r\\n\\t\\t\\t\\t}else{\\r\\n\\t\\t\\t\\t\\tif(i%2==0){\\r\\n\\t\\t\\t\\t\\t\\tstr+=\\'<li style=\"display: none\" class=\"odd\">\\'\\r\\n\\t\\t\\t\\t\\t}else{\\r\\n\\t\\t\\t\\t\\t\\tstr+=\\'<li style=\"display: none\">\\'\\r\\n\\t\\t\\t\\t\\t}\\r\\n\\t\\t\\t\\t\\t\\t\\t\\t\\t\\r\\n\\t\\t\\t\\t}\\r\\n\\t\\t\\t\\tif($(window).width() <=1024){\\r\\n\\t\\t\\t\\t\\tif(i==0){\\r\\n\\t\\t\\t\\t\\t\\tvar listimg5=datalist[i].image+\"?w=702&h=396&p=0\"\\r\\n\\t\\t\\t\\t\\t}else{\\r\\n\\t\\t\\t\\t\\t\\tvar listimg5=datalist[i].image+\"?w=330&h=186&p=0\"\\r\\n\\t\\t\\t\\t\\t}\\r\\n\\t\\t\\t\\t\\t\\r\\n\\t\\t\\t\\t}else{\\r\\n\\t\\t\\t\\t\\tvar listimg5=datalist[i].image\\r\\n\\t\\t\\t\\t}\\r\\n\\t\\t\\t\\tstr+=\\'<div class=\"image\"><a  href=\"\\'+datalist[i].url+\\'\" target=\"_blank\"><img src=\"\\'+listimg5+\\'\"></a></div><div class=\"text\"><div class=\"title\"><a  href=\"\\'+datalist[i].url+\\'\" target=\"_blank\">\\'+datalist[i].title+\\'</a></div></div></li>\\';\\r\\n\\t\\t\\t\\t}\\r\\n\\t\\t\\t\\t\\r\\n\\t\\t\\r\\n\\t\\t\\r\\n\\t\\t\\t$(\"#page5tuji\").html(str)\\r\\n\\t\\t\\tFor_change(\"BottomPageUniversal18897_con06\");\\r\\n\\t\\t\\r\\n\\t\\t\\t\\tif($(window).width()<=1024){\\r\\n\\t\\t\\t\\t\\t\\r\\n\\t\\t\\t\\t\\t$(\"#page5tuji\").find(\"a\").each(function(){\\r\\n\\t\\t\\t\\t\\t\\t$(\"a\").removeAttr(\"target\")\\r\\n\\t\\t\\t\\t\\t})\\r\\n\\t\\t\\t\\t\\t\\r\\n\\t\\t\\t\\t\\t\\t\\r\\n\\t\\t\\t\\t\\t}else{\\r\\n\\t\\t\\t\\t\\t\\r\\n\\t\\t\\t\\t\\tvar gallery = $(\\'.BottomPageUniversal18897_con06 ul li\\');\\r\\n\\t\\t\\t\\tvar positionBottom=$(\\'.BottomPageUniversal18897_con06 ul li\\').height();\\r\\n\\t\\t\\t\\tgallery.find(\\'.text\\').stop().animate({bottom:-positionBottom+\"px\"},500);\\r\\n\\t\\t\\t\\tgallery.mouseenter(function(){\\r\\n\\t\\t\\t\\t\\t$(this).find(\\'.text\\').stop().animate({bottom:0},500);\\r\\n\\t\\t\\t\\t})\\r\\n\\t\\t\\t\\tgallery.mouseleave(function(){\\r\\n\\t\\t\\t\\t\\t$(this).find(\\'.text\\').stop().animate({bottom:-positionBottom+\"px\"},500);\\r\\n\\t\\t\\t\\t})\\r\\n\\t\\t\\t\\r\\n\\t\\t\\t\\t \\t}\\r\\n\\r\\n\\t\\t\\t}\\r\\n\\t\\t\\t\\t});\\r\\n\\t\\r\\n\\t\\t\\t}\\r\\n\\t\\tloadpage5tuji();\\r\\n\\r\\n</script>\\r\\n \\t</div>\\r\\n \\t\\r\\n <div style=\"clear:both;\"></div>\\r\\n </div>\\r\\n   <div class=\"md_ftc\"><b></b></div>\\r\\n</div>\\r\\n<div  class=\"hide\"></div>\\r\\n</div>\\r\\n\\t\\r\\n\\t\\t\\t\\t\\r\\n\\t\\t\\t\\t\\t\\r\\n\\t\\t\\t\\t\\r\\n\\t\\t\\t\\r\\n\\r\\n\\r\\n                        <div class=\"search\">\\r\\n            <input type=\"text\" placeholder=\"请输入你想搜索的关键词\" id=\"textshousuo\">\\r\\n            <div class=\"btn\" onclick=\"searchForm_submit()\"></div>\\r\\n        </div>\\r\\n            <script type=\"text/javascript\">\\r\\n                        function trim(str) {\\r\\n                                return str.replace(/(^\\\\s*)|(\\\\s*$)/g, \"\");\\r\\n                            }\\r\\n                        function searchForm_submit() {\\r\\n                        var str = trim(document.getElementById(\"textshousuo\").value);\\r\\n                        if(str.length > 0) {\\r\\n                            window.open(\"https://search.cctv.com/search.php?qtext=\"+str);\\r\\n                        } else {\\r\\n                            \\r\\n                            window.open(\"https://search.cctv.com/index.php\");\\r\\n                        }\\r\\n                    }\\r\\n                    </script>\\r\\n            </div>  \\r\\n        </div>\\r\\n        <!-- 移动页底部 -->\\r\\n        <div class=\"phone_footer\">\\r\\n            <link type=\"text/css\" rel=\"stylesheet\" href=\"//r.img.cctvpic.com/nettv/mcntv/mobile/mggbhy/dtbhy/style/style.css?41b472ab7d23fd8d76814d0a5475c1b1\"/>\\n<div class=\"ELMTRyNFQFGpkDujVB7r0Jfn190217\" data-spm=\"ERyNFQFGpkDu\">\\r\\n<div class=\"footer\">\\r\\n\\t<div class=\"link\">\\r\\n\\t\\t<a href=\"http://m.cctv.com/\">首页</a>|<a href=\"http://m.cctv.com/quanzhannav2019/index.shtml\">全站地图</a>\\r\\n\\t</div>\\r\\n\\t<p><span>中央广播电视总台</span><span>央视网</span><span>版权所有</span></p>\\r\\n</div>\\r\\n</div>\\r\\n          </div>\\r\\n          \\r\\n          <!-- PC页底部 -->\\r\\n          <div id=\"page_bottom\">\\r\\n          <!-- 全网统一通用页尾new --> \\r\\n          \\n\\r\\n\\t\\r\\n\\t\\t\\t\\t\\r\\n\\t\\t\\t\\t\\t<script src=\"//www.cctv.com/newcctv/containingPages/mapjs/index.js\" type=\"text/javascript\" charset=\"utf-8\"></script>\\r\\n\\t\\t\\t\\t\\r\\n\\t\\t\\t\\r\\n\\r\\n \\r\\n            <div class=\"pc_footer\">\\r\\n                \\n\\r\\n\\t\\r\\n\\t\\t\\t\\t\\r\\n\\t\\t\\t\\t\\t<script src=\"//www.cctv.com/newcctv/containingPages/bottomjs/index.js\" type=\"text/javascript\" charset=\"utf-8\"></script>\\r\\n\\t\\t\\t\\t\\r\\n\\t\\t\\t\\r\\n\\r\\n \\r\\n            </div>\\r\\n        \\r\\n          </div>\\r\\n        <div class=\"daohangtiao\">\\r\\n                    <div class=\"content\">\\r\\n                        <img src=\"//p1.img.cctvpic.com/photoAlbum/templet/common/DEPA1565315968922641/yangshiwang_logo_18897_190809.png\">\\r\\n                        \\r\\n                          <span class=\"daohangtitle\"><b>正在阅读：</b>新疆：“黄金通道”释放“黄金价值”</span>\\r\\n                                            \\r\\n                        <div class=\"right\">\\r\\n                            <div class=\"share\">\\r\\n                                <span>分享</span>\\r\\n                                <a id=\"weixintop\" class=\"weixin\"></a>\\r\\n                                <a data-fx=\"wb-btn\" class=\"weibo\"></a>\\r\\n                                <a data-fx=\"qq-btn\" class=\"qq\"></a>\\r\\n                                <a data-fx=\"qz-btn\" class=\"kongjian\"></a>\\r\\n                            </div>\\r\\n                            <div id=\"cntvshare_weixin\" class=\"zwweixin_weixin\">\\r\\n                                <div class=\"zwweixin_head\"></div>\\r\\n                                <div class=\"sharebg\">\\r\\n                                    <div id=\"codeqr1\" class=\"wxcodeqr\" >\\r\\n                                    </div>\\r\\n                                <div class=\"zwrweixin_headfoot\">扫一扫 分享到微信</div>\\r\\n                                </div>\\r\\n                            </div>\\r\\n                            <div class=\"phone\">\\r\\n                                <i></i>\\r\\n                                <span>手机看</span>\\r\\n                                <div class=\"cord\">\\r\\n                    <div class=\"cord_head\"></div>\\r\\n                    <div class=\"cord_bo\">\\r\\n                        <div id=\"codeqr5\" class=\"codeqr2\" style=\"width:102px;height:102px;padding:24px 24px 0 24px;margin:0 auto;min-height:102px;\"></div>\\r\\n                        <div class=\"spo\">扫一扫 手机继续看</div>\\r\\n                    </div>\\r\\n                    </div>\\r\\n                            </div>\\r\\n                            <div class=\"wzdx\">\\r\\n                                <span class=\"reduce\">A-</span>\\r\\n                                <span class=\"add\">A+</span>\\r\\n                            </div>\\r\\n                        \\r\\n                        </div>\\r\\n                        <div class=\"clear\"></div>\\r\\n                    </div>\\r\\n                </div>\\r\\n        \\r\\n</div>\\r\\n<script type=\"text/javascript\">\\r\\n    if(hdprop.length>0&&eval(\"(\"+hdprop+\")\").allow_praise==0){\\r\\n\\r\\n    }else{\\r\\n\\t\\t$(\"#zanNum\").remove();\\r\\n\\t\\t$(\".page_wrap_190703 .bottom_ind01 .fir .shu\").remove();\\r\\n\\t\\t$(\"#bottomzanNum\").parent(\"a\").remove();\\r\\n\\t}\\r\\nif(hdprop.length>0 && eval(\"(\"+hdprop+\")\").allow_share==0){\\r\\n\\r\\n}else{\\r\\n   $(\".daohangtiao .content .right .share\").remove();\\r\\n   $(\".page_wrap_190703 .bottom_ind01 .fir .sharelike\").remove();\\r\\n}\\r\\n</script>\\r\\n<script type=\"text/javascript\" src=\"//p2.img.cctvpic.com/photoAlbum/templet/common/DEPA1561603549108607/shareindex.js\"></script>\\r\\n<script src=\"//p1.img.cctvpic.com/photoAlbum/templet/common/DEPA1565315968922641/nativeShareXY.js\"></script>\\r\\n<script type=\"text/javascript\" src=\"//res.wx.qq.com/open/js/jweixin-1.0.0.js\"></script>\\r\\n<script type=\"text/javascript\" src=\"//g.alicdn.com/dingding/open-develop/1.9.0/dingtalk.js\"></script>\\r\\n\\r\\n<script type=\"text/javascript\" src=\"//p1.img.cctvpic.com/photoAlbum/templet/common/DEPA1565315968922641/diceng_newstw_20190903.js?a\"></script>\\r\\n\\r\\n</body>\\r\\n\\r\\n</html>  \\r\\n '"
      ]
     },
     "execution_count": 40,
     "metadata": {},
     "output_type": "execute_result"
    }
   ],
   "source": [
    "page_url = 'https://news.cctv.com/2024/05/22/ARTIyvrd1nW2ptdpz1rveHzK240522.shtml'\n",
    "response = requests.get(page_url,headers=get_random_headers())\n",
    "response.encoding = 'utf-8'\n",
    "content = response.text\n",
    "content"
   ]
  },
  {
   "cell_type": "code",
   "execution_count": 41,
   "metadata": {},
   "outputs": [],
   "source": [
    "html = etree.HTML(content,parser=etree.HTMLParser())\n"
   ]
  },
  {
   "cell_type": "code",
   "execution_count": 42,
   "metadata": {},
   "outputs": [
    {
     "data": {
      "text/plain": [
       "'新疆：“黄金通道”释放“黄金价值”'"
      ]
     },
     "execution_count": 42,
     "metadata": {},
     "output_type": "execute_result"
    }
   ],
   "source": [
    "title = html.xpath('//*[@id=\"title_area\"]/h1/text()')[0]\n",
    "title"
   ]
  },
  {
   "cell_type": "code",
   "execution_count": 43,
   "metadata": {},
   "outputs": [
    {
     "data": {
      "text/plain": [
       "'ARTIyvrd1nW2ptdpz1rveHzK240522'"
      ]
     },
     "execution_count": 43,
     "metadata": {},
     "output_type": "execute_result"
    }
   ],
   "source": [
    "tag = page_url.split('/')[-1].split('.')[0]\n",
    "tag"
   ]
  },
  {
   "cell_type": "code",
   "execution_count": 44,
   "metadata": {},
   "outputs": [
    {
     "data": {
      "text/plain": [
       "'2024年05月22日 20:49:40'"
      ]
     },
     "execution_count": 44,
     "metadata": {},
     "output_type": "execute_result"
    }
   ],
   "source": [
    "time = html.xpath('//*[@id=\"title_area\"]/div[1]/text()[2]')[0]\n",
    "time = ' '.join(time.split()[1:])\n",
    "time"
   ]
  },
  {
   "cell_type": "code",
   "execution_count": 45,
   "metadata": {},
   "outputs": [
    {
     "data": {
      "text/plain": [
       "'人民网'"
      ]
     },
     "execution_count": 45,
     "metadata": {},
     "output_type": "execute_result"
    }
   ],
   "source": [
    "source = html.xpath('//*[@id=\"title_area\"]/div[1]/a/text()')[0]\n",
    "source"
   ]
  },
  {
   "cell_type": "code",
   "execution_count": 46,
   "metadata": {},
   "outputs": [
    {
     "data": {
      "text/plain": [
       "['“今年公司试水了货运包机出口业务，这将成为我们外贸的主要增长点。”新疆喀什中顺电子商务有限公司负责人张琪“五一”假期后，马不停蹄地在疆外出差，学经验、请人才。下半年，张琪准备大展手脚，至少完成50个班次货运包机业务，力争公司外贸额翻一番。',\n",
       " '4月26日，乌鲁木齐—萨莱诺中欧班列顺利开行，这标志着新疆中欧班列境外南通道跨“两海”线路成功运行。吴奇摄',\n",
       " '外贸企业创新、引才、拓市场，口岸货畅、人忙、贸易兴，是新疆外贸形势持续向好的缩影。前4月，新疆外贸进出口总值1379亿元人民币，同比增长49.5%，增速居全国第2位，连续30个月保持正增长，开放优势不断释放，再现着“使者相望于道，商旅不绝于途”的古丝路繁华。',\n",
       " '5月15日，一辆运载着香蕉、柑橘等水果的冷藏厢式货车抵达霍尔果斯公路口岸，在“口岸直通”作业模式下，从装运上车到通关出境仅用1小时，当天就能出现在哈萨克斯坦阿拉木图市民的餐桌上。',\n",
       " '“口岸直通”模式由乌鲁木齐海关创新推出，去年11月，该模式在阿拉山口公路口岸正式运行，车辆平均通行时间从34.5小时压缩到5小时。当前，这项改革正逐渐推广到全疆。',\n",
       " '霍尔果斯公路口岸，等待通关的汽车。人民网 李欣洋摄',\n",
       " '霍尔果斯海关副关长陈鹏德介绍，通过推出提前申报和集中查验，配套数据自动提取、多国车牌智能识别等科技手段，从根本上提高了公路口岸出口货物的时效性。据统计，前3月，霍尔果斯公路口岸出口果蔬11.2万吨，同比增长6.9倍。',\n",
       " '不仅仅是通关时效，该模式也给企业带来了真金白银的甜头。',\n",
       " '“启用新模式后，每车运输成本可减少1000元左右。”说起该项改革的好处，新疆乐果果业有限公司负责人张朋亮算了一笔“经济账”，“目前已累计为企业节约成本超160万元，实现效益和效率的双向奔赴。”',\n",
       " '5月10日，一辆满载苹果的冷链运输车从乌鲁木齐市发车前往哈萨克斯坦阿拉木图市。这是新疆首次实现果蔬冷链卡航直达中亚市场。图为乌昌海关关员对冷链卡航模式出口鲜苹果进行验放。杨逸萌摄',\n",
       " '口岸是外贸发展的生命线。通关效能的提升，让经贸走得更远。前四月，新疆与197个国家和地区产生贸易往来，对东盟、RCEP其他成员国、非洲、拉美均实现3倍以上的出口增速，贸易伙伴更趋多元。',\n",
       " '今年以来，中国新疆持续巩固与周边国家互访交流成果，以中亚五国为重点，积极主动深化与共建“一带一路”国家全面交流合作，扩大高水平向西开放。',\n",
       " '3月末，自治区政府代表团访问中亚三国。乌鲁木齐海关党委委员、副关长李清华也是代表团成员之一，谈及最大感受，她坦言：“中亚国家对中国的认可度越来越高。”',\n",
       " '阿拉山口口岸，跨国司机努尔江的货车装车完毕。人民网记者 陈新辉摄',\n",
       " '认可度在“中国制造”方面体现得格外明显。',\n",
       " '“这次我的目的地是阿塞拜疆巴库。”5月9日，来自哈萨克斯坦的跨国货车司机努尔江风尘仆仆地从哈萨克斯坦阿拉木图市赶到中国新疆阿拉山口市。',\n",
       " '努尔江是一家国际物流有限公司在阿拉木图市签约车队的货车司机。5月13日，他和其他司机陆续出发，将68辆新能源车运到吉尔吉斯斯坦、阿塞拜疆、白俄罗斯等地。',\n",
       " '“我们在路上经常看到中国的新能源车，这种车外观科技感足，性价比高，在我常去的那些国家属于‘网红车’。”努尔江说，现在，他们运送新能源车的频次比去年高了一倍。',\n",
       " '这一增长在该物流公司副总经孔祥林那里得到印证：“公司前不久签了个大单，从5月开始，每月要运输100辆新能源车到共建‘一带一路’国家，我们预计承接运输出口的新能源车数量比去年增长300%左右。”',\n",
       " '在霍尔果斯口岸，电动汽车出口同样迎来暴增，前3月同比增长了3倍多，达到2.2万辆；',\n",
       " '334辆，398辆，400辆……在百年口岸巴克图，今年以来，单日出口商品车连创新高；',\n",
       " '阿拉山口站编组场内停靠着待发的中欧班列及其他出入境货物列车。人民网 李欣洋摄',\n",
       " '前4月，新疆电动汽车、光伏产品、锂电池等“新三样”产品出口值同比增长152.1%，成为新疆外贸新动能的重要组成部分。',\n",
       " '新疆大学经济与管理学院教授古丽娜尔·玉素甫表示，“新三样”不仅是新疆未来产业发展的重要方向，也是经济增长的新动力，将带动相关产业链上下游协同发展。',\n",
       " '在中国西部边境小城霍尔果斯，跨境电商直播如火如荼。',\n",
       " '“市面上的五金产品，在我直播间都可以买到，都是‘中国制造’。”主播阿依格热木·哈比别克正在用俄语、哈萨克语等多种语言进行跨境直播带货。',\n",
       " '阿依格热木来自哈萨克斯坦雅尔肯特市，长期在中哈霍尔果斯国际边境合作中心从事跨境贸易工作：“在我们那里，跨国上班正成为潮流。”',\n",
       " '主播正在霍尔果斯义乌国际商贸城直播。李勇摄',\n",
       " '2023年春天，霍尔果斯义乌国际商贸城开始开展跨境电商直播业务，正在招兵买马的时候，阿依格热木看准机会，于同年6月正式上岗直播带货，成为该公司第一位国际主播。掌握多种语言的她很快就拥有了一大波粉丝。',\n",
       " '霍尔果斯义乌国际商贸城（有限公司）董事长金兴忠介绍：目前公司拥有20多位“国际主播”，用7种语言向中亚地区和俄罗斯消费者介绍中国商品。中国（新疆）自由贸易试验区的揭牌为该公司带来了新机遇，一季度公司跨境电商直播进出口贸易额比去年四季度增长83.33%。',\n",
       " '古丽娜尔·玉素甫说，中国（新疆）自由贸易试验区的设立，将自贸试验区的制度优势和新疆通道基础、口岸基础、交流基础的优势进行叠加，充分释放出外贸的发展动能。',\n",
       " '这一提法在伊犁州交出的外贸“成绩单”中得到了印证：前4月，伊犁州进出口增长129.7%，占同期新疆外贸总值的26.1%，居全疆第一。',\n",
       " '随着新疆对外开放的不断扩大，新的跨境经贸合作样板还在不断涌现，优势转化为发展动能的故事还在继续。',\n",
       " '锚定在国家全局中的五大战略定位，不断把区位优势转化为发展优势、竞争优势，打造亚欧黄金通道和向西开放桥头堡——新疆，大有可为！']"
      ]
     },
     "execution_count": 46,
     "metadata": {},
     "output_type": "execute_result"
    }
   ],
   "source": [
    "news_content = html.xpath('//*[@id=\"content_area\"]/p/text()')\n",
    "news_content = [s.strip() for s in news_content]\n",
    "news_content = [s for s in news_content if s]\n",
    "news_content"
   ]
  },
  {
   "cell_type": "code",
   "execution_count": 47,
   "metadata": {},
   "outputs": [],
   "source": [
    "news_img_nodes = html.xpath('//*[@id=\"content_area\"]/p[contains(@class,\"photo\") and contains(@style,\"text\") and img]')\n",
    "news_img_desc_nodes = html.xpath('//*[@id=\"content_area\"]/p[contains(@class,\"photo\") and contains(@style,\"text\") and not(*)]')\n",
    "news_content_nodes = html.xpath('//*[@id=\"content_area\"]/p')\n"
   ]
  },
  {
   "cell_type": "code",
   "execution_count": 54,
   "metadata": {},
   "outputs": [],
   "source": [
    "content = []\n",
    "for node in news_content_nodes:\n",
    "    if node in news_img_nodes: #取出图片链接\n",
    "        img_url = 'https:' + node.xpath('img/@src')[0]\n",
    "        content.append({'type':'img_url','data':img_url})\n",
    "    elif node in news_img_desc_nodes:\n",
    "        img_desc = node.xpath('text()')[0].strip()\n",
    "        content.append({'type':'img_desc','data':img_desc})\n",
    "    else:\n",
    "        text = node.xpath('text()')[0].strip()\n",
    "        content.append({'type':'text','data':text})\n",
    "\n",
    "        \n"
   ]
  },
  {
   "cell_type": "code",
   "execution_count": 55,
   "metadata": {},
   "outputs": [
    {
     "data": {
      "text/plain": [
       "[{'type': 'text',\n",
       "  'data': '“今年公司试水了货运包机出口业务，这将成为我们外贸的主要增长点。”新疆喀什中顺电子商务有限公司负责人张琪“五一”假期后，马不停蹄地在疆外出差，学经验、请人才。下半年，张琪准备大展手脚，至少完成50个班次货运包机业务，力争公司外贸额翻一番。'},\n",
       " {'type': 'img_url',\n",
       "  'data': 'https://p3.img.cctvpic.com/photoworkspace/contentimg/2024/05/22/2024052220435240761.png'},\n",
       " {'type': 'img_desc',\n",
       "  'data': '4月26日，乌鲁木齐—萨莱诺中欧班列顺利开行，这标志着新疆中欧班列境外南通道跨“两海”线路成功运行。吴奇摄'},\n",
       " {'type': 'text',\n",
       "  'data': '外贸企业创新、引才、拓市场，口岸货畅、人忙、贸易兴，是新疆外贸形势持续向好的缩影。前4月，新疆外贸进出口总值1379亿元人民币，同比增长49.5%，增速居全国第2位，连续30个月保持正增长，开放优势不断释放，再现着“使者相望于道，商旅不绝于途”的古丝路繁华。'},\n",
       " {'type': 'text', 'data': ''},\n",
       " {'type': 'text', 'data': ''},\n",
       " {'type': 'text',\n",
       "  'data': '5月15日，一辆运载着香蕉、柑橘等水果的冷藏厢式货车抵达霍尔果斯公路口岸，在“口岸直通”作业模式下，从装运上车到通关出境仅用1小时，当天就能出现在哈萨克斯坦阿拉木图市民的餐桌上。'},\n",
       " {'type': 'text',\n",
       "  'data': '“口岸直通”模式由乌鲁木齐海关创新推出，去年11月，该模式在阿拉山口公路口岸正式运行，车辆平均通行时间从34.5小时压缩到5小时。当前，这项改革正逐渐推广到全疆。'},\n",
       " {'type': 'img_url',\n",
       "  'data': 'https://p5.img.cctvpic.com/photoworkspace/contentimg/2024/05/22/2024052220435223190.png'},\n",
       " {'type': 'img_desc', 'data': '霍尔果斯公路口岸，等待通关的汽车。人民网 李欣洋摄'},\n",
       " {'type': 'text',\n",
       "  'data': '霍尔果斯海关副关长陈鹏德介绍，通过推出提前申报和集中查验，配套数据自动提取、多国车牌智能识别等科技手段，从根本上提高了公路口岸出口货物的时效性。据统计，前3月，霍尔果斯公路口岸出口果蔬11.2万吨，同比增长6.9倍。'},\n",
       " {'type': 'text', 'data': '不仅仅是通关时效，该模式也给企业带来了真金白银的甜头。'},\n",
       " {'type': 'text',\n",
       "  'data': '“启用新模式后，每车运输成本可减少1000元左右。”说起该项改革的好处，新疆乐果果业有限公司负责人张朋亮算了一笔“经济账”，“目前已累计为企业节约成本超160万元，实现效益和效率的双向奔赴。”'},\n",
       " {'type': 'img_url',\n",
       "  'data': 'https://p2.img.cctvpic.com/photoworkspace/contentimg/2024/05/22/2024052220435285125.png'},\n",
       " {'type': 'img_desc',\n",
       "  'data': '5月10日，一辆满载苹果的冷链运输车从乌鲁木齐市发车前往哈萨克斯坦阿拉木图市。这是新疆首次实现果蔬冷链卡航直达中亚市场。图为乌昌海关关员对冷链卡航模式出口鲜苹果进行验放。杨逸萌摄'},\n",
       " {'type': 'text',\n",
       "  'data': '口岸是外贸发展的生命线。通关效能的提升，让经贸走得更远。前四月，新疆与197个国家和地区产生贸易往来，对东盟、RCEP其他成员国、非洲、拉美均实现3倍以上的出口增速，贸易伙伴更趋多元。'},\n",
       " {'type': 'text', 'data': ''},\n",
       " {'type': 'text', 'data': ''},\n",
       " {'type': 'text',\n",
       "  'data': '今年以来，中国新疆持续巩固与周边国家互访交流成果，以中亚五国为重点，积极主动深化与共建“一带一路”国家全面交流合作，扩大高水平向西开放。'},\n",
       " {'type': 'text',\n",
       "  'data': '3月末，自治区政府代表团访问中亚三国。乌鲁木齐海关党委委员、副关长李清华也是代表团成员之一，谈及最大感受，她坦言：“中亚国家对中国的认可度越来越高。”'},\n",
       " {'type': 'img_url',\n",
       "  'data': 'https://p2.img.cctvpic.com/photoworkspace/contentimg/2024/05/22/2024052220435213448.png'},\n",
       " {'type': 'img_desc', 'data': '阿拉山口口岸，跨国司机努尔江的货车装车完毕。人民网记者 陈新辉摄'},\n",
       " {'type': 'text', 'data': '认可度在“中国制造”方面体现得格外明显。'},\n",
       " {'type': 'text',\n",
       "  'data': '“这次我的目的地是阿塞拜疆巴库。”5月9日，来自哈萨克斯坦的跨国货车司机努尔江风尘仆仆地从哈萨克斯坦阿拉木图市赶到中国新疆阿拉山口市。'},\n",
       " {'type': 'text',\n",
       "  'data': '努尔江是一家国际物流有限公司在阿拉木图市签约车队的货车司机。5月13日，他和其他司机陆续出发，将68辆新能源车运到吉尔吉斯斯坦、阿塞拜疆、白俄罗斯等地。'},\n",
       " {'type': 'text',\n",
       "  'data': '“我们在路上经常看到中国的新能源车，这种车外观科技感足，性价比高，在我常去的那些国家属于‘网红车’。”努尔江说，现在，他们运送新能源车的频次比去年高了一倍。'},\n",
       " {'type': 'text',\n",
       "  'data': '这一增长在该物流公司副总经孔祥林那里得到印证：“公司前不久签了个大单，从5月开始，每月要运输100辆新能源车到共建‘一带一路’国家，我们预计承接运输出口的新能源车数量比去年增长300%左右。”'},\n",
       " {'type': 'text', 'data': '在霍尔果斯口岸，电动汽车出口同样迎来暴增，前3月同比增长了3倍多，达到2.2万辆；'},\n",
       " {'type': 'text', 'data': '334辆，398辆，400辆……在百年口岸巴克图，今年以来，单日出口商品车连创新高；'},\n",
       " {'type': 'img_url',\n",
       "  'data': 'https://p4.img.cctvpic.com/photoworkspace/contentimg/2024/05/22/2024052220435263477.png'},\n",
       " {'type': 'img_desc', 'data': '阿拉山口站编组场内停靠着待发的中欧班列及其他出入境货物列车。人民网 李欣洋摄'},\n",
       " {'type': 'text',\n",
       "  'data': '前4月，新疆电动汽车、光伏产品、锂电池等“新三样”产品出口值同比增长152.1%，成为新疆外贸新动能的重要组成部分。'},\n",
       " {'type': 'text',\n",
       "  'data': '新疆大学经济与管理学院教授古丽娜尔·玉素甫表示，“新三样”不仅是新疆未来产业发展的重要方向，也是经济增长的新动力，将带动相关产业链上下游协同发展。'},\n",
       " {'type': 'text', 'data': ''},\n",
       " {'type': 'text', 'data': ''},\n",
       " {'type': 'text', 'data': '在中国西部边境小城霍尔果斯，跨境电商直播如火如荼。'},\n",
       " {'type': 'text',\n",
       "  'data': '“市面上的五金产品，在我直播间都可以买到，都是‘中国制造’。”主播阿依格热木·哈比别克正在用俄语、哈萨克语等多种语言进行跨境直播带货。'},\n",
       " {'type': 'text',\n",
       "  'data': '阿依格热木来自哈萨克斯坦雅尔肯特市，长期在中哈霍尔果斯国际边境合作中心从事跨境贸易工作：“在我们那里，跨国上班正成为潮流。”'},\n",
       " {'type': 'img_url',\n",
       "  'data': 'https://p3.img.cctvpic.com/photoworkspace/contentimg/2024/05/22/2024052220435226302.png'},\n",
       " {'type': 'img_desc', 'data': '主播正在霍尔果斯义乌国际商贸城直播。李勇摄'},\n",
       " {'type': 'text',\n",
       "  'data': '2023年春天，霍尔果斯义乌国际商贸城开始开展跨境电商直播业务，正在招兵买马的时候，阿依格热木看准机会，于同年6月正式上岗直播带货，成为该公司第一位国际主播。掌握多种语言的她很快就拥有了一大波粉丝。'},\n",
       " {'type': 'text',\n",
       "  'data': '霍尔果斯义乌国际商贸城（有限公司）董事长金兴忠介绍：目前公司拥有20多位“国际主播”，用7种语言向中亚地区和俄罗斯消费者介绍中国商品。中国（新疆）自由贸易试验区的揭牌为该公司带来了新机遇，一季度公司跨境电商直播进出口贸易额比去年四季度增长83.33%。'},\n",
       " {'type': 'text',\n",
       "  'data': '古丽娜尔·玉素甫说，中国（新疆）自由贸易试验区的设立，将自贸试验区的制度优势和新疆通道基础、口岸基础、交流基础的优势进行叠加，充分释放出外贸的发展动能。'},\n",
       " {'type': 'text',\n",
       "  'data': '这一提法在伊犁州交出的外贸“成绩单”中得到了印证：前4月，伊犁州进出口增长129.7%，占同期新疆外贸总值的26.1%，居全疆第一。'},\n",
       " {'type': 'text', 'data': '随着新疆对外开放的不断扩大，新的跨境经贸合作样板还在不断涌现，优势转化为发展动能的故事还在继续。'},\n",
       " {'type': 'text',\n",
       "  'data': '锚定在国家全局中的五大战略定位，不断把区位优势转化为发展优势、竞争优势，打造亚欧黄金通道和向西开放桥头堡——新疆，大有可为！'}]"
      ]
     },
     "execution_count": 55,
     "metadata": {},
     "output_type": "execute_result"
    }
   ],
   "source": [
    "content"
   ]
  },
  {
   "cell_type": "code",
   "execution_count": 168,
   "metadata": {},
   "outputs": [
    {
     "data": {
      "text/plain": [
       "['编辑：甄涛', '责任编辑：刘亮']"
      ]
     },
     "execution_count": 168,
     "metadata": {},
     "output_type": "execute_result"
    }
   ],
   "source": [
    "author = html.xpath('//*[@id=\"page_body\"]/div[1]/div[3]/div[1]/span/text()')\n",
    "author"
   ]
  },
  {
   "cell_type": "code",
   "execution_count": 65,
   "metadata": {},
   "outputs": [],
   "source": []
  },
  {
   "cell_type": "code",
   "execution_count": 67,
   "metadata": {},
   "outputs": [],
   "source": [
    "with open('sample.json','w') as f:\n",
    "    json.dump([info],f,ensure_ascii=False)"
   ]
  }
 ],
 "metadata": {
  "kernelspec": {
   "display_name": "pytorch",
   "language": "python",
   "name": "python3"
  },
  "language_info": {
   "codemirror_mode": {
    "name": "ipython",
    "version": 3
   },
   "file_extension": ".py",
   "mimetype": "text/x-python",
   "name": "python",
   "nbconvert_exporter": "python",
   "pygments_lexer": "ipython3",
   "version": "3.10.0"
  }
 },
 "nbformat": 4,
 "nbformat_minor": 2
}
