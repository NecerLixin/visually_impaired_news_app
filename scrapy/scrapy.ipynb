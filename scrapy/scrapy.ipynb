{
 "cells": [
  {
   "cell_type": "code",
   "execution_count": 45,
   "metadata": {},
   "outputs": [],
   "source": [
    "import requests\n",
    "from bs4 import BeautifulSoup\n",
    "import pandas as pd\n",
    "import json\n",
    "from lxml import etree\n",
    "import random\n",
    "import re\n",
    "import asyncio\n",
    "from pyppeteer import launch\n",
    "import nest_asyncio"
   ]
  },
  {
   "cell_type": "code",
   "execution_count": 46,
   "metadata": {},
   "outputs": [],
   "source": [
    "async def fetch_webpage(url):\n",
    "    \"\"\"\n",
    "    使用 Pyppeteer 获取网页内容\n",
    "    \"\"\"\n",
    "    browser = await launch(headless=True)\n",
    "    page = await browser.newPage()\n",
    "    await page.goto(url)\n",
    "    content = await page.content()\n",
    "    await browser.close()\n",
    "    return content"
   ]
  },
  {
   "cell_type": "code",
   "execution_count": 47,
   "metadata": {},
   "outputs": [],
   "source": [
    "def get_random_headers()->dict:\n",
    "    \"\"\"\n",
    "    随机生成一个header，用于伪造浏览器\n",
    "\n",
    "    Returns:\n",
    "        dict: 返回一个浏览器header\n",
    "    \"\"\"\n",
    "    user_agents = [\n",
    "        \"Mozilla/5.0 (Windows NT 10.0; Win64; x64) AppleWebKit/537.36 (KHTML, like Gecko) Chrome/90.0.4430.93 Safari/537.36\",\n",
    "        \"Mozilla/5.0 (Windows NT 10.0; Win64; x64; rv:89.0) Gecko/20100101 Firefox/89.0\",\n",
    "        \"Mozilla/5.0 (Macintosh; Intel Mac OS X 10_15_7) AppleWebKit/537.36 (KHTML, like Gecko) Chrome/91.0.4472.114 Safari/537.36\",\n",
    "        \"Mozilla/5.0 (Macintosh; Intel Mac OS X 10_15_7) AppleWebKit/605.1.15 (KHTML, like Gecko) Version/14.1.1 Safari/605.1.15\",\n",
    "        \"Mozilla/5.0 (Windows NT 10.0; Win64; x64) AppleWebKit/537.36 (KHTML, like Gecko) Edge/91.0.864.48\",\n",
    "        \"Mozilla/5.0 (Windows NT 10.0; Win64; x64; rv:89.0) Gecko/20100101 Firefox/89.0\"\n",
    "    ]\n",
    "\n",
    "    headers = {\n",
    "        \"User-Agent\": random.choice(user_agents),\n",
    "        \"Accept\": \"text/html,application/xhtml+xml,application/xml;q=0.9,image/webp,*/*;q=0.8\",\n",
    "        \"Accept-Language\": \"zh-CN,zh-Hans;q=0.9\",\n",
    "        \"Connection\": \"keep-alive\",\n",
    "        \"Upgrade-Insecure-Requests\": \"1\",\n",
    "        \"DNT\": \"1\",  # Do Not Track Request Header\n",
    "        \"Accept-Encoding\": \"gzip, deflate, br\"\n",
    "    }\n",
    "\n",
    "    return headers"
   ]
  },
  {
   "cell_type": "code",
   "execution_count": 146,
   "metadata": {},
   "outputs": [],
   "source": [
    "def get_url_list(origin_url:str,date:str)->list:\n",
    "    \"\"\"\n",
    "    根据源页面的url获取源页面所有新闻的url,获取的新闻的url格式为：\n",
    "    https://news.cctv.com/year/month/day/abcdfjafa.shtml\n",
    "        \\n year 例如：2024\n",
    "        \\n month 例如：05\n",
    "        \\n day 例如：22\n",
    "    Args:\n",
    "        origin_url (str): 央视新闻网首页以及其各种分类界面\n",
    "        date (str): 日期字符串，例如 \"2024/05/22\"\n",
    "    Returns:\n",
    "        list: 包含所有新闻界面url和首页图片url的一个列表 \\n\n",
    "            [[page_url,img_url],...]\n",
    "    \"\"\"\n",
    "    # response = requests.get(url=origin_url,headers=get_random_headers(),)\n",
    "    # response.encoding = 'utf-8'\n",
    "    content = asyncio.get_event_loop().run_until_complete(fetch_webpage(origin_url))\n",
    "    # prefix = \"https://\" + origin_url.split('/')[2] + \"/\"\n",
    "    # pattern = re.compile(f'{prefix}{date}/[A-Za-z0-9]+.shtml')\n",
    "    # url_list = pattern.findall(content)\n",
    "    # url_list = list(set(url_list))\n",
    "    html = etree.HTML(content,parser=etree.HTMLParser())\n",
    "    node_list = html.xpath('//*[@id=\"newslist\"]/li')\n",
    "    url_list = []\n",
    "    for node in node_list:\n",
    "        page_url = node.xpath('div[@class=\"image\"]/a/@href')[0]\n",
    "        image_url = node.xpath('div[1]/a/img/@data-echo')[0]\n",
    "        url_list.append([page_url,image_url])\n",
    "    return url_list\n",
    "origin_url = \"https://news.cctv.com/\"\n",
    "url_list = get_url_list(origin_url,date=\"2024/05/22\")"
   ]
  },
  {
   "cell_type": "code",
   "execution_count": 9,
   "metadata": {},
   "outputs": [],
   "source": [
    "def get_all_kind_page(origin_url_dict:dict,date:str)->dict:\n",
    "    \"\"\"获得所有分类的新闻的URL，分类包括：国内、国际、经济、社会、法治、文娱、科技、生活、军事\n",
    "\n",
    "    Args:\n",
    "        origin_url_dict (dict): {\"新闻种类\":origin_url,...}\n",
    "        date (str): year/month/day\n",
    "\n",
    "    Returns:\n",
    "        dict: {\"新闻种类1\":[\"url1\",\"url2\",...],\n",
    "               \"新闻种类1\":[\"url1\",\"url2\",...],\n",
    "                ....}\n",
    "    \"\"\"\n",
    "    res = dict()\n",
    "    for news_kind, origin_url in origin_url_dict.items():\n",
    "        url_list = get_url_list(origin_url=origin_url,date=date)\n",
    "        res[news_kind] = url_list\n",
    "    return res"
   ]
  },
  {
   "cell_type": "code",
   "execution_count": 10,
   "metadata": {},
   "outputs": [],
   "source": [
    "origin_url_dict = {\n",
    "    \"首页\":\"https://news.cctv.com\",\n",
    "    \"国内\":\"https://news.cctv.com/china\",\n",
    "    \"国际\":\"https://news.cctv.com/world\",\n",
    "    \"经济\":\"https://jingji.cctv.com/\",\n",
    "    \"社会\":\"https://news.cctv.com/society\",\n",
    "    \"法治\":\"https://news.cctv.com/law\",\n",
    "    \"文娱\":\"https://news.cctv.com/ent\",\n",
    "    \"科技\":\"https://news.cctv.com/tech\",\n",
    "    \"生活\":\"https://news.cctv.com/life\",\n",
    "    \"军事\":\"https://military.cctv.com\",\n",
    "    \"人物\":\"https://people.cctv.com\",\n",
    "    \n",
    "}"
   ]
  },
  {
   "cell_type": "code",
   "execution_count": 57,
   "metadata": {},
   "outputs": [
    {
     "data": {
      "text/plain": [
       "['https://news.cctv.com/2024/05/22/ARTI6KnUmHCDpGYglzMBj8OS240522.shtml',\n",
       " 'https://news.cctv.com/2024/05/22/ARTIMifs5JW2FINegykcMevM240522.shtml',\n",
       " 'https://news.cctv.com/2024/05/22/ARTIqD698Rmtv7xca7nEs6OI240522.shtml',\n",
       " 'https://news.cctv.com/2024/05/22/ARTIa5pZ8DGJ1gNXqEs3gTkL240522.shtml']"
      ]
     },
     "execution_count": 57,
     "metadata": {},
     "output_type": "execute_result"
    }
   ],
   "source": [
    "origin_url = \"https://news.cctv.com/tech\"\n",
    "url_list = get_url_list(origin_url,date=\"2024/05/22\")\n",
    "url_list"
   ]
  },
  {
   "cell_type": "code",
   "execution_count": null,
   "metadata": {},
   "outputs": [],
   "source": [
    "def page_parse(page_url:str)->dict:\n",
    "    \"\"\"\n",
    "    对每个页面进行解析，获取数据\n",
    "    需要的数据有：新闻标题、来源、时间、内容、作者信息\n",
    "\n",
    "    Args:\n",
    "        page_url (str): 新闻页面URL\n",
    "\n",
    "    Returns:\n",
    "        dict: 每个新闻界面的数据\n",
    "    \"\"\"\n",
    "    "
   ]
  },
  {
   "cell_type": "code",
   "execution_count": 61,
   "metadata": {},
   "outputs": [
    {
     "name": "stderr",
     "output_type": "stream",
     "text": [
      "/var/folders/_m/z2k5mp3x6l72p84ycrp1kjpc0000gn/T/ipykernel_81313/1733863546.py:1: RuntimeWarning: coroutine 'fetch_webpage' was never awaited\n",
      "  content = asyncio.get_event_loop().run_until_complete(fetch_webpage('https://news.cctv.com'))\n",
      "RuntimeWarning: Enable tracemalloc to get the object allocation traceback\n"
     ]
    }
   ],
   "source": [
    "content = asyncio.get_event_loop().run_until_complete(fetch_webpage('https://news.cctv.com'))"
   ]
  },
  {
   "cell_type": "code",
   "execution_count": 62,
   "metadata": {},
   "outputs": [],
   "source": [
    "html = etree.HTML(content,parser=etree.HTMLParser())"
   ]
  },
  {
   "cell_type": "code",
   "execution_count": 141,
   "metadata": {},
   "outputs": [],
   "source": [
    "res = html.xpath('//*[@id=\"newslist\"]/li')\n",
    "page_url = res[1].xpath('div[@class=\"image\"]/a/@href')\n",
    "image_url = res[1].xpath('div[1]/a/img/@data-echo')"
   ]
  }
 ],
 "metadata": {
  "kernelspec": {
   "display_name": "pytorch",
   "language": "python",
   "name": "python3"
  },
  "language_info": {
   "codemirror_mode": {
    "name": "ipython",
    "version": 3
   },
   "file_extension": ".py",
   "mimetype": "text/x-python",
   "name": "python",
   "nbconvert_exporter": "python",
   "pygments_lexer": "ipython3",
   "version": "3.10.0"
  }
 },
 "nbformat": 4,
 "nbformat_minor": 2
}
