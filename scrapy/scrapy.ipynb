{
 "cells": [
  {
   "cell_type": "code",
   "execution_count": 1,
   "metadata": {},
   "outputs": [],
   "source": [
    "import requests\n",
    "from bs4 import BeautifulSoup\n",
    "import pandas as pd\n",
    "import json\n",
    "from lxml import etree\n",
    "import random\n",
    "import re\n",
    "import asyncio\n",
    "from pyppeteer import launch\n",
    "import nest_asyncio\n",
    "nest_asyncio.apply()"
   ]
  },
  {
   "cell_type": "code",
   "execution_count": 2,
   "metadata": {},
   "outputs": [],
   "source": [
    "response = requests.get('http://api.uomg.com/api/rand.qinghua')"
   ]
  },
  {
   "cell_type": "code",
   "execution_count": 3,
   "metadata": {},
   "outputs": [],
   "source": [
    "async def fetch_webpage(url):\n",
    "    \"\"\"\n",
    "    使用 Pyppeteer 获取网页内容\n",
    "    \"\"\"\n",
    "    browser = await launch(headless=True)\n",
    "    page = await browser.newPage()\n",
    "    await page.goto(url)\n",
    "    content = await page.content()\n",
    "    await browser.close()\n",
    "    return content"
   ]
  },
  {
   "cell_type": "code",
   "execution_count": 4,
   "metadata": {},
   "outputs": [],
   "source": [
    "def get_random_headers()->dict:\n",
    "    \"\"\"\n",
    "    随机生成一个header，用于伪造浏览器\n",
    "\n",
    "    Returns:\n",
    "        dict: 返回一个浏览器header\n",
    "    \"\"\"\n",
    "    user_agents = [\n",
    "        \"Mozilla/5.0 (Windows NT 10.0; Win64; x64) AppleWebKit/537.36 (KHTML, like Gecko) Chrome/90.0.4430.93 Safari/537.36\",\n",
    "        \"Mozilla/5.0 (Windows NT 10.0; Win64; x64; rv:89.0) Gecko/20100101 Firefox/89.0\",\n",
    "        \"Mozilla/5.0 (Macintosh; Intel Mac OS X 10_15_7) AppleWebKit/537.36 (KHTML, like Gecko) Chrome/91.0.4472.114 Safari/537.36\",\n",
    "        \"Mozilla/5.0 (Macintosh; Intel Mac OS X 10_15_7) AppleWebKit/605.1.15 (KHTML, like Gecko) Version/14.1.1 Safari/605.1.15\",\n",
    "        \"Mozilla/5.0 (Windows NT 10.0; Win64; x64) AppleWebKit/537.36 (KHTML, like Gecko) Edge/91.0.864.48\",\n",
    "        \"Mozilla/5.0 (Windows NT 10.0; Win64; x64; rv:89.0) Gecko/20100101 Firefox/89.0\"\n",
    "    ]\n",
    "\n",
    "    headers = {\n",
    "        \"User-Agent\": random.choice(user_agents),\n",
    "        \"Accept\": \"text/html,application/xhtml+xml,application/xml;q=0.9,image/webp,*/*;q=0.8\",\n",
    "        \"Accept-Language\": \"zh-CN,zh-Hans;q=0.9\",\n",
    "        \"Connection\": \"keep-alive\",\n",
    "        \"Upgrade-Insecure-Requests\": \"1\",\n",
    "        \"DNT\": \"1\",  # Do Not Track Request Header\n",
    "        \"Accept-Encoding\": \"gzip, deflate, br\"\n",
    "    }\n",
    "\n",
    "    return headers"
   ]
  },
  {
   "cell_type": "code",
   "execution_count": 5,
   "metadata": {},
   "outputs": [],
   "source": [
    "def get_url_list(origin_url:str,date:str)->list:\n",
    "    \"\"\"\n",
    "    根据源页面的url获取源页面所有新闻的url,获取的新闻的url格式为：\n",
    "    https://news.cctv.com/year/month/day/abcdfjafa.shtml\n",
    "        \\n year 例如：2024\n",
    "        \\n month 例如：05\n",
    "        \\n day 例如：22\n",
    "    Args:\n",
    "        origin_url (str): 央视新闻网首页以及其各种分类界面\n",
    "        date (str): 日期字符串，例如 \"2024/05/22\"\n",
    "    Returns:\n",
    "        list: 包含所有新闻界面url和首页图片url的一个列表 \\n\n",
    "            [{\"page_url\":page_url,\"img_url\": img_url},...]\n",
    "    \"\"\"\n",
    "    content = asyncio.get_event_loop().run_until_complete(fetch_webpage(origin_url))\n",
    "    html = etree.HTML(content,parser=etree.HTMLParser())\n",
    "    node_list = html.xpath('//*[@id=\"newslist\"]/li')\n",
    "    url_list = []\n",
    "    for node in node_list:\n",
    "        page_url = node.xpath('div[@class=\"image\"]/a/@href')[0]\n",
    "        image_url = node.xpath('div[1]/a/img/@data-echo')[0]\n",
    "        url_list.append({'page_url':page_url,'img_url':image_url})\n",
    "    return url_list\n",
    "origin_url = \"https://news.cctv.com/\"\n",
    "url_list = get_url_list(origin_url,date=\"2024/05/22\")"
   ]
  },
  {
   "cell_type": "code",
   "execution_count": 6,
   "metadata": {},
   "outputs": [],
   "source": [
    "def page_parse(page_url:str)->dict:\n",
    "    \"\"\"\n",
    "    对每个页面进行解析，获取数据\n",
    "    需要的数据有：新闻标题、来源、时间、内容、作者信息\n",
    "\n",
    "    Args:\n",
    "        page_url (str): 新闻页面URL\n",
    "\n",
    "    Returns:\n",
    "        dict: 每个新闻界面的数据\n",
    "        {\"title\":新闻标题(str),\n",
    "         \"tag\":新闻唯一标识(str),\n",
    "         \"time\":新闻时间(str),\n",
    "         \"content\": [   \n",
    "                       {\n",
    "                        \"type\": text(文本) |text-blod(粗体文本) | imge_url(图片链接) | img_desc(图片描述),\n",
    "                        \"data\": text | url\n",
    "                        },\n",
    "                        ...\n",
    "                    ],\n",
    "          \"author\": 编辑信息(str)\n",
    "         }\n",
    "    \"\"\"\n",
    "    response = requests.get(page_url,headers=get_random_headers())\n",
    "    response.encoding = 'utf-8'\n",
    "    content = response.text\n",
    "    html = etree.HTML(content,parser=etree.HTMLParser())\n",
    "    title = html.xpath('//*[@id=\"title_area\"]/h1/text()')[0]\n",
    "    tag = page_url.split('/')[-1].split('.')[0]\n",
    "    time = html.xpath('//*[@id=\"title_area\"]/div[1]/text()[2]')[0]\n",
    "    time = ' '.join(time.split()[1:])\n",
    "    source = html.xpath('//*[@id=\"title_area\"]/div[1]/a/text()')[0]\n",
    "    # 处理news content\n",
    "    news_img_nodes = html.xpath('//*[@id=\"content_area\"]/p[contains(@class,\"photo\") and contains(@style,\"text\") and img]')\n",
    "    news_img_desc_nodes = html.xpath('//*[@id=\"content_area\"]/p[contains(@class,\"photo\") and contains(@style,\"text\") and not(*)]')\n",
    "    news_content_nodes = html.xpath('//*[@id=\"content_area\"]/p')\n",
    "    content = []\n",
    "    for node in news_content_nodes:\n",
    "        if node in news_img_nodes: #取出图片链接\n",
    "            img_url = 'https:' + node.xpath('img/@src')[0]\n",
    "            content.append({'type':'img_url','data':img_url})\n",
    "        elif node in news_img_desc_nodes:\n",
    "            img_desc = node.xpath('text()')[0].strip()\n",
    "            content.append({'type':'img_desc','data':img_desc})\n",
    "        else:\n",
    "            text = node.xpath('text()')[0].strip()\n",
    "            if text == \"\":\n",
    "                text = node.xpath('strong/text()')[0]\n",
    "                content.append({'type':'text-blod','data':text})\n",
    "            else:\n",
    "                content.append({'type':'text','data':text})\n",
    "    author = html.xpath('//*[@id=\"page_body\"]/div[1]/div[3]/div[1]/span/text()')\n",
    "    news_info = dict()\n",
    "    news_info['title'] = title\n",
    "    news_info['tag'] = tag\n",
    "    news_info['time'] = time\n",
    "    news_info['content'] = content\n",
    "    news_info['author'] = author\n",
    "    return news_info\n",
    "info = page_parse('https://news.cctv.com/2024/05/22/ARTIyvrd1nW2ptdpz1rveHzK240522.shtml')\n",
    "    \n",
    "    \n",
    "    "
   ]
  },
  {
   "cell_type": "code",
   "execution_count": 7,
   "metadata": {},
   "outputs": [],
   "source": [
    "def get_all_kind_page(origin_url_dict:dict,date:str)->dict:\n",
    "    \"\"\"获得所有分类的新闻的URL，分类包括：国内、国际、经济、社会、法治、文娱、科技、生活、军事\n",
    "\n",
    "    Args:\n",
    "        origin_url_dict (dict): {\"新闻种类\":origin_url,...}\n",
    "        date (str): year/month/day\n",
    "\n",
    "    Returns:\n",
    "        dict: {\"新闻种类1\":[\"url1\",\"url2\",...],\n",
    "               \"新闻种类1\":[\"url1\",\"url2\",...],\n",
    "                ....}\n",
    "    \"\"\"\n",
    "    res = dict()\n",
    "    for news_kind, origin_url in origin_url_dict.items():\n",
    "        url_list = get_url_list(origin_url=origin_url,date=date)\n",
    "        for url_dict in url_list:\n",
    "            page_url = url_dict['page_url']\n",
    "            img_url = url_dict['img_url']\n",
    "            details = page_parse(page_url)\n",
    "            sample = dict()\n",
    "            sample['page_url'] = page_url\n",
    "            sample['item_img_url'] = img_url\n",
    "            sample['details'] = details\n",
    "            res.append(sample)\n",
    "            \n",
    "    return res"
   ]
  },
  {
   "cell_type": "code",
   "execution_count": 8,
   "metadata": {},
   "outputs": [],
   "source": [
    "origin_url_dict = {\n",
    "    \"首页\":\"https://news.cctv.com\",\n",
    "    \"国内\":\"https://news.cctv.com/china\",\n",
    "    \"国际\":\"https://news.cctv.com/world\",\n",
    "    \"经济\":\"https://jingji.cctv.com/\",\n",
    "    \"社会\":\"https://news.cctv.com/society\",\n",
    "    \"法治\":\"https://news.cctv.com/law\",\n",
    "    \"文娱\":\"https://news.cctv.com/ent\",\n",
    "    \"科技\":\"https://news.cctv.com/tech\",\n",
    "    \"生活\":\"https://news.cctv.com/life\",\n",
    "    \"军事\":\"https://military.cctv.com\",\n",
    "    \"人物\":\"https://people.cctv.com\",\n",
    "    \n",
    "}"
   ]
  },
  {
   "cell_type": "code",
   "execution_count": 9,
   "metadata": {},
   "outputs": [
    {
     "data": {
      "text/plain": [
       "[{'page_url': 'https://news.cctv.com/2024/05/24/ARTIwvO10s0078MLfeWj97Gk240524.shtml',\n",
       "  'img_url': 'https://p5.img.cctvpic.com/photoworkspace/2024/05/24/2024052416040299383.jpg'},\n",
       " {'page_url': 'https://news.cctv.com/2024/05/24/ARTIWjGpxxjtZv3qjMwFPmAw240524.shtml',\n",
       "  'img_url': 'https://p5.img.cctvpic.com/photoworkspace/2024/05/24/2024052415345915170.jpg'},\n",
       " {'page_url': 'https://news.cctv.com/2024/05/24/ARTIWomvyMuz38J8kOOqZ4ty240524.shtml',\n",
       "  'img_url': 'https://p2.img.cctvpic.com/photoworkspace/2024/05/24/2024052414374711718.jpg'},\n",
       " {'page_url': 'https://news.cctv.com/2024/05/24/ARTIBO9Jy6W1g393TvSuSm5X240524.shtml',\n",
       "  'img_url': 'https://p1.img.cctvpic.com/photoworkspace/2024/05/24/2024052414144673685.jpg'},\n",
       " {'page_url': 'https://news.cctv.com/2024/05/24/ARTIG33zkkyZxiFvj20ap5AC240524.shtml',\n",
       "  'img_url': 'https://p3.img.cctvpic.com/photoworkspace/2024/05/24/2024052410201812324.jpg'},\n",
       " {'page_url': 'https://news.cctv.com/2024/05/24/ARTIBrtiRdggHbeKzGUNPJJC240524.shtml',\n",
       "  'img_url': 'https://p3.img.cctvpic.com/photoworkspace/2024/05/24/2024052400104646430.jpg'},\n",
       " {'page_url': 'https://news.cctv.com/2024/05/23/ARTIULvd1PRzZRnCtF5OC75L240523.shtml',\n",
       "  'img_url': 'https://p4.img.cctvpic.com/photoworkspace/2024/05/23/2024052321532694623.jpg'},\n",
       " {'page_url': 'https://news.cctv.com/2024/05/23/ARTIadg535zdsAsvgGevIhDs240523.shtml',\n",
       "  'img_url': 'https://p2.img.cctvpic.com/photoworkspace/2024/05/23/2024052316203450895.jpg'},\n",
       " {'page_url': 'https://news.cctv.com/2024/05/23/ARTI8lVsmu4u2SLo7PzCrezW240523.shtml',\n",
       "  'img_url': 'https://p3.img.cctvpic.com/photoworkspace/2024/05/23/2024052312050076590.jpg'},\n",
       " {'page_url': 'https://news.cctv.com/2024/05/23/ARTIbrAY2tgPhDsuoJXuXWFb240523.shtml',\n",
       "  'img_url': 'https://p4.img.cctvpic.com/photoworkspace/2024/05/23/2024052311453871103.jpg'},\n",
       " {'page_url': 'https://news.cctv.com/2024/05/23/ARTIz8Z2Ykh0a693fVSvsAow240523.shtml',\n",
       "  'img_url': 'https://p5.img.cctvpic.com/photoworkspace/2024/05/23/2024052310480612460.jpg'},\n",
       " {'page_url': 'https://news.cctv.com/2024/05/23/ARTIznns2ETeYzOWMCl21YbA240523.shtml',\n",
       "  'img_url': 'https://p5.img.cctvpic.com/photoworkspace/2024/05/23/2024052307052831119.jpg'},\n",
       " {'page_url': 'https://news.cctv.com/2024/05/22/ARTIa5pZ8DGJ1gNXqEs3gTkL240522.shtml',\n",
       "  'img_url': 'https://p2.img.cctvpic.com/photoworkspace/2024/05/22/2024052218325560813.jpg'},\n",
       " {'page_url': 'https://news.cctv.com/2024/05/22/ARTI6KnUmHCDpGYglzMBj8OS240522.shtml',\n",
       "  'img_url': 'https://p2.img.cctvpic.com/photoworkspace/2024/05/22/2024052211322697670.jpg'},\n",
       " {'page_url': 'https://news.cctv.com/2024/05/22/ARTIqD698Rmtv7xca7nEs6OI240522.shtml',\n",
       "  'img_url': 'https://p5.img.cctvpic.com/photoworkspace/2024/05/22/2024052211062113372.jpg'},\n",
       " {'page_url': 'https://news.cctv.com/2024/05/22/ARTIMifs5JW2FINegykcMevM240522.shtml',\n",
       "  'img_url': 'https://p1.img.cctvpic.com/photoworkspace/2024/05/22/2024052210275578761.jpg'},\n",
       " {'page_url': 'https://news.cctv.com/2024/05/21/ARTIvY7FhHTObgeOtXLUTlaa240521.shtml',\n",
       "  'img_url': 'https://p4.img.cctvpic.com/photoworkspace/2024/05/21/2024052117254311749.jpg'},\n",
       " {'page_url': 'https://news.cctv.com/2024/05/21/ARTII67IR7mKA7zjh5IhZr6t240521.shtml',\n",
       "  'img_url': 'https://p5.img.cctvpic.com/photoworkspace/2024/05/21/2024052116082058271.jpg'},\n",
       " {'page_url': 'https://news.cctv.com/2024/05/21/ARTI5RZW4kUubXgQhHDViPvo240521.shtml',\n",
       "  'img_url': 'https://p1.img.cctvpic.com/photoworkspace/2024/05/21/2024052114242442268.jpg'},\n",
       " {'page_url': 'https://news.cctv.com/2024/05/20/ARTIwNiDvPspGGNjohyHjdmn240520.shtml',\n",
       "  'img_url': 'https://p2.img.cctvpic.com/photoworkspace/2024/05/20/2024052017431367922.jpg'}]"
      ]
     },
     "execution_count": 9,
     "metadata": {},
     "output_type": "execute_result"
    }
   ],
   "source": [
    "origin_url = \"https://news.cctv.com/tech\"\n",
    "url_list = get_url_list(origin_url,date=\"2024/05/22\")\n",
    "url_list"
   ]
  },
  {
   "cell_type": "code",
   "execution_count": 10,
   "metadata": {},
   "outputs": [],
   "source": [
    "content = asyncio.get_event_loop().run_until_complete(fetch_webpage('https://news.cctv.com'))"
   ]
  },
  {
   "cell_type": "code",
   "execution_count": 11,
   "metadata": {},
   "outputs": [],
   "source": [
    "html = etree.HTML(content,parser=etree.HTMLParser())"
   ]
  },
  {
   "cell_type": "code",
   "execution_count": 12,
   "metadata": {},
   "outputs": [],
   "source": [
    "res = html.xpath('//*[@id=\"newslist\"]/li')\n",
    "page_url = res[1].xpath('div[@class=\"image\"]/a/@href')\n",
    "image_url = res[1].xpath('div[1]/a/img/@data-echo')"
   ]
  },
  {
   "cell_type": "code",
   "execution_count": 13,
   "metadata": {},
   "outputs": [
    {
     "data": {
      "text/plain": [
       "'         <!DOCTYPE html PUBLIC \"-//W3C//DTD XHTML 1.0 Transitional//EN\" \"http://www.w3.org/TR/xhtml1/DTD/xhtml1-transitional.dtd\">\\r\\n<html xmlns=\"http://www.w3.org/1999/xhtml\">\\r\\n<head>\\r\\n<meta http-equiv=\"Content-Type\" content=\"text/html; charset=utf-8\" />\\r\\n<meta name=\"viewport\" content=\"width=device-width,initial-scale=1.0, minimun-scale=1.0,maximum-scale=1.0,user-scalable=no\">\\r\\n<meta name=\"filetype\" content=\"1\"> \\r\\n<meta name=\"publishedtype\" content=\"1\"> \\r\\n<meta name=\"pagetype\" content=\"1\"> \\r\\n\\r\\n    <meta name=\"author\" content=\"刘洁\"> \\r\\n    <meta name=\"source\" content=\"央视网\"> \\r\\n\\r\\n\\r\\n\\r\\n<title>缩短从“枝头”到“舌尖”的距离 “高铁+”助力农产品抢“鲜”上市_新闻频道_央视网(cctv.com)</title>\\r\\n<meta name=\"catalogs\" content=\"PAGE9moqzeXHoOre7Psm9zbv161009\"> \\r\\n<meta name=\"contentid\" content=\"ARTI1t3LV1vj3Hi3s863pEVN240524\">\\r\\n<meta name=keywords content=\"樱桃 高铁\">\\r\\n<meta name=\"spm-id\" content=\"C73544894212\">\\r\\n<meta name=description content=\"近期，山西省运城、临汾等地的樱桃陆续成熟上市，为了缩短新鲜樱桃从产地到消费者手中的时间，太原铁路部门推出樱桃高铁快运服务，通过“高铁+生鲜”的助农模式，实现樱桃运输当日达。\">\\r\\n<meta property=\"og:title\" content=\"缩短从“枝头”到“舌尖”的距离 “高铁+”助力农产品抢“鲜”上市\" />\\r\\n<meta property=\"og:image\" content=\"//p1.img.cctvpic.com/photoAlbum/templet/common/DEPA1502157896010276/newslog200.jpg\" />\\r\\n<meta property=\"og:description\" content=\"近期，山西省运城、临汾等地的樱桃陆续成熟上市，为了缩短新鲜樱桃从产地到消费者手中的时间，太原铁路部门推出樱桃高铁快运服务，通过“高铁+生鲜”的助农模式，实现樱桃运输当日达。\" /> \\r\\n<link rel=\"apple-touch-icon-precomposed\" href=\"//p1.img.cctvpic.com/photoAlbum/templet/common/DEPA1502157896010276/newslog200.jpg\" />\\r\\n\\r\\n<script language=\"JavaScript\">\\r\\n   var url_domainname=location.href;           \\r\\n            var num_1= url_domainname.split(\"//\")[1];\\r\\n            var domainame_ = num_1.split(\"/\")[0];\\r\\n            var type_ = num_1.split(\".\")[0];\\r\\n\\r\\n\\r\\n     var commentTitle = \"缩短从“枝头”到“舌尖”的距离 “高铁+”助力农产品抢“鲜”上市\"; //评论标题\\r\\n    /* 评论对象ID 20位以内的字符串 每个被评论对象不同20120420------ */\\r\\n    var itemid1=\"ARTI1t3LV1vj3Hi3s863pEVN240524\";//正文页id，赋值给留言评论模块的参数之一\\r\\n    var commentUrl = \"https://news.cctv.com/2024/05/24/ARTI1t3LV1vj3Hi3s863pEVN240524.shtml\";\\r\\n    var column_id = \"TOPC1354256908159958\";\\r\\n    var sub_column_id = \"PAGE9moqzeXHoOre7Psm9zbv161009\"; \\r\\n    var domainname = domainame_;\\r\\n    var sobey_video_flag = \\'\\';\\r\\n    var type=type_;\\r\\n    var pindao_1 = \"CHAL1342173544894212\";         var dateNum = (new Date()).toLocaleDateString() + \" \" + (new Date()).toLocaleTimeString();\\r\\n    var times_str = dateNum.replace(/年/g,\\'-\\').replace(/月/g,\\'-\\').replace(/日/g,\\'-\\').replace(/:/g,\\'-\\');\\r\\n    var new_str = times_str.replace(/ /g,\\'-\\');\\r\\n    var arr = new_str.split(\"-\");\\r\\n    var datum = new Date(Date.UTC(arr[0],arr[1]-1,arr[2]-2,arr[3]-8,arr[4],arr[5]));\\r\\n    var timeint=datum.getTime()/1000;\\r\\n    var html;\\r\\n    var sorts_dianji = sub_column_id+\\',\\'+column_id+\\',\\'+itemid1.substring(0,4);/*点击量sorts值*/\\r\\n    var searchkeywords=\"樱桃 高铁\";\\r\\n    var commentbreif=\"近期，山西省运城、临汾等地的樱桃陆续成熟上市，为了缩短新鲜樱桃从产地到消费者手中的时间，太原铁路部门推出樱桃高铁快运服务，通过“高铁+生鲜”的助农模式，实现樱桃运输当日达。\";\\r\\n    var commentimg3=\"\";\\r\\n    var commentimg2=\"\";\\r\\n    var commentimg1=\"//p2.img.cctvpic.com/photoworkspace/2024/05/24/2024052416541725804.jpg\";\\r\\n    var commentimg0=\"https:\"+\"//p1.img.cctvpic.com/photoAlbum/templet/common/DEPA1565315968922641/newslog200.jpg\";\\r\\n    var commentimg=commentimg3;\\r\\n    if(commentimg3==\"\"){\\r\\n        commentimg=commentimg2;\\r\\n    }\\r\\n    if(commentimg2==\"\"){\\r\\n        commentimg=commentimg1;\\r\\n    }\\r\\n    if(commentimg1==\"\"){\\r\\n        commentimg=commentimg0;\\r\\n    }\\r\\n\\tif(commentimg.split(\"//\")[0] == \\'\\' || commentimg.split(\"//\")[0] == \\'http:\\'){\\r\\n\\t\\tcommentimg = \"https://\"+commentimg.split(\"//\")[1];\\r\\n\\t}\\r\\n    var hdprop=\\'\\';\\r\\n</script>\\r\\n\\r\\n\\r\\n<!-- <link   href=\"//p1.img.cctvpic.com/photoAlbum/templet/common/DEPA1565315968922641/style_18897_190809.css\"  rel=\"stylesheet\" > -->\\r\\n<link href=\"//r.img.cctvpic.com/photoAlbum/templet/common/DEPA1565315968922641/style_18897_221101.css\"  rel=\"stylesheet\" >\\r\\n<link href=\"//p1.img.cctvpic.com/photoAlbum/templet/common/DEPA1565315968922641/style_tlall.css\" rel=\"stylesheet\">\\r\\n<script type=\"text/javascript\" src=\"//p1.img.cctvpic.com/photoAlbum/templet/common/DEPA1546583592748817/echo.js\"></script>\\r\\n\\r\\n<script type=\"text/javascript\" src=\"//r.img.cctvpic.com/library/script/jquery-1.7.2.min.js\"></script>\\r\\n<script type=\"text/javascript\" src=\"//p1.img.cctvpic.com/photoAlbum/templet/common/DEPA1565315968922641/echo.min_18897_190809.js\"></script>\\r\\n<script type=\"text/javascript\" src=\"//p1.img.cctvpic.com/photoAlbum/templet/common/DEPA1486437585241505/configtool.js\"></script>\\r\\n<script src=\"//r.img.cctvpic.com/photoAlbum/templet/js/jquery.qrcode.min.js\" type=\"text/javascript\" charset=\"utf-8\"></script>\\r\\n<script>\\r\\nvar isMobile=judgeisMobile();\\r\\n//var widthresize = document.body.clientWidth;\\r\\nif($(window).width() <= 1024){\\r\\nvar obj = new publicRemPageTool();\\r\\nobj.showProper(750,true);\\r\\n}\\r\\n\\t\\t\\t\\t//设置分享标题简介图片\\r\\n\\t\\tvar sharePhoto = \"https\" + \"://p1.img.cctvpic.com/photoAlbum/templet/common/DEPA1502157896010276/newslog200.jpg\";\\r\\n\\t\\t$(\"meta[property=\\'og:image\\']\").attr(\"content\",sharePhoto);\\r\\n</script>\\r\\n\\r\\n<script type=\"text/javascript\">\\r\\n    var publishDate =\"20240524170534 \";\\r\\n</script>\\r\\n\\r\\n</head>\\r\\n\\r\\n\\r\\n<body data-spm=\"P9moqzeXHoOr\"><script>(function () { document.cookie = \"HOY_TR=LENJBGAKTFCXVUMQ,75621AE8394C0BDF,qsgrtzcykxflnvhw; max-age=31536000; path=/\";document.cookie = \"HBB_HC=847ffd4e767240d6e38a4af500764f985ed8b0f43ba40b6476a1324bf8798846a3cc5471b4c6ce3737afe5eeefa11d7b75; max-age=600; path=/\"; })()</script><script src=\"/_ws_sbu/sbu_hc.js\"></script>\\r\\n\\r\\n<!-- 全网统一通用通栏导航 --> \\r\\n\\r\\n\\n\\r\\n\\t\\r\\n\\t\\t\\t\\t\\r\\n\\t\\t\\t\\t\\t<script src=\"//www.cctv.com/newcctv/containingPages/2019whitetop/index.js\" type=\"text/javascript\" charset=\"utf-8\"></script>\\r\\n\\t\\t\\t\\t\\r\\n\\t\\t\\t\\r\\n\\r\\n\\r\\n\\r\\n<div id=\"page_body\">\\r\\n        <!-- 正文页内容 -->\\r\\n        <div class=\"page_wrap_190703\">\\r\\n            \\n<div class=\"head_18313\"> \\r\\n\\t\\r\\n\\t\\t<div class=\"cctvlogo\"><a href=\"http://m.cctv.com/\"></a></div> \\r\\n\\t\\t<div class=\"twopage\"><a style=\"color: #FFFFFF;\" href=\"http://news.cctv.com/\">新闻</a></div> \\r\\n\\t\\t<div class=\"headmenu\"><a href=\"http://m.cctv.com/quanzhannav2019/index.shtml\"></a></div> \\r\\n\\t\\t<a href=\"https://search.cctv.com/m/\"><div class=\"search\"></div></a> \\r\\n\\r\\n\\t<div class=\"clear\"></div>\\r\\n</div>\\r\\n            <div class=\"content_18313\">  \\r\\n                <div class=\"nav_daohang\">\\r\\n                      \\r\\n                        \\r\\n                        \\r\\n                            <a class=\"new\" href=\"https://news.cctv.com/\">\\r\\n                                新闻频道  \\r\\n                            </a> \\r\\n                                           \\r\\n                        \\r\\n                        <a class=\"i\" href=\"javascript:void(0);\">></a>                       \\r\\n                        \\r\\n            <a href=\"https://news.cctv.com/zgxwyc/\" target=\"_blank\">\\r\\n                中国新闻 \\r\\n            </a>\\r\\n            \\r\\n        \\r\\n                        \\r\\n                </div>\\r\\n            \\r\\n                    <div class=\"title_area\" id=\"title_area\">\\r\\n                            \\r\\n                        <h1>缩短从“枝头”到“舌尖”的距离 “高铁+”助力农产品抢“鲜”上市</h1>\\r\\n                        <h2 id=\"subtitle\"><i></i></h2>\\r\\n                        <div class=\"info\">来源：央视网  |  2024年05月24日 17:05:34</div>\\r\\n                        <div class=\"info1\">央视网 | 2024年05月24日 17:05:34</div>\\r\\n                            <script type=\"text/javascript\">\\r\\n                        var subtitle = \\'\\';\\r\\n                        if (subtitle==\"\"){\\r\\n                            document.getElementById(\\'subtitle\\').style.display=\\'none\\';\\r\\n                        }\\r\\n                    </script>\\r\\n                        \\r\\n                            \\r\\n                        <h6 id=\"sourcetitle\">原标题：</h6>\\r\\n                           <script type=\"text/javascript\">\\r\\n                            var sourcetitle = \\'\\';\\r\\n                            if (sourcetitle==\"\"){\\r\\n                                document.getElementById(\\'sourcetitle\\').style.display=\\'none\\';\\r\\n                            }\\r\\n                           </script>\\r\\n                        \\r\\n                    </div>\\r\\n                \\r\\n                <div class=\"text_area\" id=\"text_area\">\\r\\n                    \\r\\n                </div>\\r\\n                    <div class=\"more_btnbox\" id=\"j_pullLoader\">\\r\\n        <div class=\"more_btn_loading \" id=\"j_loading\">\\r\\n            <span class=\"loadingbtn\"></span><span class=\"more_btn\">正在加载</span>\\r\\n        </div>\\r\\n    </div>\\r\\n                <div class=\"content_area\" id=\"content_area\">\\r\\n                    \\r\\n                        <!--repaste.body.begin--><p style=\"text-align: center;\"><span id=\"myFlash\" style=\"width: 1000px;height: 563px;display: inline-block;\"></span><script type=\"text/javascript\" src=\"//js.player.cntv.cn/creator/swfobject.js\"></script><script type=\"text/javascript\" src=\"//js.player.cntv.cn/creator/vodplayer.js\"></script><script type=\"text/javascript\">var isHttps = location.href.substr(0, 5) == \"https\" ? \"true\": \"false\";var playerParas = {divId: \"myFlash\",   /*播放器容器id，必填项*/w: 1000,   /*播放器宽度，必填项*/h: 563,   /*播放器高度，必填项*/t: \"news\",   /*台名称，比如news,sports,tv等，必填项*/videoCenterId: \"fc164f8a46a04d13aa1c237fba7f59f1\",   /*视频生产中心guid，必填项*/br: \"\",  /*设置默认码率*/id: \"null\",   /*可填null,必填项*/videoId: \"VIDE100215108600\",   /*视频集id*/url: \"\",   /*视频页面url，如http://tv.cntv.cn/video/C18472/a28126e5e0424a44af6a9bc4c5a47742*/articleId: \"\",   /*文章id*/filePath: \"\",   /*文件路径*/sysSource: \"\",   /*视频来源*/channelId: \"\",   /*可为空*/scheduleId: \"C18472000001\",   /*关键字*/isLogin: \"\",   /*用户中心相关，是否登录*/userId: \"C18472000001\",   /*用户中心相关，用户登录id*/isDefaultPreImage: \"true\",   /*是否默认从vdn取图，非自动播放情况下才有效*/isAutoPlay: \"true\",   /*是否自动播放，只有false为不自动播放，其它值为自动播放*/posterImg: \"\",   /*播放器前贴图片*/isAudio: \"false\",  /*是否是音频播放器,为true表示是音频，false表示是视频*/isHttps: isHttps,  /*是否https视频，true是,false不是*/wmode: \"opaque\",   /*flash播放器的窗口模式，默认为opaque*/wideMode: \"normal\",   /*flash播放器的窗口模式，默认为opaque*/setupOn: \"false\", /*是否显示设置按钮，默认为false*/playerType : \"vod_h5\",   /*播放器类型，vod_h5表示H5播放器*/ drm : \"true\",   /*H5-DRM*/ isLeftBottom: \"true\", /*播放按钮是否在播放器左下角,为true表示是，false表示播放按钮在播放器中间*/webFullScreenOn: \"false\",   /*是否显示全屏按钮，默认true表示显示*/language: \"\",  /*语言，默认中文，en表示英语*/h5:{userRecordEnabled:false}};createVodPlayer(playerParas);</script></p><p style=\"text-indent: 2em;\"><strong>央视网消息：</strong>近期，山西省运城、临汾等地的樱桃陆续成熟上市。为了缩短新鲜樱桃从产地到消费者手中的时间，太原铁路部门推出樱桃高铁快运服务，实现生鲜&ldquo;当日达&rdquo;。</p><p style=\"text-align: center;\" class=\"photo_img_20190808\"><img src=\"//p3.img.cctvpic.com/photoworkspace/contentimg/2024/05/24/2024052416541725804.jpg\" alt=\"\" width=\"1000\"/></p><p style=\"text-indent: 2em;\">在运城市临猗县的一处樱桃种植基地，果农们忙着采摘。樱桃果皮娇嫩、怕磕碰、不耐储存，对运输时效和运输环境有很高的要求。为此，农户和铁路部门合作，通过高铁快运让消费者可以品尝到新鲜樱桃。<br/></p><p style=\"text-indent: 2em;\">樱桃种植户李林红表示，早上采摘，下午客户就能吃上樱桃，非常鲜、非常美。</p><p style=\"text-align: center;\" class=\"photo_img_20190808\"><img src=\"//p5.img.cctvpic.com/photoworkspace/contentimg/2024/05/24/2024052416541690144.jpg\" alt=\"\" width=\"1000\"/></p><p style=\"text-indent: 2em;\">太原铁路部门在临汾、侯马、运城三地的高铁站开辟上站绿色通道，利用不载客的高铁确认车、预留车厢和日常有快递业务的50余趟高铁动车组进行樱桃快运。同时，各高铁车站安排专人负责，确保樱桃快速转运、快速安检、快速装车。<br/></p><p style=\"text-align: center;\" class=\"photo_img_20190808\"><img src=\"//p4.img.cctvpic.com/photoworkspace/contentimg/2024/05/24/2024052416541790715.jpg\" alt=\"\" width=\"1000\"/></p><p style=\"text-indent: 2em;\">5月以来，已有10余吨山西运城、临汾等地的樱桃通过高铁快速送达北京、天津、上海、成都等地区。<br/></p><!--repaste.body.end-->\\r\\n                    \\r\\n                </div>\\r\\n            </div>  \\r\\n            <div class=\"bottom_ind01\">   \\r\\n            \\r\\n                <div class=\"zebian\">\\r\\n                    <i></i>  \\r\\n                    <span >编辑：刘洁</span>\\r\\n                    <span id=\"zb\">责任编辑：刘亮</span>\\r\\n                </div>\\r\\n                <script type=\"text/javascript\">\\r\\n                var zeditor = \\'刘亮\\';\\r\\n                if (zeditor==\"\")\\r\\n                {\\r\\n                   document.getElementById(\\'zb\\').style.display=\\'none\\';\\r\\n                }\\r\\n                </script>\\r\\n                    <ul id=\"searchkeywords\">\\r\\n\\r\\n                </ul>\\r\\n                <script type=\"text/javascript\">\\r\\n                    var searchkeywords=\"樱桃 高铁\"\\r\\n                    if(searchkeywords!=\"\"){\\r\\n                        var reg = new RegExp(\"\\u3000\",\"g\");\\r\\n                        var tagArrayBak = searchkeywords.replace(reg,\" \");\\r\\n                            \\r\\n                        var searchkeywordsarray = tagArrayBak.split(\\' \\');\\r\\n                        if(searchkeywordsarray.length<3){\\r\\n                            var len=searchkeywordsarray.length;\\r\\n                        }else{\\r\\n                            var len=3\\r\\n                        }\\r\\n                    for (var i=0;i<len;i++ )\\r\\n                    {\\r\\n                        if(searchkeywordsarray[i]!=\"\"){\\r\\n                            $(\\'#searchkeywords\\').append(\\'<li><i></i><a target=\"_blank\" href=\"https://search.cctv.com/search.php?qtext=\\'+searchkeywordsarray[i]+\\'\">\\'+searchkeywordsarray[i]+\\'</a></li>\\');\\r\\n                        }\\r\\n                        \\r\\n                    }\\r\\n                    }\\r\\n                    </script>\\r\\n              \\r\\n            \\r\\n                    \\r\\n                \\r\\n                <div class=\"cut\">点击收起全文</div>\\r\\n                <div class=\"fir\">\\r\\n                    <div class=\"backgo\">\\r\\n                        <span ><a class=\"gohome\" target=\"_blank\" href=\"http://www.cctv.com/\">返回央视网首页</a><b></b><i></i></span>\\r\\n                        <span class=\"cur\" ><a class=\"gonew\" target=\"_blank\" href=\"http://news.cctv.com/\">返回新闻频道</a><b></b><i></i></span>\\r\\n                    </div>\\r\\n                    <div class=\"sharelike\">\\r\\n                        <div class=\"share bdsharebuttonbox\"  id=\"nativeShare\">\\r\\n                            <span>分享：</span>\\r\\n                            <a id=\"fucengweixin\" class=\"weixin\"></a>\\r\\n                            <a data-fx=\"wb-btn\" class=\"weibo\"></a>\\r\\n                            <a data-fx=\"qq-btn\" class=\"qq\"></a>\\r\\n                            <a data-fx=\"qz-btn\" class=\"kongjian\"></a>\\r\\n                        </div>\\r\\n                        <div id=\"cntvshare_weixin\" class=\"zwweixin_weixin_bottom\">\\r\\n                                <div class=\"zwweixin_head\"></div>\\r\\n                                <div class=\"sharebg\">\\r\\n                                    <div id=\"codeqr2\" class=\"wxcodeqr\" >\\r\\n                                    </div>\\r\\n                                <div class=\"zwrweixin_headfoot\">扫一扫 分享到微信</div>\\r\\n                                </div>\\r\\n                        </div>\\r\\n                        <div class=\"shu\">|</div>\\r\\n                        <div class=\"like\" id=\"zanNum\"><b></b><i></i></div>\\r\\n                    </div>\\r\\n                </div>\\r\\n            </div>\\r\\n        </div>\\r\\n        <!-- 正文页结束 -->\\r\\n    \\r\\n        <div class=\"backTop18897\"><a href=\"javascript:;\">返回顶部</a></div>\\r\\n            <div id=\"back_to_top\" class=\"gotop_btn\"></div>\\r\\n            <div id=\"back_to_home\" class=\"gohome\"><a href=\"http://www.cctv.com/\"></a></div>\\r\\n        \\r\\n        <!-- 浮层结束-->\\r\\n        <!--移动pc公用模块-->\\r\\n        <script src=\"//p1.img.cctvpic.com/photoAlbum/templet/common/DEPA1565315968922641/index_news190903.js?a\"></script>\\r\\n        <div class=\"XUQIU18897_tonglan\">\\r\\n        <div class=\"column_wrapper_1000\">\\r\\n                \\n           \\r\\n              \\r\\n           <style type=\"text/css\">\\r\\n           \\t\\r\\n           \\t\\r\\n           \\t\\r\\n@media screen and (min-width: 1025px) {\\r\\n           \\t\\t\\r\\n           \\t\\t\\r\\n.clueLateral{width: 86px;height: 86px;background: url(//p1.img.cctvpic.com/photoAlbum/templet/common/DEPA1565315968922641/back_top_bg_18897_190809.png) no-repeat center center;position: fixed;right: 22px;bottom: 343px;display: block;z-index: 100;}\\r\\n.clueLateral a {display: block;background: url(//p1.img.cctvpic.com/photoAlbum/templet/common/DEPA1565315968922641/Icon_clue_231215.png) no-repeat center 20px; margin: 0 auto; color: #666666;text-align: center;font-size: 12px; line-height: 20px; padding-top:55px;z-index: 11; width: 70px; height:28px;}\\r\\n.clueLateral a:hover{background-image:url(//p1.img.cctvpic.com/photoAlbum/templet/common/DEPA1565315968922641/Icon_clueCur011_231215.png);color:#bf0614;}\\r\\n.clueLateral .mailbox{ display:none; font-size: 16px; text-align: center; color: #5c5c5c; line-height: 70px; padding: 0 22px; position:absolute; right: 90px;top: 8px;height: 70px; width: 240px; border-radius: 5px; background-color: #ffffff; box-shadow:0 0 10px 0px rgba(0,0,0,0.1);}\\r\\n.clueLateral .mailbox em{ background: url(//p1.img.cctvpic.com/photoAlbum/templet/common/DEPA1565315968922641/mailbox_231215.png) no-repeat center left; padding-left: 26px; }\\r\\n.clueLateral:hover .mailbox{ display:block;}\\r\\n\\r\\n\\r\\n\\r\\n.page_wrap_190703 .bottom_ind01 .fir .backgo .clue{height: 36px; padding: 0 16px; border-radius:36px; margin-left: -16px; }\\r\\n.page_wrap_190703 .bottom_ind01 .fir .backgo .clue em{ background:url(//p1.img.cctvpic.com/photoAlbum/templet/common/DEPA1565315968922641/Icon_clue_231215.png) no-repeat left center; padding-left: 25px; background-size:15px 17px; }\\r\\n.page_wrap_190703 .bottom_ind01 .fir .backgo .clue:hover em{ background-image:url(//p1.img.cctvpic.com/photoAlbum/templet/common/DEPA1565315968922641/Icon_clueCur_231215.png) }\\r\\n           \\t}\\r\\n           \\t\\r\\n@media screen and (max-width: 1024px) {\\r\\n\\t.clueLateral{display: none;}\\r\\n       \\t\\t.clueH5{ z-index:999;display: block;position: fixed;bottom: 6rem;right: 0.2rem;width: .85rem;height: .85rem;background: url(//p4.img.cctvpic.com/photoAlbum/templet/special/PAGEhlQnreJDmlRe3lLi29D3231218/ELMTiGZpMrJ3jhbQRzju2TXp231218_1703050038.svg) no-repeat 0 0;background-size: contain;}\\r\\n\\t.clueH5  a{display:block;width:0.85rem;height:0.85rem;}\\r\\n       }    \\t\\r\\n           \\t\\t\\t\\r\\n  @media screen and (orientation:landscape) {\\r\\n    .clueH5{ bottom: 4rem;}\\r\\n  \\r\\n  }\\r\\n           </style>\\r\\n           \\r\\n        \\r\\n           <script type=\"text/javascript\">\\r\\n           \\t$(\".backgo\").append(\\'<span class=\"clue\"><a href=\"https://www.cctv.com/special/guanyunew/jianjiePAGEQezAEWqHSGGmjjQL6s0V231214/index.shtml\" target=\"_blank\"><em>望海热线</em></a></span>\\')\\r\\n           </script>\\r\\n<div class=\"clueLateral\"><a href=\"https://www.cctv.com/special/guanyunew/jianjiePAGEQezAEWqHSGGmjjQL6s0V231214/index.shtml\" target=\"_blank\">望海热线</a><div class=\"mailbox\"><em>xinwenxiansuo@staff.cntv.cn</em></div></div>\\r\\n                    \\r\\n\\r\\n\\t<div id=\"back_to_clue\" class=\"clueH5\"><a href=\"https://www.cctv.com/special/guanyunew/jianjiePAGEQezAEWqHSGGmjjQL6s0V231214/index.shtml\"></a></div>\\r\\n\\t\\r\\n                \\n\\r\\n                    \\n\\r\\n\\t\\r\\n\\t\\t\\t\\t\\r\\n\\t\\t\\t\\t\\t<script type=\"text/javascript\">\\n\\t//包含页1\\t\\n\\tif(itemid1==\"ARTI2DTN6DcWIF9sy5sha2tx201109\"){\\n\\t\\tdocument.write(\\'<style>\\')\\n\\t\\tdocument.write(\\'.daohangtiao .content .right .share{display:none;}\\')\\n\\t\\tdocument.write(\\'.page_wrap_190703 .bottom_ind01 .fir .sharelike{display:none;}\\')\\n\\t\\tdocument.write(\\'</style>\\')\\n\\t}\\n</script>\\r\\n\\t\\t\\t\\t\\r\\n\\t\\t\\t\\r\\n\\r\\n<div class=\"ELMTvbmTWIjQv22N8k5eDvhN190810\" data-spm=\"EvbmTWIjQv22\" >\\r\\n<div class=\"md\">\\r\\n\\t \\r\\n\\t  \\r\\n                <div class=\"md_hdc\"><b></b></div>\\r\\n\\t\\t\\t\\t<div class=\"md_hd\">\\r\\n\\r\\n\\t\\t<span class=\"mh_title\">最新推荐</span>\\r\\n\\t\\t\\r\\n\\t </div>\\r\\n \\r\\n \\r\\n <div class=\"md_bd\">\\r\\n \\t\\r\\n \\t<div data-spm=\"S76890\" id=\"SUBD1565436014876890\">\\r\\n\\t\\t<div class=\"ELMTogkW3VdRtw6sSqZt87bF190809\" data-spm= \"EogkW3VdRtw6\">\\r\\n<div class=\"BottomPageUniversal18897_con02\">\\r\\n\\t<ul id=\"page1zw\">\\r\\n\\t</ul>\\r\\n\\t<div class=\"clear\"></div>\\r\\n\\t\\t<div class=\"more\"><a href=\"javascript:;\">加载更多</a></div>\\r\\n</div>\\r\\n</div>\\r\\n<script type=\"text/javascript\">\\r\\n\\tfunction loadpage1zhengwei(){\\r\\n\\t\\tvar channelNames=\"PAGE1354759511941341,PAGE1354759792594134,PAGE1357526359761204,PAGE1357526598934187,PAGE1357526812000160,PAGE1357526997653879,PAGE1381299766666351,PAGE1381299790479609\";\\r\\n\\t\\tif(channelNames.indexOf(\",\")>0){\\r\\n\\t\\t\\tvar cb=channelNames.split(\",\")[0]\\r\\n\\t\\t}else{\\r\\n\\t\\t\\tvar cb=\"t\";\\r\\n\\t\\t}\\r\\n\\t\\tvar url=\"//api.cntv.cn/List/getListByPageid?id=\"+channelNames+\"&kind=a&n=10&p=1&serviceId=pcnews\"\\r\\n\\t\\t$.ajax({\\r\\n\\t\\ttype:\"get\",\\r\\n\\t\\turl:url,\\r\\n\\t\\tcache:true,\\r\\n\\t\\tdataType:\\'jsonp\\',\\r\\n\\t\\tjsonp:\"cb\",\\r\\n\\t\\tjsonpCallback:cb,\\r\\n\\t\\tsuccess:function(data){\\t\\r\\n\\t\\t\\tvar datalist=data.data.list\\r\\n\\t\\t\\tvar str=\"\"\\r\\n\\t\\t\\tfor(var i=0;i<datalist.length;i++){\\r\\n\\t\\t\\t\\tif(i<5){\\r\\n\\t\\t\\t\\t\\tif((i+1)%5==0){\\r\\n\\t\\t\\t\\t\\t\\tstr+=\\'<li style=\"display: block\" class=\"first\">\\'\\r\\n\\t\\t\\t\\t\\t}else{\\r\\n\\t\\t\\t\\t\\t\\tstr+=\\'<li style=\"display: block\">\\'\\r\\n\\t\\t\\t\\t\\t}\\r\\n\\t\\t\\t\\t}else{\\r\\n\\t\\t\\t\\t\\tif((i+1)%5==0){\\r\\n\\t\\t\\t\\t\\t\\tstr+=\\'<li style=\"display: none\" class=\"first\">\\'\\r\\n\\t\\t\\t\\t\\t}else{\\r\\n\\t\\t\\t\\t\\t\\tstr+=\\'<li style=\"display: none\">\\'\\r\\n\\t\\t\\t\\t\\t}\\r\\n\\t\\t\\t\\t\\t\\t\\t\\t\\t\\r\\n\\t\\t\\t\\t}\\r\\n\\t\\t\\t\\tvar data=parseInt(datalist[i].focus_date);\\r\\n\\t\\t\\t\\tvar data2=new Date(data);\\r\\n\\t\\t\\t\\tvar y=data2.getFullYear();\\r\\n\\t\\t\\t\\tvar m=(data2.getMonth()+1)>=10?(data2.getMonth()+1):\"0\"+(data2.getMonth()+1);\\r\\n\\t\\t\\t\\tvar d=data2.getDate()>=10?data2.getDate():\"0\"+data2.getDate();\\r\\n\\t\\t\\t\\tvar h=data2.getHours()>=10?data2.getHours():\"0\"+data2.getHours();\\r\\n\\t\\t\\t\\tvar hm=data2.getMinutes()>=10?data2.getMinutes():\"0\"+data2.getMinutes();\\r\\n\\r\\n\\t\\t\\t\\tvar pagedata=y+\\'-\\'+m+\\'-\\'+d+\\' \\'+h+\\':\\'+hm;\\r\\n\\t\\t\\t\\tif(datalist[i].image==\"\"){\\r\\n\\t\\t\\t\\t\\tif(datalist[i].desc.length>142){\\r\\n\\t\\t\\t\\t\\t\\tvar desc=datalist[i].desc.substr(0,140)+\"...\";\\r\\n\\t\\t\\t\\t\\t}else{\\r\\n\\t\\t\\t\\t\\t\\tvar desc=datalist[i].desc.substr(0,140);\\r\\n\\t\\t\\t\\t\\t}\\r\\n\\t\\t\\t\\t\\tif(isMobile&&datalist[i].title.length>40){\\r\\n\\t\\t\\t\\t\\t\\tvar title=datalist[i].title.substr(0,38)+\"...\"\\r\\n\\t\\t\\t\\t\\t}else{\\r\\n\\t\\t\\t\\t\\t\\tvar title=datalist[i].title;\\r\\n\\t\\t\\t\\t\\t}\\r\\n\\t\\t\\t\\t\\tstr+=\\'<div class=\"title\"><a href=\"\\'+datalist[i].url+\\'\" target=\"_blank\">\\'+title+\\'</a></div><div class=\"brief\"><a  href=\"\\'+datalist[i].url+\\'\" target=\"_blank\">\\'+desc+\\'</a></div><div class=\"bottom\"><span class=\"date\">\\'+pagedata+\\'</span><span class=\"content\">\\';\\r\\n\\t\\t\\t\\t\\t\\r\\n\\t\\t\\t\\tif(datalist[i].tag!=\"\"){\\r\\n\\t\\t\\t\\t\\tvar keyword=datalist[i].tag;\\r\\n\\t\\t\\t\\t\\tvar reg = new RegExp(\"\\u3000\",\"g\");\\r\\n\\t\\t\\t\\t\\tvar tagArrayBak = keyword.replace(reg,\" \");\\r\\n\\t\\t\\t\\t\\tvar keyword = tagArrayBak.split(\" \");\\r\\n\\t\\t\\t\\t\\tif(keyword.length<3){\\r\\n\\t\\t\\t\\t\\t\\tvar len=keyword.length\\r\\n\\t\\t\\t\\t\\t}else{\\r\\n\\t\\t\\t\\t\\t\\tvar len=3;\\r\\n\\t\\t\\t\\t\\t}\\r\\n\\t\\t\\t\\t\\tfor(var n=0;n<len;n++){\\r\\n\\t\\t\\t\\t\\t\\tstr+=\\'<a target=\"_blank\"  href=\"https://search.cctv.com/search.php?qtext=\\'+keyword[n]+\\'\">\\'+keyword[n]+\\'</a>\\';\\r\\n\\t\\t\\t\\t\\t}\\t\\r\\n\\t\\t\\t\\t}\\r\\n\\t\\t\\t\\t\\tstr+=\\'</span></div><div class=\"clear\"></div></li>\\'\\r\\n\\t\\t\\t\\t}else{\\r\\n\\t\\t\\t\\t\\tif(datalist[i].desc.length>96){\\r\\n\\t\\t\\t\\t\\t\\tvar desc=datalist[i].desc.substr(0,94)+\"...\";\\r\\n\\t\\t\\t\\t\\t}else{\\r\\n\\t\\t\\t\\t\\t\\tvar desc=datalist[i].desc.substr(0,94);\\r\\n\\t\\t\\t\\t\\t}\\r\\n\\t\\t\\t\\t\\tif(isMobile&&datalist[i].title.length>24){\\r\\n\\t\\t\\t\\t\\t\\tvar title=datalist[i].title.substr(0,22)+\"...\"\\r\\n\\t\\t\\t\\t\\t}else{\\r\\n\\t\\t\\t\\t\\t\\tvar title=datalist[i].title;\\r\\n\\t\\t\\t\\t\\t}\\r\\n\\t\\t\\t\\t\\tstr+=\\'<div class=\"image\"><a href=\"\\'+datalist[i].url+\\'\" target=\"_blank\"><img src=\"\\'+datalist[i].image+\\'\"></a></div><div class=\"text\"><div class=\"title\"><a href=\"\\'+datalist[i].url+\\'\" target=\"_blank\">\\'+title+\\'</a></div><div class=\"brief\"><a  href=\"\\'+datalist[i].url+\\'\" target=\"_blank\">\\'+desc+\\'</a></div><div class=\"bottom\"><span class=\"date\">\\'+pagedata+\\'</span><span class=\"content\">\\';\\r\\n\\t\\t\\t\\t\\t\\r\\n\\t\\t\\t\\tif(datalist[i].tag!=\"\"){\\r\\n\\t\\t\\t\\t\\tvar keyword=datalist[i].tag;\\r\\n\\t\\t\\t\\t\\tvar reg = new RegExp(\"\\u3000\",\"g\");\\r\\n\\t\\t\\t\\t\\tvar tagArrayBak = keyword.replace(reg,\" \");\\r\\n\\t\\t\\t\\t\\tvar keyword = tagArrayBak.split(\" \");\\r\\n\\t\\t\\t\\t\\tif(keyword.length<3){\\r\\n\\t\\t\\t\\t\\t\\tvar len=keyword.length\\r\\n\\t\\t\\t\\t\\t}else{\\r\\n\\t\\t\\t\\t\\t\\tvar len=3;\\r\\n\\t\\t\\t\\t\\t}\\r\\n\\t\\t\\t\\t\\tfor(var n=0;n<len;n++){\\r\\n\\t\\t\\t\\t\\t\\tstr+=\\'<a target=\"_blank\"  href=\"https://search.cctv.com/search.php?qtext=\\'+keyword[n]+\\'\">\\'+keyword[n]+\\'</a>\\';\\r\\n\\t\\t\\t\\t\\t}\\t\\r\\n\\t\\t\\t\\t}\\r\\n\\t\\t\\t\\t\\tstr+=\\'</span></div></div><div class=\"clear\"></div></li>\\'\\r\\n\\t\\t\\t\\t}\\r\\n\\t\\t\\t\\t\\r\\n\\t\\t\\t}\\r\\n\\t\\t\\r\\n\\t\\t\\t$(\"#page1zw\").html(str)\\r\\n\\t\\t\\tFor_change(\"BottomPageUniversal18897_con02\");\\r\\n\\t\\t\\tif(isMobile){\\r\\n\\t\\t\\t\\t\\t$(\"#page1zw\").find(\"a\").each(function(){\\r\\n\\t\\t\\t\\t\\t\\t$(\"a\").removeAttr(\"target\")\\r\\n\\t\\t\\t\\t\\t})\\r\\n\\t\\t\\t}else{\\r\\n\\t\\t\\t\\t\\tsetTimeout(function(){\\r\\n\\t\\t\\t\\t\\t\\t$(\"#page1zw\").find(\"a\").each(function(){\\r\\n\\t\\t\\t\\t\\t\\t\\r\\n\\t\\t\\t   \\t\\t $(this).attr(\"target\",\"_blank\");\\r\\n\\t\\t\\t  \\r\\n\\t\\t\\t\\t\\t});\\r\\n\\t\\t\\t\\t\\t},1200)\\r\\n\\t\\t\\t\\t\\t\\r\\n\\t\\t\\t}\\r\\n\\t\\t}\\r\\n\\t\\t});\\r\\n\\t\\r\\n\\t}\\r\\n\\tloadpage1zhengwei();\\r\\n\\r\\n</script>\\r\\n \\t</div>\\r\\n \\t\\r\\n <div style=\"clear:both;\"></div>\\r\\n </div>\\r\\n   <div class=\"md_ftc\"><b></b></div>\\r\\n</div>\\r\\n<div  class=\"hide\"></div>\\r\\n</div>\\r\\n\\t\\r\\n\\t\\t\\t\\t\\r\\n\\t\\t\\t\\t\\t<style>\\r\\n@media screen and (max-width: 1024px) {\\r\\n\\t#ad_bhy{display: none;}\\r\\n}\\r\\n</style>\\r\\n<script>\\r\\nvar ad_width_ispc = $(window).width();\\r\\n</script>\\r\\n<div id=\"ad_bhy\">\\r\\n<div id=\"gtyb_1422\" style=\"width: 1000px;\" class=\"ad_tonglan_1209\">\\r\\n<!-- <script type=\"text/javascript\">\\r\\nif(ad_width_ispc > 1024){\\r\\n\\tdocument.write(\\'<scr\\'+\\'ipt type=\"text/javasc\\'+\\'ript\" src=\"//galaxy.bjcathay.com/s?z=cathay&c=1422&_subsite=\\'+domainame_+\\'&_channel=\\'+sub_column_id+\\'&_sorts=\\'+column_id+\\'&_tvcctvpindao=\\'+pindao_1+\\'\" charset=\"gbk\"></scr\\'+\\'ipt>\\');\\r\\n}\\r\\n</script> -->                 \\r\\n</div>\\r\\n<div id=\"gtyb_1423\" style=\"width: 320px;float: left;margin: 0 20px 20px 0;\" class=\"ad_tonglan_1209\">\\r\\n<!-- <script type=\"text/javascript\">\\r\\nif(ad_width_ispc > 1024){\\r\\n\\tdocument.write(\\'<scr\\'+\\'ipt type=\"text/javasc\\'+\\'ript\" src=\"//galaxy.bjcathay.com/s?z=cathay&c=1423&_subsite=\\'+domainame_+\\'&_channel=\\'+sub_column_id+\\'&_sorts=\\'+column_id+\\'&_tvcctvpindao=\\'+pindao_1+\\'\" charset=\"gbk\"></scr\\'+\\'ipt>\\');\\r\\n}\\r\\n</script> -->\\r\\n</div>\\r\\n<div id=\"gtyb_1424\" style=\"width: 320px;float: left;margin: 0 20px 20px 0;\" class=\"ad_tonglan_1209\">\\r\\n<!-- <script type=\"text/javascript\">\\r\\nif(ad_width_ispc > 1024){\\r\\n\\tdocument.write(\\'<scr\\'+\\'ipt type=\"text/javasc\\'+\\'ript\" src=\"//galaxy.bjcathay.com/s?z=cathay&c=1424&_subsite=\\'+domainame_+\\'&_channel=\\'+sub_column_id+\\'&_sorts=\\'+column_id+\\'&_tvcctvpindao=\\'+pindao_1+\\'\" charset=\"gbk\"></scr\\'+\\'ipt>\\');\\r\\n}\\r\\n</script> -->\\r\\n</div>\\r\\n<div id=\"gtyb_1425\" style=\"width: 320px;float: left;margin: 0 0 20px 0px;\" class=\"ad_tonglan_1209\">\\r\\n<!-- <script type=\"text/javascript\">\\r\\nif(ad_width_ispc > 1024){\\r\\n\\tdocument.write(\\'<scr\\'+\\'ipt type=\"text/javasc\\'+\\'ript\" src=\"//galaxy.bjcathay.com/s?z=cathay&c=1425&_subsite=\\'+domainame_+\\'&_channel=\\'+sub_column_id+\\'&_sorts=\\'+column_id+\\'&_tvcctvpindao=\\'+pindao_1+\\'\" charset=\"gbk\"></scr\\'+\\'ipt>\\');\\r\\n}\\r\\n</script> -->\\r\\n</div>\\r\\n<div style=\"clear: both;\"></div>\\r\\n</div>\\r\\n<script type=\"text/javascript\">\\r\\n$(\".ad_tonglan_1209\").each(function(){\\r\\n\\tif($(this).find(\"img\").length == 0){\\r\\n\\t\\t$(this).hide();\\r\\n\\t}\\r\\n})\\r\\n\\r\\nfunction CCTV_2019ad(){}\\r\\nCCTV_2019ad.prototype._ajax = function(url,cb,fn){\\r\\n\\t$.ajax({\\r\\n\\t\\turl:url,\\r\\n\\t\\tdataType:\"jsonp\",\\r\\n\\t\\tcache:true,\\r\\n\\t\\tjsonpCallback:cb,\\r\\n\\t\\tsuccess:function(data){\\r\\n\\t\\t\\tfn(data);\\r\\n\\t\\t}\\r\\n\\t})\\r\\n}\\r\\nvar CCTV_2019ad = new CCTV_2019ad();\\r\\nvar ad_text_style = \\'<div style=\"position: absolute; left: 0px; bottom: 0px; z-index: 999; padding: 0px 3px; font-size: 12px; line-height: 16px; color: rgb(255, 255, 255); background: rgb(0, 0, 0) none repeat scroll 0% 0%; opacity: 0.5;\">广告</div>\\';\\r\\n// 右悬浮 广告 start\\r\\nif(ad_width_ispc > 1024){\\r\\n\\tCCTV_2019ad._ajax(\\'//galaxy.bjcathay.com/s?z=cathay&c=1426&op=1&_subsite=\\'+domainame_+\\'&_channel=\\'+sub_column_id+\\'&_sorts=\\'+column_id+\\'&_tvcctvpindao=\\'+pindao_1+\\'\\',\\'cntvPczh_1426\\',function(data){\\r\\n\\t\\tvar _html = \\'\\';\\r\\n\\t\\t_html += \\'<div style=\"position:absolute;top:-80px;left:8px; width: 70px;height: 70px;cursor: pointer;z-index: 9999;\">\\';\\r\\n\\t\\t_html += \\'<a href=\"\\'+data.clickUrl+\\'\" style=\"background: none;padding:0;\" target=\"_blank\">\\';\\r\\n\\t\\t_html += \\'<img src=\"\\'+data.smallImg+\\'\" >\\';\\r\\n\\t\\t_html += \\'</a>\\';\\r\\n\\t\\t_html += \\'</div>\\';\\r\\n\\t\\t$(\".backTop18897\").prepend(_html);\\r\\n\\t\\tif(data.eventExposure!=\\'\\'){\\r\\n\\t\\t\\t$(\"body\").append(\\'<iframe frameborder=\"0\" width=\"0\" height=\"0\" scrolling=\"no\" src=\"\\'+data.eventExposure+\\'\" style=\"display:none;\"></iframe>\\');\\r\\n\\t\\t}\\r\\n\\t})\\r\\n\\tCCTV_2019ad._ajax(\\'//galaxy.bjcathay.com/s?z=cathay&c=1422&op=1&_subsite=\\'+domainame_+\\'&_channel=\\'+sub_column_id+\\'&_sorts=\\'+column_id+\\'&_tvcctvpindao=\\'+pindao_1+\\'\\',\\'cntvPczh_1422\\',function(data){\\r\\n\\t\\tvar _html = \\'\\';\\r\\n\\t\\t_html += \\'<a href=\"\\'+data.clickUrl+\\'\" style=\"display:block;position:relative;background: none;padding:0;\" target=\"_blank\">\\';\\r\\n\\t\\t_html += \\'<img src=\"\\'+data.smallImg+\\'\" >\\';\\r\\n\\t\\tif(data.ad_text==\\'true\\'){\\r\\n\\t\\t\\t_html += ad_text_style;\\r\\n\\t\\t}\\r\\n\\t\\t_html += \\'</a>\\';\\r\\n\\t\\t_html += \\'<div style=\"height:20px\"></div>\\';\\r\\n\\t\\t$(\"#gtyb_1422\").append(_html);\\r\\n\\t\\t$(\"#gtyb_1422\").show()\\r\\n\\t\\tif(data.eventExposure!=\\'\\'){\\r\\n\\t\\t\\t$(\"body\").append(\\'<iframe frameborder=\"0\" width=\"0\" height=\"0\" scrolling=\"no\" src=\"\\'+data.eventExposure+\\'\" style=\"display:none;\"></iframe>\\');\\r\\n\\t\\t}\\r\\n\\t})\\r\\n\\tCCTV_2019ad._ajax(\\'//galaxy.bjcathay.com/s?z=cathay&c=1423&op=1&_subsite=\\'+domainame_+\\'&_channel=\\'+sub_column_id+\\'&_sorts=\\'+column_id+\\'&_tvcctvpindao=\\'+pindao_1+\\'\\',\\'cntvPczh_1423\\',function(data){\\r\\n\\t\\tvar _html = \\'\\';\\r\\n\\t\\t_html += \\'<a href=\"\\'+data.clickUrl+\\'\" style=\"display:block;position:relative;background: none;padding:0;\" target=\"_blank\">\\';\\r\\n\\t\\t_html += \\'<img src=\"\\'+data.smallImg+\\'\" >\\';\\r\\n\\t\\tif(data.ad_text==\\'true\\'){\\r\\n\\t\\t\\t_html += ad_text_style;\\r\\n\\t\\t}\\r\\n\\t\\t_html += \\'</a>\\';\\r\\n\\t\\t$(\"#gtyb_1423\").append(_html);\\r\\n\\t\\t$(\"#gtyb_1423\").show()\\r\\n\\t\\tif(data.eventExposure!=\\'\\'){\\r\\n\\t\\t\\t$(\"body\").append(\\'<iframe frameborder=\"0\" width=\"0\" height=\"0\" scrolling=\"no\" src=\"\\'+data.eventExposure+\\'\" style=\"display:none;\"></iframe>\\');\\r\\n\\t\\t}\\r\\n\\t})\\r\\n\\tCCTV_2019ad._ajax(\\'//galaxy.bjcathay.com/s?z=cathay&c=1424&op=1&_subsite=\\'+domainame_+\\'&_channel=\\'+sub_column_id+\\'&_sorts=\\'+column_id+\\'&_tvcctvpindao=\\'+pindao_1+\\'\\',\\'cntvPczh_1424\\',function(data){\\r\\n\\t\\tvar _html = \\'\\';\\r\\n\\t\\t_html += \\'<a href=\"\\'+data.clickUrl+\\'\" style=\"display:block;position:relative;background: none;padding:0;\" target=\"_blank\">\\';\\r\\n\\t\\t_html += \\'<img src=\"\\'+data.smallImg+\\'\" >\\';\\r\\n\\t\\tif(data.ad_text==\\'true\\'){\\r\\n\\t\\t\\t_html += ad_text_style;\\r\\n\\t\\t}\\r\\n\\t\\t_html += \\'</a>\\';\\r\\n\\t\\t$(\"#gtyb_1424\").append(_html);\\r\\n\\t\\t$(\"#gtyb_1424\").show()\\r\\n\\t\\tif(data.eventExposure!=\\'\\'){\\r\\n\\t\\t\\t$(\"body\").append(\\'<iframe frameborder=\"0\" width=\"0\" height=\"0\" scrolling=\"no\" src=\"\\'+data.eventExposure+\\'\" style=\"display:none;\"></iframe>\\');\\r\\n\\t\\t}\\r\\n\\t})\\r\\n\\tCCTV_2019ad._ajax(\\'//galaxy.bjcathay.com/s?z=cathay&c=1425&op=1&_subsite=\\'+domainame_+\\'&_channel=\\'+sub_column_id+\\'&_sorts=\\'+column_id+\\'&_tvcctvpindao=\\'+pindao_1+\\'\\',\\'cntvPczh_1425\\',function(data){\\r\\n\\t\\tvar _html = \\'\\';\\r\\n\\t\\t_html += \\'<a href=\"\\'+data.clickUrl+\\'\" style=\"display:block;position:relative;background: none;padding:0;\" target=\"_blank\">\\';\\r\\n\\t\\t_html += \\'<img src=\"\\'+data.smallImg+\\'\" >\\';\\r\\n\\t\\tif(data.ad_text==\\'true\\'){\\r\\n\\t\\t\\t_html += ad_text_style;\\r\\n\\t\\t}\\r\\n\\t\\t_html += \\'</a>\\';\\r\\n\\t\\t$(\"#gtyb_1425\").append(_html);\\r\\n\\t\\t$(\"#gtyb_1425\").show()\\r\\n\\t\\tif(data.eventExposure!=\\'\\'){\\r\\n\\t\\t\\t$(\"body\").append(\\'<iframe frameborder=\"0\" width=\"0\" height=\"0\" scrolling=\"no\" src=\"\\'+data.eventExposure+\\'\" style=\"display:none;\"></iframe>\\');\\r\\n\\t\\t}\\r\\n\\t})\\r\\n}\\r\\n// 右悬浮 广告 end\\r\\n</script>\\r\\n<style>\\r\\n#ad_bhy_yd{position: relative;}\\r\\n#ad_bhy_yd img{width: 100%;}\\r\\n@media screen and (min-width: 1024px) {\\r\\n\\t#ad_bhy_yd{display: none;}\\r\\n}\\r\\n</style>\\r\\n<div id=\"ad_bhy_yd\"></div>\\r\\n<script type=\"text/javascript\">\\r\\n//移动端 通栏广告\\r\\nif(ad_width_ispc <= 1024){\\r\\n\\tCCTV_2019ad._ajax(\\'//galaxy.bjcathay.com/s?z=cathay&c=1592&op=1\\',\\'cntvPczh_1592\\',function(data){\\r\\n\\t\\tvar _html = \\'\\';\\r\\n\\t\\t_html += \\'<a href=\"\\'+data.clickUrl+\\'\">\\';\\r\\n\\t\\t_html += \\'<img src=\"\\'+data.smallImg+\\'\">\\';\\r\\n\\t\\t_html += \\'</a>\\';\\r\\n\\t\\t_html += \\'<div style=\"position: absolute; left: 0px; top: 0; z-index: 999; padding: 0px 3px; font-size: 12px; line-height: 16px; color: rgb(255, 255, 255); background: rgb(0, 0, 0) none repeat scroll 0% 0%; opacity: 0.5;\">广告</div>\\';\\r\\n\\t\\t$(\"#ad_bhy_yd\").append(_html);\\r\\n\\t\\t$(\"#ad_bhy_yd img\").css(\"margin-bottom\",\"0.5rem\");\\r\\n\\t\\tif(data.eventExposure!=\\'\\'){\\r\\n\\t\\t\\t$(\"body\").append(\\'<iframe frameborder=\"0\" width=\"0\" height=\"0\" scrolling=\"no\" src=\"\\'+data.eventExposure+\\'\" style=\"display:none;\"></iframe>\\');\\r\\n\\t\\t}\\r\\n\\t})\\r\\n}\\r\\n</script>\\r\\n\\r\\n\\t\\t\\t\\t\\r\\n\\t\\t\\t\\r\\n\\r\\n\\r\\n                    \\n<div class=\"ELMTI0j7C2U0szEIppZQUAtp190810\" data-spm=\"EI0j7C2U0szE\" >\\r\\n<div class=\"md\">\\r\\n\\t \\r\\n\\t  \\r\\n                <div class=\"md_hdc\"><b></b></div>\\r\\n\\t\\t\\t\\t<div class=\"md_hd\">\\r\\n\\r\\n\\t\\t<span class=\"mh_title\">精彩图集</span>\\r\\n\\t\\t\\r\\n\\t </div>\\r\\n \\r\\n \\r\\n <div class=\"md_bd\">\\r\\n \\t\\r\\n \\t<div data-spm=\"S11105\" id=\"SUBD1565436404011105\">\\r\\n\\t\\t<div class=\"ELMT7K3Ifv1VruWce6A1BfEZ190810\" data-spm= \"E7K3Ifv1VruW\">\\r\\n<div class=\"BottomPageUniversal18897_con06\">\\r\\n\\t<div class=\"content\">\\r\\n\\t\\t<ul id=\"page5tuji\">\\r\\n\\t\\t\\t\\r\\n\\t\\t</ul>\\r\\n\\t\\t<div class=\"clear\"></div>\\r\\n\\t\\t<div class=\"more\"><a href=\"javascript:;\">加载更多</a></div>\\r\\n\\t\\t<div class=\"clear\"></div>\\r\\n\\t</div>\\r\\n\\t<div class=\"clear\"></div>\\r\\n</div>\\r\\n\\r\\n\\r\\n</div>\\r\\n<script type=\"text/javascript\">\\r\\n\\tfunction loadpage5tuji(){\\r\\n\\t\\tvar channelNames=\"PAGE1354763979898165,PAGE1354764009204216\";\\r\\n\\t\\tif(channelNames.indexOf(\",\")>0){\\r\\n\\t\\t\\tvar cb=\"t\"+channelNames.split(\",\")[0]\\r\\n\\t\\t}else{\\r\\n\\t\\t\\tvar cb=\"t\";\\r\\n\\t\\t}\\r\\n\\t\\r\\n\\t\\tvar url=\"//api.cntv.cn/List/getListByPageid?id=\"+channelNames+\"&kind=p&n=16&p=1&serviceId=pcnews\"\\r\\n\\t\\t$.ajax({\\r\\n\\t\\ttype:\"get\",\\r\\n\\t\\turl:url,\\r\\n\\t\\tcache:true,\\r\\n\\t\\tdataType:\\'jsonp\\',\\r\\n\\t\\tjsonp:\"cb\",\\r\\n\\t\\tjsonpCallback:cb,\\r\\n\\t\\tsuccess:function(data){\\t\\r\\n\\t\\t\\tvar datalist=data.data.list\\r\\n\\t\\t\\tvar str=\"\"\\r\\n\\t\\t\\tfor(var i=0;i<datalist.length;i++){\\r\\n\\t\\t\\t\\tif(i<8){\\r\\n\\t\\t\\t\\t\\tif(i==0){\\r\\n\\t\\t\\t\\t\\t\\tstr+=\\'<li style=\"display: block\" class=\"first\">\\'\\r\\n\\t\\t\\t\\t\\t}else if(i%2==0){\\r\\n\\t\\t\\t\\t\\t\\tstr+=\\'<li style=\"display: block\" class=\"odd\">\\'\\r\\n\\t\\t\\t\\t\\t}else{\\r\\n\\t\\t\\t\\t\\t\\tstr+=\\'<li style=\"display: block\">\\'\\r\\n\\t\\t\\t\\t\\t}\\r\\n\\t\\t\\t\\t}else{\\r\\n\\t\\t\\t\\t\\tif(i%2==0){\\r\\n\\t\\t\\t\\t\\t\\tstr+=\\'<li style=\"display: none\" class=\"odd\">\\'\\r\\n\\t\\t\\t\\t\\t}else{\\r\\n\\t\\t\\t\\t\\t\\tstr+=\\'<li style=\"display: none\">\\'\\r\\n\\t\\t\\t\\t\\t}\\r\\n\\t\\t\\t\\t\\t\\t\\t\\t\\t\\r\\n\\t\\t\\t\\t}\\r\\n\\t\\t\\t\\tif($(window).width() <=1024){\\r\\n\\t\\t\\t\\t\\tif(i==0){\\r\\n\\t\\t\\t\\t\\t\\tvar listimg5=datalist[i].image+\"?w=702&h=396&p=0\"\\r\\n\\t\\t\\t\\t\\t}else{\\r\\n\\t\\t\\t\\t\\t\\tvar listimg5=datalist[i].image+\"?w=330&h=186&p=0\"\\r\\n\\t\\t\\t\\t\\t}\\r\\n\\t\\t\\t\\t\\t\\r\\n\\t\\t\\t\\t}else{\\r\\n\\t\\t\\t\\t\\tvar listimg5=datalist[i].image\\r\\n\\t\\t\\t\\t}\\r\\n\\t\\t\\t\\tstr+=\\'<div class=\"image\"><a  href=\"\\'+datalist[i].url+\\'\" target=\"_blank\"><img src=\"\\'+listimg5+\\'\"></a></div><div class=\"text\"><div class=\"title\"><a  href=\"\\'+datalist[i].url+\\'\" target=\"_blank\">\\'+datalist[i].title+\\'</a></div></div></li>\\';\\r\\n\\t\\t\\t\\t}\\r\\n\\t\\t\\t\\t\\r\\n\\t\\t\\r\\n\\t\\t\\r\\n\\t\\t\\t$(\"#page5tuji\").html(str)\\r\\n\\t\\t\\tFor_change(\"BottomPageUniversal18897_con06\");\\r\\n\\t\\t\\r\\n\\t\\t\\t\\tif($(window).width()<=1024){\\r\\n\\t\\t\\t\\t\\t\\r\\n\\t\\t\\t\\t\\t$(\"#page5tuji\").find(\"a\").each(function(){\\r\\n\\t\\t\\t\\t\\t\\t$(\"a\").removeAttr(\"target\")\\r\\n\\t\\t\\t\\t\\t})\\r\\n\\t\\t\\t\\t\\t\\r\\n\\t\\t\\t\\t\\t\\t\\r\\n\\t\\t\\t\\t\\t}else{\\r\\n\\t\\t\\t\\t\\t\\r\\n\\t\\t\\t\\t\\tvar gallery = $(\\'.BottomPageUniversal18897_con06 ul li\\');\\r\\n\\t\\t\\t\\tvar positionBottom=$(\\'.BottomPageUniversal18897_con06 ul li\\').height();\\r\\n\\t\\t\\t\\tgallery.find(\\'.text\\').stop().animate({bottom:-positionBottom+\"px\"},500);\\r\\n\\t\\t\\t\\tgallery.mouseenter(function(){\\r\\n\\t\\t\\t\\t\\t$(this).find(\\'.text\\').stop().animate({bottom:0},500);\\r\\n\\t\\t\\t\\t})\\r\\n\\t\\t\\t\\tgallery.mouseleave(function(){\\r\\n\\t\\t\\t\\t\\t$(this).find(\\'.text\\').stop().animate({bottom:-positionBottom+\"px\"},500);\\r\\n\\t\\t\\t\\t})\\r\\n\\t\\t\\t\\r\\n\\t\\t\\t\\t \\t}\\r\\n\\r\\n\\t\\t\\t}\\r\\n\\t\\t\\t\\t});\\r\\n\\t\\r\\n\\t\\t\\t}\\r\\n\\t\\tloadpage5tuji();\\r\\n\\r\\n</script>\\r\\n \\t</div>\\r\\n \\t\\r\\n <div style=\"clear:both;\"></div>\\r\\n </div>\\r\\n   <div class=\"md_ftc\"><b></b></div>\\r\\n</div>\\r\\n<div  class=\"hide\"></div>\\r\\n</div>\\r\\n\\t\\r\\n\\t\\t\\t\\t\\r\\n\\t\\t\\t\\t\\t\\r\\n\\t\\t\\t\\t\\r\\n\\t\\t\\t\\r\\n\\r\\n\\r\\n                        <div class=\"search\">\\r\\n            <input type=\"text\" placeholder=\"请输入你想搜索的关键词\" id=\"textshousuo\">\\r\\n            <div class=\"btn\" onclick=\"searchForm_submit()\"></div>\\r\\n        </div>\\r\\n            <script type=\"text/javascript\">\\r\\n                        function trim(str) {\\r\\n                                return str.replace(/(^\\\\s*)|(\\\\s*$)/g, \"\");\\r\\n                            }\\r\\n                        function searchForm_submit() {\\r\\n                        var str = trim(document.getElementById(\"textshousuo\").value);\\r\\n                        if(str.length > 0) {\\r\\n                            window.open(\"https://search.cctv.com/search.php?qtext=\"+str);\\r\\n                        } else {\\r\\n                            \\r\\n                            window.open(\"https://search.cctv.com/index.php\");\\r\\n                        }\\r\\n                    }\\r\\n                    </script>\\r\\n            </div>  \\r\\n        </div>\\r\\n        <!-- 移动页底部 -->\\r\\n        <div class=\"phone_footer\">\\r\\n            <link type=\"text/css\" rel=\"stylesheet\" href=\"//r.img.cctvpic.com/nettv/mcntv/mobile/mggbhy/dtbhy/style/style.css?41b472ab7d23fd8d76814d0a5475c1b1\"/>\\n<div class=\"ELMTRyNFQFGpkDujVB7r0Jfn190217\" data-spm=\"ERyNFQFGpkDu\">\\r\\n<div class=\"footer\">\\r\\n\\t<div class=\"link\">\\r\\n\\t\\t<a href=\"http://m.cctv.com/\">首页</a>|<a href=\"http://m.cctv.com/quanzhannav2019/index.shtml\">全站地图</a>\\r\\n\\t</div>\\r\\n\\t<p><span>中央广播电视总台</span><span>央视网</span><span>版权所有</span></p>\\r\\n</div>\\r\\n</div>\\r\\n          </div>\\r\\n          \\r\\n          <!-- PC页底部 -->\\r\\n          <div id=\"page_bottom\">\\r\\n          <!-- 全网统一通用页尾new --> \\r\\n          \\n\\r\\n\\t\\r\\n\\t\\t\\t\\t\\r\\n\\t\\t\\t\\t\\t<script src=\"//www.cctv.com/newcctv/containingPages/mapjs/index.js\" type=\"text/javascript\" charset=\"utf-8\"></script>\\r\\n\\t\\t\\t\\t\\r\\n\\t\\t\\t\\r\\n\\r\\n \\r\\n            <div class=\"pc_footer\">\\r\\n                \\n\\r\\n\\t\\r\\n\\t\\t\\t\\t\\r\\n\\t\\t\\t\\t\\t<script src=\"//www.cctv.com/newcctv/containingPages/bottomjs/index.js\" type=\"text/javascript\" charset=\"utf-8\"></script>\\r\\n\\t\\t\\t\\t\\r\\n\\t\\t\\t\\r\\n\\r\\n \\r\\n            </div>\\r\\n        \\r\\n          </div>\\r\\n        <div class=\"daohangtiao\">\\r\\n                    <div class=\"content\">\\r\\n                        <img src=\"//p1.img.cctvpic.com/photoAlbum/templet/common/DEPA1565315968922641/yangshiwang_logo_18897_190809.png\">\\r\\n                        \\r\\n                          <span class=\"daohangtitle\"><b>正在阅读：</b>缩短从“枝头”到“舌尖”的距离 “高铁+”助力农产品抢“鲜”上市</span>\\r\\n                                            \\r\\n                        <div class=\"right\">\\r\\n                            <div class=\"share\">\\r\\n                                <span>分享</span>\\r\\n                                <a id=\"weixintop\" class=\"weixin\"></a>\\r\\n                                <a data-fx=\"wb-btn\" class=\"weibo\"></a>\\r\\n                                <a data-fx=\"qq-btn\" class=\"qq\"></a>\\r\\n                                <a data-fx=\"qz-btn\" class=\"kongjian\"></a>\\r\\n                            </div>\\r\\n                            <div id=\"cntvshare_weixin\" class=\"zwweixin_weixin\">\\r\\n                                <div class=\"zwweixin_head\"></div>\\r\\n                                <div class=\"sharebg\">\\r\\n                                    <div id=\"codeqr1\" class=\"wxcodeqr\" >\\r\\n                                    </div>\\r\\n                                <div class=\"zwrweixin_headfoot\">扫一扫 分享到微信</div>\\r\\n                                </div>\\r\\n                            </div>\\r\\n                            <div class=\"phone\">\\r\\n                                <i></i>\\r\\n                                <span>手机看</span>\\r\\n                                <div class=\"cord\">\\r\\n                    <div class=\"cord_head\"></div>\\r\\n                    <div class=\"cord_bo\">\\r\\n                        <div id=\"codeqr5\" class=\"codeqr2\" style=\"width:102px;height:102px;padding:24px 24px 0 24px;margin:0 auto;min-height:102px;\"></div>\\r\\n                        <div class=\"spo\">扫一扫 手机继续看</div>\\r\\n                    </div>\\r\\n                    </div>\\r\\n                            </div>\\r\\n                            <div class=\"wzdx\">\\r\\n                                <span class=\"reduce\">A-</span>\\r\\n                                <span class=\"add\">A+</span>\\r\\n                            </div>\\r\\n                        \\r\\n                        </div>\\r\\n                        <div class=\"clear\"></div>\\r\\n                    </div>\\r\\n                </div>\\r\\n        \\r\\n</div>\\r\\n<script type=\"text/javascript\">\\r\\n    if(hdprop.length>0&&eval(\"(\"+hdprop+\")\").allow_praise==0){\\r\\n\\r\\n    }else{\\r\\n\\t\\t$(\"#zanNum\").remove();\\r\\n\\t\\t$(\".page_wrap_190703 .bottom_ind01 .fir .shu\").remove();\\r\\n\\t\\t$(\"#bottomzanNum\").parent(\"a\").remove();\\r\\n\\t}\\r\\nif(hdprop.length>0 && eval(\"(\"+hdprop+\")\").allow_share==0){\\r\\n\\r\\n}else{\\r\\n   $(\".daohangtiao .content .right .share\").remove();\\r\\n   $(\".page_wrap_190703 .bottom_ind01 .fir .sharelike\").remove();\\r\\n}\\r\\n</script>\\r\\n<script type=\"text/javascript\" src=\"//p2.img.cctvpic.com/photoAlbum/templet/common/DEPA1561603549108607/shareindex.js\"></script>\\r\\n<script src=\"//p1.img.cctvpic.com/photoAlbum/templet/common/DEPA1565315968922641/nativeShareXY.js\"></script>\\r\\n<script type=\"text/javascript\" src=\"//res.wx.qq.com/open/js/jweixin-1.0.0.js\"></script>\\r\\n<script type=\"text/javascript\" src=\"//g.alicdn.com/dingding/open-develop/1.9.0/dingtalk.js\"></script>\\r\\n\\r\\n<script type=\"text/javascript\" src=\"//p1.img.cctvpic.com/photoAlbum/templet/common/DEPA1565315968922641/diceng_newstw_20190903.js?a\"></script>\\r\\n\\r\\n</body>\\r\\n\\r\\n</html>  \\r\\n '"
      ]
     },
     "execution_count": 13,
     "metadata": {},
     "output_type": "execute_result"
    }
   ],
   "source": [
    "page_url = 'https://news.cctv.com/2024/05/24/ARTI1t3LV1vj3Hi3s863pEVN240524.shtml'\n",
    "response = requests.get(page_url,headers=get_random_headers())\n",
    "response.encoding = 'utf-8'\n",
    "content = response.text\n",
    "content"
   ]
  },
  {
   "cell_type": "code",
   "execution_count": 14,
   "metadata": {},
   "outputs": [],
   "source": [
    "html = etree.HTML(content,parser=etree.HTMLParser())\n"
   ]
  },
  {
   "cell_type": "code",
   "execution_count": 15,
   "metadata": {},
   "outputs": [
    {
     "data": {
      "text/plain": [
       "'缩短从“枝头”到“舌尖”的距离 “高铁+”助力农产品抢“鲜”上市'"
      ]
     },
     "execution_count": 15,
     "metadata": {},
     "output_type": "execute_result"
    }
   ],
   "source": [
    "title = html.xpath('//*[@id=\"title_area\"]/h1/text()')[0]\n",
    "title"
   ]
  },
  {
   "cell_type": "code",
   "execution_count": 16,
   "metadata": {},
   "outputs": [
    {
     "data": {
      "text/plain": [
       "'ARTI1t3LV1vj3Hi3s863pEVN240524'"
      ]
     },
     "execution_count": 16,
     "metadata": {},
     "output_type": "execute_result"
    }
   ],
   "source": [
    "tag = page_url.split('/')[-1].split('.')[0]\n",
    "tag"
   ]
  },
  {
   "cell_type": "code",
   "execution_count": 19,
   "metadata": {},
   "outputs": [
    {
     "data": {
      "text/plain": [
       "'2024年05月24日 17:05:34'"
      ]
     },
     "execution_count": 19,
     "metadata": {},
     "output_type": "execute_result"
    }
   ],
   "source": [
    "time = html.xpath('//*[@id=\"title_area\"]/div[2]/text()')[0]\n",
    "time = ' '.join(time.split()[-2:])\n",
    "time"
   ]
  },
  {
   "cell_type": "code",
   "execution_count": 21,
   "metadata": {},
   "outputs": [
    {
     "data": {
      "text/plain": [
       "'来源：央视网'"
      ]
     },
     "execution_count": 21,
     "metadata": {},
     "output_type": "execute_result"
    }
   ],
   "source": [
    "source = html.xpath('//*[@id=\"title_area\"]/div[1]/text()')[0].split()[0]\n",
    "source"
   ]
  },
  {
   "cell_type": "code",
   "execution_count": 22,
   "metadata": {},
   "outputs": [
    {
     "data": {
      "text/plain": [
       "['近期，山西省运城、临汾等地的樱桃陆续成熟上市。为了缩短新鲜樱桃从产地到消费者手中的时间，太原铁路部门推出樱桃高铁快运服务，实现生鲜“当日达”。',\n",
       " '在运城市临猗县的一处樱桃种植基地，果农们忙着采摘。樱桃果皮娇嫩、怕磕碰、不耐储存，对运输时效和运输环境有很高的要求。为此，农户和铁路部门合作，通过高铁快运让消费者可以品尝到新鲜樱桃。',\n",
       " '樱桃种植户李林红表示，早上采摘，下午客户就能吃上樱桃，非常鲜、非常美。',\n",
       " '太原铁路部门在临汾、侯马、运城三地的高铁站开辟上站绿色通道，利用不载客的高铁确认车、预留车厢和日常有快递业务的50余趟高铁动车组进行樱桃快运。同时，各高铁车站安排专人负责，确保樱桃快速转运、快速安检、快速装车。',\n",
       " '5月以来，已有10余吨山西运城、临汾等地的樱桃通过高铁快速送达北京、天津、上海、成都等地区。']"
      ]
     },
     "execution_count": 22,
     "metadata": {},
     "output_type": "execute_result"
    }
   ],
   "source": [
    "news_content = html.xpath('//*[@id=\"content_area\"]/p/text()')\n",
    "news_content = [s.strip() for s in news_content]\n",
    "news_content = [s for s in news_content if s]\n",
    "news_content"
   ]
  },
  {
   "cell_type": "code",
   "execution_count": 23,
   "metadata": {},
   "outputs": [],
   "source": [
    "news_img_nodes = html.xpath('//*[@id=\"content_area\"]/p[contains(@class,\"photo\") and contains(@style,\"text\") and img]')\n",
    "news_img_desc_nodes = html.xpath('//*[@id=\"content_area\"]/p[contains(@class,\"photo\") and contains(@style,\"text\") and not(*)]')\n",
    "news_content_nodes = html.xpath('//*[@id=\"content_area\"]/p')\n"
   ]
  },
  {
   "cell_type": "code",
   "execution_count": 25,
   "metadata": {},
   "outputs": [
    {
     "data": {
      "text/plain": [
       "[<Element p at 0x12f2e8800>,\n",
       " <Element p at 0x12f2eb4c0>,\n",
       " <Element p at 0x12f2e83c0>]"
      ]
     },
     "execution_count": 25,
     "metadata": {},
     "output_type": "execute_result"
    }
   ],
   "source": []
  },
  {
   "cell_type": "code",
   "execution_count": 28,
   "metadata": {},
   "outputs": [
    {
     "ename": "IndexError",
     "evalue": "list index out of range",
     "output_type": "error",
     "traceback": [
      "\u001b[0;31m---------------------------------------------------------------------------\u001b[0m",
      "\u001b[0;31mIndexError\u001b[0m                                Traceback (most recent call last)",
      "Cell \u001b[0;32mIn[28], line 11\u001b[0m\n\u001b[1;32m      9\u001b[0m     \u001b[38;5;28mprint\u001b[39m(\u001b[38;5;124m\"\u001b[39m\u001b[38;5;124mimg_desc\u001b[39m\u001b[38;5;124m\"\u001b[39m,img_desc)\n\u001b[1;32m     10\u001b[0m \u001b[38;5;28;01melse\u001b[39;00m:\n\u001b[0;32m---> 11\u001b[0m     text \u001b[38;5;241m=\u001b[39m \u001b[43mnode\u001b[49m\u001b[38;5;241;43m.\u001b[39;49m\u001b[43mxpath\u001b[49m\u001b[43m(\u001b[49m\u001b[38;5;124;43m'\u001b[39;49m\u001b[38;5;124;43mtext()\u001b[39;49m\u001b[38;5;124;43m'\u001b[39;49m\u001b[43m)\u001b[49m\u001b[43m[\u001b[49m\u001b[38;5;241;43m0\u001b[39;49m\u001b[43m]\u001b[49m\u001b[38;5;241m.\u001b[39mstrip()\n\u001b[1;32m     12\u001b[0m     content\u001b[38;5;241m.\u001b[39mappend({\u001b[38;5;124m'\u001b[39m\u001b[38;5;124mtype\u001b[39m\u001b[38;5;124m'\u001b[39m:\u001b[38;5;124m'\u001b[39m\u001b[38;5;124mtext\u001b[39m\u001b[38;5;124m'\u001b[39m,\u001b[38;5;124m'\u001b[39m\u001b[38;5;124mdata\u001b[39m\u001b[38;5;124m'\u001b[39m:text})\n",
      "\u001b[0;31mIndexError\u001b[0m: list index out of range"
     ]
    }
   ],
   "source": [
    "content = []\n",
    "for node in news_content_nodes:\n",
    "    if node in news_img_nodes: #取出图片链接\n",
    "        img_url = 'https:' + node.xpath('img/@src')[0]\n",
    "        content.append({'type':'img_url','data':img_url})\n",
    "    elif node in news_img_desc_nodes:\n",
    "        img_desc = node.xpath('text()')[0].strip()\n",
    "        content.append({'type':'img_desc','data':img_desc})\n",
    "        print(\"img_desc\",img_desc)\n",
    "    else:\n",
    "        text = node.xpath('text()')\n",
    "        if text:\n",
    "            text = text[0].strip()\n",
    "            content.append({'type':'text','data':text})"
   ]
  },
  {
   "cell_type": "code",
   "execution_count": 55,
   "metadata": {},
   "outputs": [
    {
     "data": {
      "text/plain": [
       "[{'type': 'text',\n",
       "  'data': '“今年公司试水了货运包机出口业务，这将成为我们外贸的主要增长点。”新疆喀什中顺电子商务有限公司负责人张琪“五一”假期后，马不停蹄地在疆外出差，学经验、请人才。下半年，张琪准备大展手脚，至少完成50个班次货运包机业务，力争公司外贸额翻一番。'},\n",
       " {'type': 'img_url',\n",
       "  'data': 'https://p3.img.cctvpic.com/photoworkspace/contentimg/2024/05/22/2024052220435240761.png'},\n",
       " {'type': 'img_desc',\n",
       "  'data': '4月26日，乌鲁木齐—萨莱诺中欧班列顺利开行，这标志着新疆中欧班列境外南通道跨“两海”线路成功运行。吴奇摄'},\n",
       " {'type': 'text',\n",
       "  'data': '外贸企业创新、引才、拓市场，口岸货畅、人忙、贸易兴，是新疆外贸形势持续向好的缩影。前4月，新疆外贸进出口总值1379亿元人民币，同比增长49.5%，增速居全国第2位，连续30个月保持正增长，开放优势不断释放，再现着“使者相望于道，商旅不绝于途”的古丝路繁华。'},\n",
       " {'type': 'text', 'data': ''},\n",
       " {'type': 'text', 'data': ''},\n",
       " {'type': 'text',\n",
       "  'data': '5月15日，一辆运载着香蕉、柑橘等水果的冷藏厢式货车抵达霍尔果斯公路口岸，在“口岸直通”作业模式下，从装运上车到通关出境仅用1小时，当天就能出现在哈萨克斯坦阿拉木图市民的餐桌上。'},\n",
       " {'type': 'text',\n",
       "  'data': '“口岸直通”模式由乌鲁木齐海关创新推出，去年11月，该模式在阿拉山口公路口岸正式运行，车辆平均通行时间从34.5小时压缩到5小时。当前，这项改革正逐渐推广到全疆。'},\n",
       " {'type': 'img_url',\n",
       "  'data': 'https://p5.img.cctvpic.com/photoworkspace/contentimg/2024/05/22/2024052220435223190.png'},\n",
       " {'type': 'img_desc', 'data': '霍尔果斯公路口岸，等待通关的汽车。人民网 李欣洋摄'},\n",
       " {'type': 'text',\n",
       "  'data': '霍尔果斯海关副关长陈鹏德介绍，通过推出提前申报和集中查验，配套数据自动提取、多国车牌智能识别等科技手段，从根本上提高了公路口岸出口货物的时效性。据统计，前3月，霍尔果斯公路口岸出口果蔬11.2万吨，同比增长6.9倍。'},\n",
       " {'type': 'text', 'data': '不仅仅是通关时效，该模式也给企业带来了真金白银的甜头。'},\n",
       " {'type': 'text',\n",
       "  'data': '“启用新模式后，每车运输成本可减少1000元左右。”说起该项改革的好处，新疆乐果果业有限公司负责人张朋亮算了一笔“经济账”，“目前已累计为企业节约成本超160万元，实现效益和效率的双向奔赴。”'},\n",
       " {'type': 'img_url',\n",
       "  'data': 'https://p2.img.cctvpic.com/photoworkspace/contentimg/2024/05/22/2024052220435285125.png'},\n",
       " {'type': 'img_desc',\n",
       "  'data': '5月10日，一辆满载苹果的冷链运输车从乌鲁木齐市发车前往哈萨克斯坦阿拉木图市。这是新疆首次实现果蔬冷链卡航直达中亚市场。图为乌昌海关关员对冷链卡航模式出口鲜苹果进行验放。杨逸萌摄'},\n",
       " {'type': 'text',\n",
       "  'data': '口岸是外贸发展的生命线。通关效能的提升，让经贸走得更远。前四月，新疆与197个国家和地区产生贸易往来，对东盟、RCEP其他成员国、非洲、拉美均实现3倍以上的出口增速，贸易伙伴更趋多元。'},\n",
       " {'type': 'text', 'data': ''},\n",
       " {'type': 'text', 'data': ''},\n",
       " {'type': 'text',\n",
       "  'data': '今年以来，中国新疆持续巩固与周边国家互访交流成果，以中亚五国为重点，积极主动深化与共建“一带一路”国家全面交流合作，扩大高水平向西开放。'},\n",
       " {'type': 'text',\n",
       "  'data': '3月末，自治区政府代表团访问中亚三国。乌鲁木齐海关党委委员、副关长李清华也是代表团成员之一，谈及最大感受，她坦言：“中亚国家对中国的认可度越来越高。”'},\n",
       " {'type': 'img_url',\n",
       "  'data': 'https://p2.img.cctvpic.com/photoworkspace/contentimg/2024/05/22/2024052220435213448.png'},\n",
       " {'type': 'img_desc', 'data': '阿拉山口口岸，跨国司机努尔江的货车装车完毕。人民网记者 陈新辉摄'},\n",
       " {'type': 'text', 'data': '认可度在“中国制造”方面体现得格外明显。'},\n",
       " {'type': 'text',\n",
       "  'data': '“这次我的目的地是阿塞拜疆巴库。”5月9日，来自哈萨克斯坦的跨国货车司机努尔江风尘仆仆地从哈萨克斯坦阿拉木图市赶到中国新疆阿拉山口市。'},\n",
       " {'type': 'text',\n",
       "  'data': '努尔江是一家国际物流有限公司在阿拉木图市签约车队的货车司机。5月13日，他和其他司机陆续出发，将68辆新能源车运到吉尔吉斯斯坦、阿塞拜疆、白俄罗斯等地。'},\n",
       " {'type': 'text',\n",
       "  'data': '“我们在路上经常看到中国的新能源车，这种车外观科技感足，性价比高，在我常去的那些国家属于‘网红车’。”努尔江说，现在，他们运送新能源车的频次比去年高了一倍。'},\n",
       " {'type': 'text',\n",
       "  'data': '这一增长在该物流公司副总经孔祥林那里得到印证：“公司前不久签了个大单，从5月开始，每月要运输100辆新能源车到共建‘一带一路’国家，我们预计承接运输出口的新能源车数量比去年增长300%左右。”'},\n",
       " {'type': 'text', 'data': '在霍尔果斯口岸，电动汽车出口同样迎来暴增，前3月同比增长了3倍多，达到2.2万辆；'},\n",
       " {'type': 'text', 'data': '334辆，398辆，400辆……在百年口岸巴克图，今年以来，单日出口商品车连创新高；'},\n",
       " {'type': 'img_url',\n",
       "  'data': 'https://p4.img.cctvpic.com/photoworkspace/contentimg/2024/05/22/2024052220435263477.png'},\n",
       " {'type': 'img_desc', 'data': '阿拉山口站编组场内停靠着待发的中欧班列及其他出入境货物列车。人民网 李欣洋摄'},\n",
       " {'type': 'text',\n",
       "  'data': '前4月，新疆电动汽车、光伏产品、锂电池等“新三样”产品出口值同比增长152.1%，成为新疆外贸新动能的重要组成部分。'},\n",
       " {'type': 'text',\n",
       "  'data': '新疆大学经济与管理学院教授古丽娜尔·玉素甫表示，“新三样”不仅是新疆未来产业发展的重要方向，也是经济增长的新动力，将带动相关产业链上下游协同发展。'},\n",
       " {'type': 'text', 'data': ''},\n",
       " {'type': 'text', 'data': ''},\n",
       " {'type': 'text', 'data': '在中国西部边境小城霍尔果斯，跨境电商直播如火如荼。'},\n",
       " {'type': 'text',\n",
       "  'data': '“市面上的五金产品，在我直播间都可以买到，都是‘中国制造’。”主播阿依格热木·哈比别克正在用俄语、哈萨克语等多种语言进行跨境直播带货。'},\n",
       " {'type': 'text',\n",
       "  'data': '阿依格热木来自哈萨克斯坦雅尔肯特市，长期在中哈霍尔果斯国际边境合作中心从事跨境贸易工作：“在我们那里，跨国上班正成为潮流。”'},\n",
       " {'type': 'img_url',\n",
       "  'data': 'https://p3.img.cctvpic.com/photoworkspace/contentimg/2024/05/22/2024052220435226302.png'},\n",
       " {'type': 'img_desc', 'data': '主播正在霍尔果斯义乌国际商贸城直播。李勇摄'},\n",
       " {'type': 'text',\n",
       "  'data': '2023年春天，霍尔果斯义乌国际商贸城开始开展跨境电商直播业务，正在招兵买马的时候，阿依格热木看准机会，于同年6月正式上岗直播带货，成为该公司第一位国际主播。掌握多种语言的她很快就拥有了一大波粉丝。'},\n",
       " {'type': 'text',\n",
       "  'data': '霍尔果斯义乌国际商贸城（有限公司）董事长金兴忠介绍：目前公司拥有20多位“国际主播”，用7种语言向中亚地区和俄罗斯消费者介绍中国商品。中国（新疆）自由贸易试验区的揭牌为该公司带来了新机遇，一季度公司跨境电商直播进出口贸易额比去年四季度增长83.33%。'},\n",
       " {'type': 'text',\n",
       "  'data': '古丽娜尔·玉素甫说，中国（新疆）自由贸易试验区的设立，将自贸试验区的制度优势和新疆通道基础、口岸基础、交流基础的优势进行叠加，充分释放出外贸的发展动能。'},\n",
       " {'type': 'text',\n",
       "  'data': '这一提法在伊犁州交出的外贸“成绩单”中得到了印证：前4月，伊犁州进出口增长129.7%，占同期新疆外贸总值的26.1%，居全疆第一。'},\n",
       " {'type': 'text', 'data': '随着新疆对外开放的不断扩大，新的跨境经贸合作样板还在不断涌现，优势转化为发展动能的故事还在继续。'},\n",
       " {'type': 'text',\n",
       "  'data': '锚定在国家全局中的五大战略定位，不断把区位优势转化为发展优势、竞争优势，打造亚欧黄金通道和向西开放桥头堡——新疆，大有可为！'}]"
      ]
     },
     "execution_count": 55,
     "metadata": {},
     "output_type": "execute_result"
    }
   ],
   "source": [
    "content"
   ]
  },
  {
   "cell_type": "code",
   "execution_count": 168,
   "metadata": {},
   "outputs": [
    {
     "data": {
      "text/plain": [
       "['编辑：甄涛', '责任编辑：刘亮']"
      ]
     },
     "execution_count": 168,
     "metadata": {},
     "output_type": "execute_result"
    }
   ],
   "source": [
    "author = html.xpath('//*[@id=\"page_body\"]/div[1]/div[3]/div[1]/span/text()')\n",
    "author"
   ]
  },
  {
   "cell_type": "code",
   "execution_count": 2,
   "metadata": {},
   "outputs": [
    {
     "data": {
      "text/plain": [
       "{'title': '中欧班列累计开行突破9万列！',\n",
       " 'tag': 'ARTIVdnhTY7Pv5Wigb0WoN8A240525',\n",
       " 'time': '2024年05月25日 08:49:33',\n",
       " 'content': [{'type': 'text-blod', 'data': '央视网消息'},\n",
       "  {'type': 'text',\n",
       "   'data': '：2024年5月25日8时40分，随着X8157次中欧班列（西安—马拉舍维奇）从西安国际港站开出，至此中欧班列累计开行突破9万列，发送货物超870万标箱、货值超3800亿美元，保持安全稳定畅通运行。'},\n",
       "  {'type': 'img_url',\n",
       "   'data': 'https://p5.img.cctvpic.com/photoworkspace/contentimg/2024/05/25/2024052509095154229.jpg'},\n",
       "  {'type': 'text-blod', 'data': '开行规模不断扩大'},\n",
       "  {'type': 'text',\n",
       "   'data': '。中欧班列是新型国际运输组织方式，具有便利快捷、安全稳定、绿色经济等显著优势，已成为广受欢迎的国际公共产品，开行数量保持强劲增长态势，特别是2016年统一品牌后，中欧班列迎来了规范开行、快速发展新阶段。2016年至2023年，中欧班列年开行数量由1702列增加到超1.7万列，增长近10倍，年均增长39.5%。开行万列所需时间由开行之初的90个月缩短为现在的7个月。自2020年5月起，中欧班列已连续48个月单月开行数量保持在千列以上。中欧班列年运输货值由2016年80亿美元增长到2023年的567亿美元。货物品类由开行初期的笔记本电脑、打印机等IT产品，逐步扩大到服装鞋帽、汽车及配件、日用百货、食品、木材、家具、化工品、机械设备等53大类5万余种。2023年以来，中国制造“新三样”——新能源汽车、锂离子电池产品和光伏产品正在成为中欧班列运量新的增长点，市场需求旺盛，目前中欧班列综合重箱率稳定在100%。'},\n",
       "  {'type': 'text-blod', 'data': '通道能力持续增强'},\n",
       "  {'type': 'text',\n",
       "   'data': '。在国内，先后实施了兰新铁路精河至阿拉山口段增建二线、满洲里口岸国际货场、沈阳蒲河站等一批铁路口岸站、发运站扩能改造及铁路通道补短板项目，经阿拉山口、霍尔果斯、二连浩特、满洲里、绥芬河、同江北六大口岸出境的西、中、东三条运输主通道运输能力大幅提升，时速120公里图定中欧班列运行线已达87条，联通中国境内122个城市。在境外，在巩固和稳定既有入欧主要通道基础上，探索开辟了跨里海、黑海的南通道新径路，陆续开行义乌、乌鲁木齐等地至土耳其伊斯坦布尔、意大利萨莱诺等地的南通道中欧班列，“畅通高效、多向延伸、海陆互联”的境外通道网络格局日益成熟。中欧班列与西部陆海新通道、中老铁路等实现有序衔接，进一步拓展了中欧班列运输服务网络。截至目前，中欧班列已通达欧洲25个国家223个城市，连接11个亚洲国家超过100个城市，服务网络基本覆盖欧亚全境。'},\n",
       "  {'type': 'text-blod', 'data': '运行品质稳步提升'},\n",
       "  {'type': 'text',\n",
       "   'data': '。根据中欧班列境内外运输组织特点，创新运输组织模式，将时速120公里中欧班列最大编组辆数和牵引质量分别提高到55辆、3000吨，国内段日运行里程可达1600公里、国外段可达1000公里，单列平均运量较开行之初提升34%以上，中国与欧洲间铁路运输时间较开行之初普遍压缩5天以上。稳定开行西安至德国杜伊斯堡、成都至波兰罗兹等全程时刻表中欧班列，全程运输时效较普通班列大幅压缩，已累计开行258列，受到客户青睐。紧密对接市场需求，优化班列产品供给，实行灵活运价策略，大力开行定制化班列，推出了邮政物资、木材、茶叶、食用油、新能源汽车专列等特色班列产品，为客户提供高品质的国际物流服务。与海关等口岸监管部门加强对接，研发投用95306数字口岸系统，积极推广铁路快速通关业务模式，中欧班列全程通关效率和便利化水平明显提升。在中欧班列沿线15个国家建立铁路箱还箱点101个，方便客户用箱还箱。积极应用北斗卫星定位、5G等新技术，落实装载加固、安检查危等措施，保障中欧班列安全稳定运行。成立中欧班列客服中心，上线中欧班列门户网站，打造“一站式”综合服务平台，7×24小时为全球客户提供联运单证处理、货物追踪、专业客服等基本服务，推出门到门运输、代理报关、综合物流、全程保险等特色增值服务，较好地满足了客户需求。'},\n",
       "  {'type': 'text-blod', 'data': '辐射效应日益凸显'},\n",
       "  {'type': 'text',\n",
       "   'data': '。中欧班列的快速发展，为亚欧内陆地区开辟了开放新通道，搭建了沿线经贸合作新平台，推动相关国家和地区更好融入开放型世界经济，极大增进了沿线民生福祉。中欧班列让更多电子产品、家电、新能源汽车等“中国制造”以更快速度、更优价格到达欧洲，大大提升了欧洲消费者福利，也为欧洲生产商和贸易商进入中国市场开辟了贸易新通道。中欧班列有力带动了我国内陆城市的对外开放，一些不靠海不沿边的城市依托中欧班列，逐步发展成为对外开放新高地。中欧班列助力重庆外向型产业产值实现年均30%的增长，为成都进出口商品交易中心、郑州现代化国际物流中心建设提供了有力支撑，助推义乌实现从“买卖全国”到“买卖全球”的转型升级。中欧班列催生了许多新的物流、工业、商贸中心、产业园区，为当地民众提供大量就业机会。德国杜伊斯堡港因中欧班列的开通吸引了上百家物流企业落户，创造了2万多个就业机会。中欧班列的开行让波兰马拉舍维奇口岸站业务量成倍增长，极大促进了当地经济社会发展。新冠疫情期间，中欧班列始终保持安全畅通，充分发挥了战略通道作用，累计向德国、波兰、比利时等欧洲国家运送防疫物资1362万件，超过10万吨，成为名副其实的“生命通道”，生动诠释了守望相助、休戚与共的人类命运共同体理念。'}],\n",
       " 'author': ['编辑：钱景童', '责任编辑：刘亮'],\n",
       " 'source': '来源：央视网'}"
      ]
     },
     "execution_count": 2,
     "metadata": {},
     "output_type": "execute_result"
    }
   ],
   "source": [
    "from scrapy import Scrapy\n",
    "\n",
    "scr = Scrapy(None)\n",
    "scr.page_parse('https://news.cctv.com/2024/05/25/ARTIVdnhTY7Pv5Wigb0WoN8A240525.shtml')"
   ]
  },
  {
   "cell_type": "code",
   "execution_count": 37,
   "metadata": {},
   "outputs": [
    {
     "data": {
      "text/plain": [
       "[]"
      ]
     },
     "execution_count": 37,
     "metadata": {},
     "output_type": "execute_result"
    }
   ],
   "source": [
    "response = requests.get('https://news.cctv.com/2024/05/25/ARTIVdnhTY7Pv5Wigb0WoN8A240525.shtml')\n",
    "response.encoding = 'utf-8'\n",
    "html = etree.HTML(response.text,etree.HTMLParser())\n",
    "html.xpath('//*[@id=\"content_area\" or @id=\"text_area\"]/p[contains(@class,\"photo\") and contains(@style,\"text\") and not(*)]')\n",
    "\n"
   ]
  }
 ],
 "metadata": {
  "kernelspec": {
   "display_name": "pytorch",
   "language": "python",
   "name": "python3"
  },
  "language_info": {
   "codemirror_mode": {
    "name": "ipython",
    "version": 3
   },
   "file_extension": ".py",
   "mimetype": "text/x-python",
   "name": "python",
   "nbconvert_exporter": "python",
   "pygments_lexer": "ipython3",
   "version": "3.10.0"
  }
 },
 "nbformat": 4,
 "nbformat_minor": 2
}
